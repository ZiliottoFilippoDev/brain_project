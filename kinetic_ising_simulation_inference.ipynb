{
 "cells": [
  {
   "cell_type": "code",
   "execution_count": 1,
   "id": "becoming-berkeley",
   "metadata": {},
   "outputs": [],
   "source": [
    "import numpy as np\n",
    "import matplotlib.pyplot as plt\n",
    "from tqdm import tqdm"
   ]
  },
  {
   "cell_type": "markdown",
   "id": "formal-collectible",
   "metadata": {},
   "source": [
    "## Kinetic Ising Model simulation\n",
    "Ising model with $N$ spins $\\{-1,1\\}$, cuplings matrix $J_{ij}$ and external field $h_i$. \n",
    "\n",
    "At each time step $\\delta t$ each spin $s_i$ flips with a probability \n",
    "$$p_{flip} = \\gamma \\delta t \\frac 1 2 [1-s_i(t)\\tanh H_i(t)] \\quad with \\quad\n",
    "H_i = h_i + \\sum_{j \\ne i} J_{ij}s_j(t)$$"
   ]
  },
  {
   "cell_type": "markdown",
   "id": "optical-latin",
   "metadata": {},
   "source": [
    "## Simulation"
   ]
  },
  {
   "cell_type": "code",
   "execution_count": 2,
   "id": "colored-classics",
   "metadata": {},
   "outputs": [],
   "source": [
    "def simulation(J,h,gamma,steps,dt):\n",
    "    S = [-np.ones(N)]\n",
    "    for i in tqdm(range(1,steps)):\n",
    "        s = np.copy(S[-1])\n",
    "        H = h + np.dot(J,s)\n",
    "        p_flip = gamma*dt*0.5*(1-s*np.tanh(H))\n",
    "        p = np.random.rand(N)\n",
    "        s[p<p_flip]*=-1\n",
    "        S.append(s)\n",
    "    S = np.array(S).T\n",
    "    return S"
   ]
  },
  {
   "cell_type": "code",
   "execution_count": 3,
   "id": "attempted-prospect",
   "metadata": {},
   "outputs": [
    {
     "name": "stderr",
     "output_type": "stream",
     "text": [
      "100%|██████████| 99999/99999 [00:02<00:00, 35967.69it/s]\n"
     ]
    }
   ],
   "source": [
    "np.random.seed(201098)\n",
    "\n",
    "N = 100\n",
    "#########################################\n",
    "J = np.random.normal(0,1,(N,N))\n",
    "np.fill_diagonal(J,0)\n",
    "h = np.random.normal(0,1,N)\n",
    "\n",
    "p_real = np.concatenate((J.flatten(),h))\n",
    "##########################################\n",
    "gamma = 1\n",
    "steps = 100_000#1_000_000\n",
    "dt = 0.1\n",
    "##########################################\n",
    "##SIMULATION\n",
    "S = simulation(J,h,gamma,steps,dt)\n",
    "\n",
    "filename = 'DATA/spins_N'+str(N)+'_steps'+str(steps)+'_dt'+str(dt)+'_gamma'+str(gamma)+'.npy'\n",
    "np.save(filename,S)"
   ]
  },
  {
   "cell_type": "code",
   "execution_count": 4,
   "id": "hazardous-ground",
   "metadata": {},
   "outputs": [
    {
     "data": {
      "text/plain": [
       "Text(0.5, 1.0, 'Spin evlolution in time. [$s_i=1$ yellow, $s_i=-1$ blue]')"
      ]
     },
     "execution_count": 4,
     "metadata": {},
     "output_type": "execute_result"
    },
    {
     "data": {
      "image/png": "[encoded data removed]",
      "text/plain": [
       "<Figure size 1080x360 with 1 Axes>"
      ]
     },
     "metadata": {
      "needs_background": "light"
     },
     "output_type": "display_data"
    }
   ],
   "source": [
    "plt.figure(figsize=(15,5))\n",
    "plt.imshow(S[:10,:],aspect = 'auto', cmap = 'binary', interpolation = 'None')\n",
    "plt.xlabel('time')\n",
    "plt.ylabel(r'$s_i$')\n",
    "plt.title(r'Spin evlolution in time. [$s_i=1$ yellow, $s_i=-1$ blue]')"
   ]
  },
  {
   "cell_type": "markdown",
   "id": "indonesian-emission",
   "metadata": {},
   "source": [
    "### NB\n",
    "$S$ is $S_{it}$ "
   ]
  },
  {
   "cell_type": "markdown",
   "id": "cognitive-silver",
   "metadata": {},
   "source": [
    "## Inference\n",
    "\n",
    "### Equations\n",
    "\n",
    "$$\n",
    "\\dot C_{ij} = \\delta t ^{-1} \\cdot [\\langle s_i(t+\\delta t)\\cdot s_j(t) \\rangle_{t} - C_{i,j}] \\\\\n",
    "C_{ij} = \\langle s_i(t)\\cdot s_j(t) \\rangle_{t} \\\\\n",
    "L = \\frac 1 {N_t} \\sum_t\\sum_i \\Big[ h_i\\cdot s_i(t) + \\big[\\sum_{j\\ne i} J_{ij}\\cdot (\\gamma^{-1}\\dot{C_{ij}} + C_{ij})\\big] - \\log \\cosh H_i(t)\\Big]\n",
    "$$"
   ]
  },
  {
   "cell_type": "markdown",
   "id": "noticed-glory",
   "metadata": {},
   "source": [
    "### $C$ and $\\dot C$"
   ]
  },
  {
   "cell_type": "code",
   "execution_count": 5,
   "id": "practical-replacement",
   "metadata": {},
   "outputs": [],
   "source": [
    "def C_and_Cdot(S,dt):\n",
    "    N = S.shape[0]\n",
    "    C = np.dot(S, S.T)/S.shape[1]\n",
    "    C_dot = np.dot(S[:,1:], S[:,:-1].T)/(S.shape[1]-1)\n",
    "    C_dot -= C\n",
    "    C_dot /= dt\n",
    "        \n",
    "    return C,C_dot        "
   ]
  },
  {
   "cell_type": "code",
   "execution_count": 6,
   "id": "medical-consciousness",
   "metadata": {
    "scrolled": true
   },
   "outputs": [],
   "source": [
    "C,C_dot = C_and_Cdot(S,dt)"
   ]
  },
  {
   "cell_type": "code",
   "execution_count": 7,
   "id": "compatible-insert",
   "metadata": {},
   "outputs": [
    {
     "data": {
      "text/plain": [
       "(100, 100001)"
      ]
     },
     "execution_count": 7,
     "metadata": {},
     "output_type": "execute_result"
    }
   ],
   "source": [
    "S.shape"
   ]
  },
  {
   "cell_type": "markdown",
   "id": "occupational-giant",
   "metadata": {},
   "source": [
    "## L\n",
    "In order to speed up the L function we use matrices.\n",
    "\n",
    "$equations$"
   ]
  },
  {
   "cell_type": "code",
   "execution_count": 8,
   "id": "placed-still",
   "metadata": {},
   "outputs": [],
   "source": [
    "def logcosh(x):\n",
    "    #the funcion is even, the trick is to avoid e^x\n",
    "    x = np.abs(x)\n",
    "    return np.log(1/2) + x + np.log(1 + np.exp(-2*x))\n",
    "\n",
    "#versione ottimizzata della funzione (e' super piu veloce); sfrutta numpy e le matrici\n",
    "def L(p,S,C,C_dot,gamma):\n",
    "    N_t = S.shape[1]\n",
    "    N = S.shape[0]\n",
    "    \n",
    "    # p are the params, S is the spins history\n",
    "    J = p[:N*N].reshape((N,N))     # NxN matrix\n",
    "    np.fill_diagonal(J,0)          #removing the diagonal terms for easier sums\n",
    "    h = p[N*N:]                    # N vector\n",
    "    \n",
    "    #### A #####\n",
    "    A = np.dot(S.T,h)\n",
    "    A = np.mean(A)\n",
    "    \n",
    "    #### B #####\n",
    "    B = J*(C_dot/gamma + C)\n",
    "    B = np.sum(B)\n",
    "    \n",
    "    #### C #####\n",
    "    C = np.tile(h,(N_t,1)).T\n",
    "    C += np.dot(J,S)\n",
    "    C = - logcosh(C)\n",
    "    C = np.mean(np.sum(C,axis=0))\n",
    "    \n",
    "    L = A+B+C\n",
    "    return L"
   ]
  },
  {
   "cell_type": "code",
   "execution_count": 9,
   "id": "growing-purchase",
   "metadata": {},
   "outputs": [],
   "source": [
    "#generating random parameters\n",
    "np.random.seed(234)\n",
    "p = np.random.normal(0,1,N*N+N)"
   ]
  },
  {
   "cell_type": "code",
   "execution_count": 10,
   "id": "configured-place",
   "metadata": {},
   "outputs": [
    {
     "name": "stdout",
     "output_type": "stream",
     "text": [
      "CPU times: user 429 ms, sys: 84.6 ms, total: 513 ms\n",
      "Wall time: 436 ms\n"
     ]
    },
    {
     "data": {
      "text/plain": [
       "-755.7987002991665"
      ]
     },
     "execution_count": 10,
     "metadata": {},
     "output_type": "execute_result"
    }
   ],
   "source": [
    "%time L(p,S,C,C_dot,gamma)"
   ]
  },
  {
   "cell_type": "markdown",
   "id": "distributed-mining",
   "metadata": {},
   "source": [
    "## Gradinent\n",
    "$$\n",
    "\\frac {\\partial L}{\\partial h_i} = \\langle s_i(t) - \\tanh{H_i(t)} \\rangle_t \\\\\n",
    "\\frac {\\partial L}{\\partial J_{ij}} = \\gamma ^ {-1} \\dot{C_{ij}} + C_{ij} - \\langle \\tanh{(H_i(t))}s_j(t)  \\rangle_t\n",
    "$$\n",
    "\n",
    "Also in this case we use matrices to speed up the computation"
   ]
  },
  {
   "cell_type": "code",
   "execution_count": 11,
   "id": "mineral-motion",
   "metadata": {},
   "outputs": [],
   "source": [
    "def grad_L(p,S,C,C_dot,gamma):\n",
    "    N_t = S.shape[1]\n",
    "    N = S.shape[0]\n",
    "    \n",
    "    # p are the params, S is the spins history\n",
    "    J = p[:N*N].reshape((N,N))     # NxN matrix\n",
    "    np.fill_diagonal(J,0)          #removing the diagonal terms for easier sums\n",
    "    h = p[N*N:]                    # N vector\n",
    "    \n",
    "    #grad wrt h\n",
    "    H = (h + np.dot(J,S).T).T\n",
    "    G_1 = np.mean(S-np.tanh(H),axis=1)\n",
    "    \n",
    "    #grad wrt J\n",
    "    G_0 = C_dot/gamma + C\n",
    "    G_0 -= (np.dot(np.tanh(H),S.T))/N_t\n",
    "    \n",
    "    #new\n",
    "    np.fill_diagonal(G_0,0)\n",
    "    return np.concatenate((G_0.flatten(),G_1))\n",
    "    "
   ]
  },
  {
   "cell_type": "markdown",
   "id": "purple-october",
   "metadata": {},
   "source": [
    "## Test the gradient"
   ]
  },
  {
   "cell_type": "code",
   "execution_count": 12,
   "id": "final-attendance",
   "metadata": {},
   "outputs": [
    {
     "name": "stdout",
     "output_type": "stream",
     "text": [
      "-0.0729427905720943\n",
      "-0.07294347597053275\n"
     ]
    }
   ],
   "source": [
    "param = 1\n",
    "\n",
    "x = np.ones(N*N + N) + 10\n",
    "dx = 0.00001\n",
    "print(grad_L(x,S,C,C_dot,gamma)[param])\n",
    "y_i = L(x,S,C,C_dot,gamma)\n",
    "x[param]+=dx\n",
    "y_f = L(x,S,C,C_dot,gamma)\n",
    "print((y_f-y_i)/dx)"
   ]
  },
  {
   "cell_type": "markdown",
   "id": "immediate-defense",
   "metadata": {},
   "source": [
    "### Maximization"
   ]
  },
  {
   "cell_type": "markdown",
   "id": "criminal-jumping",
   "metadata": {},
   "source": [
    "### SGA"
   ]
  },
  {
   "cell_type": "code",
   "execution_count": 15,
   "id": "circular-underwear",
   "metadata": {
    "scrolled": false
   },
   "outputs": [
    {
     "name": "stderr",
     "output_type": "stream",
     "text": [
      "100%|██████████| 150/150 [02:43<00:00,  1.09s/it]"
     ]
    },
    {
     "name": "stdout",
     "output_type": "stream",
     "text": [
      "MSE:  6519.353068478515\n"
     ]
    },
    {
     "name": "stderr",
     "output_type": "stream",
     "text": [
      "\n"
     ]
    },
    {
     "data": {
      "text/plain": [
       "[<matplotlib.lines.Line2D at 0x7f1284f0c0a0>]"
      ]
     },
     "execution_count": 15,
     "metadata": {},
     "output_type": "execute_result"
    },
    {
     "data": {
      "image/png": "[encoded data removed]",
      "text/plain": [
       "<Figure size 432x288 with 1 Axes>"
      ]
     },
     "metadata": {
      "needs_background": "light"
     },
     "output_type": "display_data"
    },
    {
     "data": {
      "image/png": "[encoded data removed]",
      "text/plain": [
       "<Figure size 432x288 with 1 Axes>"
      ]
     },
     "metadata": {
      "needs_background": "light"
     },
     "output_type": "display_data"
    }
   ],
   "source": [
    "np.random.seed(1234)\n",
    "l_r = 0.2\n",
    "STEPS = 150\n",
    "p_0 = np.random.normal(0,2,N*N+N)\n",
    "\n",
    "ris = [L(p_0,S,C,C_dot,gamma)]\n",
    "for i in tqdm(range(STEPS)):\n",
    "    p_0 += l_r*grad_L(p_0,S,C,C_dot,gamma)\n",
    "    ris.append(L(p_0,S,C,C_dot,gamma))\n",
    "    if ris[-1]<ris[-2]: break\n",
    "\n",
    "print('MSE: ',np.sum((p_0-p_real)**2))  \n",
    "plt.plot(ris)\n",
    "plt.figure()\n",
    "plt.plot(p_0,p_real,'o')\n",
    "plt.plot([min(p_real),max(p_real)],[min(p_real),max(p_real)],'--',color ='red')"
   ]
  },
  {
   "cell_type": "markdown",
   "id": "dried-nitrogen",
   "metadata": {},
   "source": [
    "### NAG"
   ]
  },
  {
   "cell_type": "code",
   "execution_count": 16,
   "id": "lined-pickup",
   "metadata": {},
   "outputs": [
    {
     "name": "stderr",
     "output_type": "stream",
     "text": [
      "100%|██████████| 150/150 [02:44<00:00,  1.09s/it]"
     ]
    },
    {
     "name": "stdout",
     "output_type": "stream",
     "text": [
      "MSE:  2260.8106236716067\n"
     ]
    },
    {
     "name": "stderr",
     "output_type": "stream",
     "text": [
      "\n"
     ]
    },
    {
     "data": {
      "text/plain": [
       "[<matplotlib.lines.Line2D at 0x7f1284ee7610>]"
      ]
     },
     "execution_count": 16,
     "metadata": {},
     "output_type": "execute_result"
    },
    {
     "data": {
      "image/png": "[encoded data removed]",
      "text/plain": [
       "<Figure size 432x288 with 1 Axes>"
      ]
     },
     "metadata": {
      "needs_background": "light"
     },
     "output_type": "display_data"
    },
    {
     "data": {
      "image/png": "[encoded data removed]",
      "text/plain": [
       "<Figure size 432x288 with 1 Axes>"
      ]
     },
     "metadata": {
      "needs_background": "light"
     },
     "output_type": "display_data"
    }
   ],
   "source": [
    "np.random.seed(1234)\n",
    "p_nag = np.random.normal(0,2,N*N+N)\n",
    "v = np.zeros(N*N+N)\n",
    "### PARAMS\n",
    "steps = 150\n",
    "l_r = 0.1\n",
    "fric = 0.9\n",
    "\n",
    "\n",
    "ris = [L(p_nag,S,C,C_dot,gamma)]\n",
    "for i in tqdm(range(steps)):\n",
    "    v = fric*v + l_r * (grad_L(p_nag+fric*v,S,C,C_dot,gamma))\n",
    "    p_nag += v\n",
    "    ris.append(L(p_nag,S,C,C_dot,gamma))\n",
    "\n",
    "print('MSE: ',np.sum((p_nag-p_real)**2))      \n",
    "plt.plot(ris)\n",
    "plt.figure()\n",
    "plt.plot(p_nag,p_real,'o')\n",
    "plt.plot([min(p_real),max(p_real)],[min(p_real),max(p_real)],'--',color ='red')"
   ]
  },
  {
   "cell_type": "markdown",
   "id": "palestinian-residence",
   "metadata": {},
   "source": [
    "### RMS prop"
   ]
  },
  {
   "cell_type": "code",
   "execution_count": 18,
   "id": "universal-species",
   "metadata": {
    "scrolled": false
   },
   "outputs": [
    {
     "name": "stderr",
     "output_type": "stream",
     "text": [
      "100%|██████████| 300/300 [03:17<00:00,  1.52it/s]"
     ]
    },
    {
     "name": "stdout",
     "output_type": "stream",
     "text": [
      "MSE:  9950.582046870695\n"
     ]
    },
    {
     "name": "stderr",
     "output_type": "stream",
     "text": [
      "\n"
     ]
    },
    {
     "data": {
      "text/plain": [
       "[<matplotlib.lines.Line2D at 0x7f1284e676d0>]"
      ]
     },
     "execution_count": 18,
     "metadata": {},
     "output_type": "execute_result"
    },
    {
     "data": {
      "image/png": "[encoded data removed]",
      "text/plain": [
       "<Figure size 432x288 with 1 Axes>"
      ]
     },
     "metadata": {
      "needs_background": "light"
     },
     "output_type": "display_data"
    }
   ],
   "source": [
    "p_rms = np.random.normal(0,2,N*N+N)\n",
    "s = np.zeros(N*N+N)\n",
    "### PARAMS\n",
    "steps = 300\n",
    "l_r = 0.05\n",
    "beta = 0.9\n",
    "eps = 10**(-8)\n",
    "\n",
    "#ris = [L(p_rms,S,C,C_dot,gamma)]\n",
    "for i in tqdm(range(steps)):\n",
    "    g = grad_L(p_rms,S,C,C_dot,gamma) \n",
    "    s = beta * s + (1-beta)*g*g\n",
    "    p_rms += l_r*g/np.sqrt(s+eps)                                      \n",
    "    \n",
    "    #ris.append(L(p_rms,S,C,C_dot,gamma))\n",
    "\n",
    "print('MSE: ',np.sum((p_rms-p_real)**2))      \n",
    "#plt.plot(ris)\n",
    "plt.figure()\n",
    "plt.plot(p_rms,p_real,'o')\n",
    "plt.plot([min(p_real),max(p_real)],[min(p_real),max(p_real)],'--',color ='red')"
   ]
  },
  {
   "cell_type": "markdown",
   "id": "resident-prerequisite",
   "metadata": {},
   "source": [
    "## ADAM"
   ]
  },
  {
   "cell_type": "code",
   "execution_count": 14,
   "id": "incredible-guitar",
   "metadata": {},
   "outputs": [
    {
     "name": "stderr",
     "output_type": "stream",
     "text": [
      "100%|██████████| 149/149 [01:30<00:00,  1.65it/s]"
     ]
    },
    {
     "name": "stdout",
     "output_type": "stream",
     "text": [
      "MSE:  56410.95465516484\n"
     ]
    },
    {
     "name": "stderr",
     "output_type": "stream",
     "text": [
      "\n"
     ]
    },
    {
     "data": {
      "text/plain": [
       "[<matplotlib.lines.Line2D at 0x7f1284ffd220>]"
      ]
     },
     "execution_count": 14,
     "metadata": {},
     "output_type": "execute_result"
    },
    {
     "data": {
      "image/png": "[encoded data removed]",
      "text/plain": [
       "<Figure size 432x288 with 1 Axes>"
      ]
     },
     "metadata": {
      "needs_background": "light"
     },
     "output_type": "display_data"
    }
   ],
   "source": [
    "p_adam = np.random.normal(0,2,N*N+N)\n",
    "s = np.zeros(N*N+N)\n",
    "m = np.zeros(N*N+N)\n",
    "\n",
    "s_h = np.zeros(N*N+N)\n",
    "m_h = np.zeros(N*N+N)\n",
    "\n",
    "### PARAMS\n",
    "steps = 150\n",
    "l_r = 0.1\n",
    "beta1 = 0.9\n",
    "beta2 = 0.9\n",
    "eps = 10**(-8)\n",
    "\n",
    "ris = [L(p_adam,S,C,C_dot,gamma)]\n",
    "for i in tqdm(range(1,steps)):\n",
    "    g = grad_L(p_adam,S,C,C_dot,gamma)\n",
    "    m = beta1 * m + (1-beta1)*g\n",
    "    s = beta2 * s + (1-beta2)*g*g\n",
    "    m_h = 1/(1-beta1**i)*m\n",
    "    s_h = 1/(1-beta2**i)*s\n",
    "    \n",
    "    p_adam += l_r*m_h/np.sqrt(s_h+eps)                                      \n",
    "    #ris.append(L(p_adam,S,C,C_dot,gamma))\n",
    "\n",
    "print('MSE: ',np.sum((p_adam-p_real)**2))  \n",
    "#plt.plot(ris)\n",
    "plt.figure()\n",
    "plt.plot(p_adam,p_real,'o')\n",
    "plt.plot([min(p_real),max(p_real)],[min(p_real),max(p_real)],'--',color ='red')"
   ]
  },
  {
   "cell_type": "markdown",
   "id": "floating-separate",
   "metadata": {},
   "source": [
    "### IDEAS\n",
    "by now the best optimizer is RMS, the ideas to speed up the compuing are :\n",
    "- parallelize the optimization, how? IDK (split verticaly S) FUNIZONAAAAA\n",
    "- use mini batch to optimize\n",
    "- numba : doesn't support mean function so we have to rewrite everything from scratch (see below)"
   ]
  },
  {
   "cell_type": "markdown",
   "id": "optimum-radiation",
   "metadata": {},
   "source": [
    "### Mini batch + RMS\n",
    "In this case we take only $B$ spins removing everything else. (Don't work)"
   ]
  },
  {
   "cell_type": "code",
   "execution_count": 115,
   "id": "native-dream",
   "metadata": {},
   "outputs": [],
   "source": [
    "def gen_ind(N,x):\n",
    "    diff = (x - x[0])*N\n",
    "    out = list(x)\n",
    "    for d in diff[1:]:\n",
    "        out += list(x+d)\n",
    "    out += list(x+N*N)\n",
    "    return out\n",
    "\n",
    "def mini_grad(B,p,S,C,C_dot,gamma):\n",
    "    N_t = S.shape[1]\n",
    "    N = S.shape[0]\n",
    "    \n",
    "    ins = np.random.choice(np.arange(0,N),B,replace = False)\n",
    "    ins = np.sort(ins)\n",
    "    ins_p = gen_ind(N,ins)\n",
    "    \n",
    "    p = np.copy(p[ins_p])\n",
    "    C = np.copy(C[ins,:][:,ins])\n",
    "    C_dot = np.copy(C_dot[ins,:][:,ins])\n",
    "    S = np.copy(S[ins,])\n",
    "    grad = grad_L(p,S,C,C_dot,gamma)\n",
    "    out = np.zeros(N*N+N)\n",
    "    out[ins_p]+=grad\n",
    "    \n",
    "    return out"
   ]
  },
  {
   "cell_type": "code",
   "execution_count": 116,
   "id": "ceramic-secretariat",
   "metadata": {},
   "outputs": [
    {
     "name": "stderr",
     "output_type": "stream",
     "text": [
      "100%|██████████| 200/200 [00:58<00:00,  3.44it/s]"
     ]
    },
    {
     "name": "stdout",
     "output_type": "stream",
     "text": [
      "MSE:  82.46710470062673\n"
     ]
    },
    {
     "name": "stderr",
     "output_type": "stream",
     "text": [
      "\n"
     ]
    },
    {
     "data": {
      "text/plain": [
       "[<matplotlib.lines.Line2D at 0x7ff0115484f0>]"
      ]
     },
     "execution_count": 116,
     "metadata": {},
     "output_type": "execute_result"
    },
    {
     "data": {
      "image/png": "[encoded data removed]",
      "text/plain": [
       "<Figure size 432x288 with 1 Axes>"
      ]
     },
     "metadata": {
      "needs_background": "light"
     },
     "output_type": "display_data"
    }
   ],
   "source": [
    "p_rms = np.random.normal(0,2,N*N+N)\n",
    "s = np.zeros(N*N+N)\n",
    "### PARAMS\n",
    "steps = 200\n",
    "l_r = 0.05\n",
    "beta = 0.9\n",
    "eps = 10**(-8)\n",
    "\n",
    "#ris = [L(p_rms,S,C,C_dot,gamma)]\n",
    "for i in tqdm(range(steps)):\n",
    "    g = mini_grad(5,p_rms,S,C,C_dot,gamma)\n",
    "    s = beta * s + (1-beta)*g*g\n",
    "    p_rms += l_r*g/np.sqrt(s+eps)                                      \n",
    "    \n",
    "    #ris.append(L(p_rms,S,C,C_dot,gamma))\n",
    "\n",
    "print('MSE: ',np.sum((p_rms-p_real)**2))      \n",
    "#plt.plot(ris)\n",
    "plt.figure()\n",
    "plt.plot(p_rms,p_real,'o')\n",
    "plt.plot([min(p_real),max(p_real)],[min(p_real),max(p_real)],'--',color ='red')"
   ]
  },
  {
   "cell_type": "markdown",
   "id": "involved-walker",
   "metadata": {},
   "source": [
    "### Mini batch 2\n",
    "In this case we keep all the spins but we compute only the gradient of $B$ spins. Maybe this is parallelizable.\n"
   ]
  },
  {
   "cell_type": "code",
   "execution_count": 119,
   "id": "headed-music",
   "metadata": {},
   "outputs": [
    {
     "name": "stderr",
     "output_type": "stream",
     "text": [
      "100%|██████████| 200/200 [02:04<00:00,  1.61it/s]"
     ]
    },
    {
     "name": "stdout",
     "output_type": "stream",
     "text": [
      "MSE:  19.472428810728257\n"
     ]
    },
    {
     "name": "stderr",
     "output_type": "stream",
     "text": [
      "\n"
     ]
    },
    {
     "data": {
      "text/plain": [
       "[<matplotlib.lines.Line2D at 0x7ff0114ee280>]"
      ]
     },
     "execution_count": 119,
     "metadata": {},
     "output_type": "execute_result"
    },
    {
     "data": {
      "image/png": "[encoded data removed]",
      "text/plain": [
       "<Figure size 432x288 with 1 Axes>"
      ]
     },
     "metadata": {
      "needs_background": "light"
     },
     "output_type": "display_data"
    }
   ],
   "source": [
    "p_rms = np.random.normal(0,2,N*N+N)\n",
    "s = np.zeros(N*N+N)\n",
    "### PARAMS\n",
    "steps = 200\n",
    "l_r = 0.05\n",
    "beta = 0.9\n",
    "eps = 10**(-8)\n",
    "B = 110 - 30\n",
    "#ris = [L(p_rms,S,C,C_dot,gamma)]\n",
    "for i in tqdm(range(steps)):\n",
    "    g = grad_L(p_rms,S,C,C_dot,gamma)\n",
    "    #-----------------------------------------------------------------\n",
    "    ins = np.random.choice(np.arange(0,N*N+N),B,replace = False)\n",
    "    ins = np.sort(ins)\n",
    "    g[ins] = 0\n",
    "    #-----------------------------------------------------------------\n",
    "\n",
    "    s = beta * s + (1-beta)*g*g\n",
    "    p_rms += l_r*g/np.sqrt(s+eps)                                      \n",
    "    \n",
    "    #ris.append(L(p_rms,S,C,C_dot,gamma))\n",
    "\n",
    "print('MSE: ',np.sum((p_rms-p_real)**2))      \n",
    "#plt.plot(ris)\n",
    "plt.figure()\n",
    "plt.plot(p_rms,p_real,'o')\n",
    "plt.plot([min(p_real),max(p_real)],[min(p_real),max(p_real)],'--',color ='red')"
   ]
  },
  {
   "cell_type": "markdown",
   "id": "specialized-wound",
   "metadata": {},
   "source": [
    "### Numba"
   ]
  },
  {
   "cell_type": "code",
   "execution_count": 2,
   "id": "pleased-necklace",
   "metadata": {},
   "outputs": [],
   "source": [
    "from numba import njit\n",
    "import numpy as np\n",
    "@njit\n",
    "def n_mean(a):\n",
    "    N = len(a)\n",
    "    m = 0\n",
    "    for i in (a):\n",
    "        m=m+i\n",
    "    return m/N\n",
    "\n",
    "@njit\n",
    "def n_sum(a,b):\n",
    "    return a+b\n",
    "\n",
    "@njit(parallel = True)\n",
    "def n_sum2(a,b):\n",
    "    N =len(a)\n",
    "    c = np.zeros(N)\n",
    "    for i in range(N):   \n",
    "        c[i] = a[i] + b[i]\n",
    "    return c"
   ]
  },
  {
   "cell_type": "code",
   "execution_count": 35,
   "id": "literary-panel",
   "metadata": {},
   "outputs": [
    {
     "name": "stdout",
     "output_type": "stream",
     "text": [
      "16.8 µs ± 91.2 ns per loop (mean ± std. dev. of 7 runs, 100000 loops each)\n",
      "20.9 µs ± 339 ns per loop (mean ± std. dev. of 7 runs, 10000 loops each)\n"
     ]
    }
   ],
   "source": [
    "%timeit n_mean(np.ones(10000))\n",
    "%timeit np.mean(np.ones(10000))"
   ]
  },
  {
   "cell_type": "code",
   "execution_count": 36,
   "id": "deadly-notion",
   "metadata": {},
   "outputs": [
    {
     "name": "stdout",
     "output_type": "stream",
     "text": [
      "185 ms ± 553 µs per loop (mean ± std. dev. of 7 runs, 10 loops each)\n",
      "358 ms ± 3.82 ms per loop (mean ± std. dev. of 7 runs, 1 loop each)\n",
      "305 ms ± 23.9 ms per loop (mean ± std. dev. of 7 runs, 1 loop each)\n"
     ]
    }
   ],
   "source": [
    "a = np.ones(100_000_000)\n",
    "%timeit a+a\n",
    "%timeit n_sum(a,a)\n",
    "%timeit n_sum2(a,a)"
   ]
  },
  {
   "cell_type": "markdown",
   "id": "iraqi-climb",
   "metadata": {},
   "source": [
    "### Parallelization (main idea)\n",
    "We can split verticaly the dataset and parallelize the times"
   ]
  },
  {
   "cell_type": "code",
   "execution_count": 33,
   "id": "handmade-sponsorship",
   "metadata": {},
   "outputs": [
    {
     "name": "stdout",
     "output_type": "stream",
     "text": [
      "CPU times: user 732 ms, sys: 47.3 ms, total: 780 ms\n",
      "Wall time: 678 ms\n"
     ]
    },
    {
     "data": {
      "text/plain": [
       "array([ 0.        ,  0.05340978,  0.20598168, ...,  0.37731449,\n",
       "       -0.20931929,  0.11740606])"
      ]
     },
     "execution_count": 33,
     "metadata": {},
     "output_type": "execute_result"
    }
   ],
   "source": [
    "%time grad_L(p,S,C,C_dot,gamma)"
   ]
  },
  {
   "cell_type": "code",
   "execution_count": 49,
   "id": "phantom-decision",
   "metadata": {},
   "outputs": [
    {
     "data": {
      "text/plain": [
       "array([0.        , 0.05340968, 0.20598167, 0.31839137])"
      ]
     },
     "execution_count": 49,
     "metadata": {},
     "output_type": "execute_result"
    }
   ],
   "source": [
    "(grad_L(p,S[:,:50_000],C,C_dot,gamma)[:4] + grad_L(p,S[:,50_000:],C,C_dot,gamma)[:4])/2"
   ]
  },
  {
   "cell_type": "code",
   "execution_count": 53,
   "id": "informational-crawford",
   "metadata": {},
   "outputs": [
    {
     "name": "stdout",
     "output_type": "stream",
     "text": [
      "CPU times: user 532 ms, sys: 51.2 ms, total: 583 ms\n",
      "Wall time: 275 ms\n"
     ]
    },
    {
     "data": {
      "text/plain": [
       "array([ 0.        ,  0.04287258,  0.20460154, ...,  0.40837589,\n",
       "       -0.14058914,  0.09859042])"
      ]
     },
     "execution_count": 53,
     "metadata": {},
     "output_type": "execute_result"
    }
   ],
   "source": [
    "%%time\n",
    "\n",
    "from dask import delayed\n",
    "a = delayed(grad_L)(p,S[:,:25_000],C,C_dot,gamma)\n",
    "b = delayed(grad_L)(p,S[:,25_000:50_000],C,C_dot,gamma)\n",
    "c = delayed(grad_L)(p,S[:,50_000:75_000],C,C_dot,gamma)\n",
    "d =delayed(grad_L)(p,S[:,75_000:],C,C_dot,gamma)\n",
    "x = delayed(sum)([a,b])\n",
    "x.compute()/2"
   ]
  },
  {
   "cell_type": "code",
   "execution_count": null,
   "id": "stainless-costa",
   "metadata": {},
   "outputs": [],
   "source": []
  }
 ],
 "metadata": {
  "kernelspec": {
   "display_name": "Python 3",
   "language": "python",
   "name": "python3"
  },
  "language_info": {
   "codemirror_mode": {
    "name": "ipython",
    "version": 3
   },
   "file_extension": ".py",
   "mimetype": "text/x-python",
   "name": "python",
   "nbconvert_exporter": "python",
   "pygments_lexer": "ipython3",
   "version": "3.8.8"
  }
 },
 "nbformat": 4,
 "nbformat_minor": 5
}
