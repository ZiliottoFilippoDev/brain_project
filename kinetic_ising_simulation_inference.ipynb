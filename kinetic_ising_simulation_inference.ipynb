{
 "cells": [
  {
   "cell_type": "code",
   "execution_count": 31,
   "id": "becoming-berkeley",
   "metadata": {},
   "outputs": [],
   "source": [
    "import numpy as np\n",
    "import matplotlib.pyplot as plt\n",
    "from tqdm import tqdm"
   ]
  },
  {
   "cell_type": "markdown",
   "id": "formal-collectible",
   "metadata": {},
   "source": [
    "## Kinetic Ising Model simulation\n",
    "Ising model with $N$ spins $\\{-1,1\\}$, cuplings matrix $J_{ij}$ and external field $h_i$. \n",
    "\n",
    "At each time step $\\delta t$ each spin $s_i$ flips with a probability \n",
    "$$p_{flip} = \\gamma \\delta t \\frac 1 2 [1-s_i(t)\\tanh H_i(t)] \\quad with \\quad\n",
    "H_i = h_i + \\sum_{j \\ne i} J_{ij}s_j(t)$$"
   ]
  },
  {
   "cell_type": "markdown",
   "id": "optical-latin",
   "metadata": {},
   "source": [
    "## Simulation"
   ]
  },
  {
   "cell_type": "code",
   "execution_count": 32,
   "id": "colored-classics",
   "metadata": {},
   "outputs": [],
   "source": [
    "def simulation(J,h,gamma,steps,dt):\n",
    "    S = [-np.ones(N)]\n",
    "    for i in tqdm(range(steps)):\n",
    "        s = np.copy(S[-1])\n",
    "        H = h + np.dot(J,s)\n",
    "        p_flip = gamma*dt*0.5*(1-s*np.tanh(H))\n",
    "        p = np.random.rand(N)\n",
    "        s[p<p_flip]*=-1\n",
    "        S.append(s)\n",
    "    S = np.array(S).T\n",
    "    return S"
   ]
  },
  {
   "cell_type": "code",
   "execution_count": 33,
   "id": "attempted-prospect",
   "metadata": {},
   "outputs": [
    {
     "name": "stderr",
     "output_type": "stream",
     "text": [
      "100%|██████████| 1000000/1000000 [00:15<00:00, 63482.95it/s]\n"
     ]
    }
   ],
   "source": [
    "np.random.seed(201098)\n",
    "\n",
    "N = 10\n",
    "#########################################\n",
    "J = np.random.normal(0,1,(N,N))\n",
    "np.fill_diagonal(J,0)\n",
    "h = np.random.normal(0,1,N)\n",
    "\n",
    "p_real = np.concatenate((J.flatten(),h))\n",
    "##########################################\n",
    "gamma = 1\n",
    "steps = 1_000_000#1_000_000\n",
    "dt = 0.1\n",
    "##########################################\n",
    "##SIMULATION\n",
    "S = simulation(J,h,gamma,steps,dt)"
   ]
  },
  {
   "cell_type": "code",
   "execution_count": 34,
   "id": "hazardous-ground",
   "metadata": {},
   "outputs": [
    {
     "data": {
      "text/plain": [
       "Text(0.5, 1.0, 'Spin evlolution in time. [$s_i=1$ yellow, $s_i=-1$ blue]')"
      ]
     },
     "execution_count": 34,
     "metadata": {},
     "output_type": "execute_result"
    },
    {
     "data": {
      "image/png": "[encoded data removed]",
      "text/plain": [
       "<Figure size 1080x720 with 1 Axes>"
      ]
     },
     "metadata": {
      "needs_background": "light"
     },
     "output_type": "display_data"
    }
   ],
   "source": [
    "plt.figure(figsize=(15,10))\n",
    "plt.imshow(S[:,:250])\n",
    "plt.xlabel('time')\n",
    "plt.ylabel(r'$s_i$')\n",
    "plt.title(r'Spin evlolution in time. [$s_i=1$ yellow, $s_i=-1$ blue]')"
   ]
  },
  {
   "cell_type": "markdown",
   "id": "indonesian-emission",
   "metadata": {},
   "source": [
    "### NB\n",
    "$S$ is $S_{it}$ "
   ]
  },
  {
   "cell_type": "markdown",
   "id": "cognitive-silver",
   "metadata": {},
   "source": [
    "## Inference\n",
    "\n",
    "### Equations\n",
    "\n",
    "$$\n",
    "\\dot C_{ij} = \\delta t ^{-1} \\cdot [\\langle s_i(t+\\delta t)\\cdot s_j(t) \\rangle_{t} - C_{i,j}] \\\\\n",
    "C_{ij} = \\langle s_i(t)\\cdot s_j(t) \\rangle_{t} \\\\\n",
    "L = \\frac 1 {N_t} \\sum_t\\sum_i \\Big[ h_i\\cdot s_i(t) + \\big[\\sum_{j\\ne i} J_{ij}\\cdot (\\gamma^{-1}\\dot{C_{ij}} + C_{ij})\\big] - \\log \\cosh H_i(t)\\Big]\n",
    "$$"
   ]
  },
  {
   "cell_type": "markdown",
   "id": "noticed-glory",
   "metadata": {},
   "source": [
    "### $C$ and $\\dot C$"
   ]
  },
  {
   "cell_type": "code",
   "execution_count": 35,
   "id": "practical-replacement",
   "metadata": {},
   "outputs": [],
   "source": [
    "def C_and_Cdot(S,dt):\n",
    "    # S row is the spins conf\n",
    "    # S column is the single spin evolution\n",
    "    N = S.shape[0]\n",
    "    C = np.zeros((N,N))\n",
    "    # since C is simmetric we can optimize it ... \n",
    "    for i in tqdm(range(N),desc='Computing C'):\n",
    "        for j in range(N):\n",
    "            C[i,j] = np.mean(S[i]*S[j])\n",
    "        \n",
    "    C_dot = np.zeros((N,N))\n",
    "    for i in tqdm(range(N),desc='Computing C_dot'):\n",
    "        for j in range(N):\n",
    "            C_dot[i,j] = np.mean(S[i,1:]*S[j,:-1])\n",
    "        \n",
    "    C_dot -= C\n",
    "    C_dot /= dt\n",
    "        \n",
    "    return C,C_dot        "
   ]
  },
  {
   "cell_type": "code",
   "execution_count": 36,
   "id": "medical-consciousness",
   "metadata": {},
   "outputs": [
    {
     "name": "stderr",
     "output_type": "stream",
     "text": [
      "Computing C: 100%|██████████| 10/10 [00:00<00:00, 12.79it/s]\n",
      "Computing C_dot: 100%|██████████| 10/10 [00:00<00:00, 12.62it/s]\n"
     ]
    }
   ],
   "source": [
    "C,C_dot = C_and_Cdot(S,dt)"
   ]
  },
  {
   "cell_type": "markdown",
   "id": "occupational-giant",
   "metadata": {},
   "source": [
    "## L\n",
    "In order to speed up the L function we use matrices.\n",
    "\n",
    "$equations$"
   ]
  },
  {
   "cell_type": "code",
   "execution_count": 37,
   "id": "placed-still",
   "metadata": {},
   "outputs": [],
   "source": [
    "def logcosh(x):\n",
    "    #the funcion is even, the trick is to avoid e^x\n",
    "    x = np.abs(x)\n",
    "    return np.log(1/2) + x + np.log(1 + np.exp(-2*x))\n",
    "\n",
    "#versione ottimizzata della funzione (e' super piu veloce); sfrutta numpy e le matrici\n",
    "def L(p,S,C,C_dot,gamma):\n",
    "    N_t = S.shape[1]\n",
    "    N = S.shape[0]\n",
    "    \n",
    "    # p are the params, S is the spins history\n",
    "    J = p[:N*N].reshape((N,N))     # NxN matrix\n",
    "    np.fill_diagonal(J,0)          #removing the diagonal terms for easier sums\n",
    "    h = p[N*N:]                    # N vector\n",
    "    \n",
    "    #### A #####\n",
    "    A = np.dot(S.T,h)\n",
    "    A = np.mean(A)\n",
    "    \n",
    "    #### B #####\n",
    "    B = J*(C_dot/gamma + C)\n",
    "    B = np.sum(B)\n",
    "    \n",
    "    #### C #####\n",
    "    C = np.tile(h,(N_t,1)).T\n",
    "    C += np.dot(J,S)\n",
    "    C = - logcosh(C)\n",
    "    C = np.mean(np.sum(C,axis=0))\n",
    "    \n",
    "    L = A+B+C\n",
    "    return L"
   ]
  },
  {
   "cell_type": "code",
   "execution_count": 38,
   "id": "growing-purchase",
   "metadata": {},
   "outputs": [],
   "source": [
    "#generating random parameters\n",
    "np.random.seed(234)\n",
    "p = np.random.normal(0,1,N*N+N)"
   ]
  },
  {
   "cell_type": "code",
   "execution_count": 39,
   "id": "configured-place",
   "metadata": {},
   "outputs": [
    {
     "data": {
      "text/plain": [
       "-20.721406511708224"
      ]
     },
     "execution_count": 39,
     "metadata": {},
     "output_type": "execute_result"
    }
   ],
   "source": [
    "L(p,S,C,C_dot,gamma)"
   ]
  },
  {
   "cell_type": "markdown",
   "id": "distributed-mining",
   "metadata": {},
   "source": [
    "## Gradinent\n",
    "$$\n",
    "\\frac {\\partial L}{\\partial h_i} = \\langle s_i(t) - \\tanh{H_i(t)} \\rangle_t \\\\\n",
    "\\frac {\\partial L}{\\partial J_{ij}} = \\gamma ^ {-1} \\dot{C_{ij}} + C_{ij} - \\langle \\tanh{(H_i(t))}s_j(t)  \\rangle_t\n",
    "$$\n",
    "\n",
    "Also in this case we use matrices to speed up the computation"
   ]
  },
  {
   "cell_type": "code",
   "execution_count": 93,
   "id": "mineral-motion",
   "metadata": {},
   "outputs": [],
   "source": [
    "def grad_L(p,S,C,C_dot,gamma):\n",
    "    N_t = S.shape[1]\n",
    "    N = S.shape[0]\n",
    "    \n",
    "    # p are the params, S is the spins history\n",
    "    J = p[:N*N].reshape((N,N))     # NxN matrix\n",
    "    np.fill_diagonal(J,0)          #removing the diagonal terms for easier sums\n",
    "    h = p[N*N:]                    # N vector\n",
    "    \n",
    "    #grad wrt h\n",
    "    H = (h + np.dot(J,S).T).T\n",
    "    G_1 = np.mean(S-np.tanh(H),axis=1)\n",
    "    \n",
    "    #grad wrt J\n",
    "    G_0 = C_dot/gamma + C\n",
    "    G_0 -= (np.dot(np.tanh(H),S.T))/N_t\n",
    "    return np.concatenate((G_0.flatten(),G_1))\n",
    "    "
   ]
  },
  {
   "cell_type": "markdown",
   "id": "purple-october",
   "metadata": {},
   "source": [
    "## Test the gradient"
   ]
  },
  {
   "cell_type": "code",
   "execution_count": 94,
   "id": "final-attendance",
   "metadata": {},
   "outputs": [
    {
     "name": "stdout",
     "output_type": "stream",
     "text": [
      "0.098171682108318\n",
      "0.09817077852858345\n"
     ]
    }
   ],
   "source": [
    "param = 1\n",
    "\n",
    "x = np.ones(N*N + N) + 10\n",
    "dx = 0.00001\n",
    "print(grad_L(x,S,C,C_dot,gamma)[param])\n",
    "y_i = L(x,S,C,C_dot,gamma)\n",
    "x[param]+=dx\n",
    "y_f = L(x,S,C,C_dot,gamma)\n",
    "print((y_f-y_i)/dx)"
   ]
  },
  {
   "cell_type": "markdown",
   "id": "immediate-defense",
   "metadata": {},
   "source": [
    "### Maximization"
   ]
  },
  {
   "cell_type": "markdown",
   "id": "criminal-jumping",
   "metadata": {},
   "source": [
    "### SGA"
   ]
  },
  {
   "cell_type": "code",
   "execution_count": 42,
   "id": "circular-underwear",
   "metadata": {
    "scrolled": false
   },
   "outputs": [
    {
     "name": "stderr",
     "output_type": "stream",
     "text": [
      "100%|██████████| 150/150 [02:44<00:00,  1.10s/it]"
     ]
    },
    {
     "name": "stdout",
     "output_type": "stream",
     "text": [
      "MSE:  20.097867827803405\n"
     ]
    },
    {
     "name": "stderr",
     "output_type": "stream",
     "text": [
      "\n"
     ]
    },
    {
     "data": {
      "text/plain": [
       "[<matplotlib.lines.Line2D at 0x7f3f03a324c0>]"
      ]
     },
     "execution_count": 42,
     "metadata": {},
     "output_type": "execute_result"
    },
    {
     "data": {
      "image/png": "[encoded data removed]",
      "text/plain": [
       "<Figure size 432x288 with 1 Axes>"
      ]
     },
     "metadata": {
      "needs_background": "light"
     },
     "output_type": "display_data"
    },
    {
     "data": {
      "image/png": "[encoded data removed]",
      "text/plain": [
       "<Figure size 432x288 with 1 Axes>"
      ]
     },
     "metadata": {
      "needs_background": "light"
     },
     "output_type": "display_data"
    }
   ],
   "source": [
    "np.random.seed(1234)\n",
    "l_r = 0.2\n",
    "STEPS = 150\n",
    "p_0 = np.random.normal(0,2,N*N+N)\n",
    "\n",
    "ris = [L(p_0,S,C,C_dot,gamma)]\n",
    "for i in tqdm(range(STEPS)):\n",
    "    p_0 += l_r*grad_L(p_0,S,C,C_dot,gamma)\n",
    "    ris.append(L(p_0,S,C,C_dot,gamma))\n",
    "    if ris[-1]<ris[-2]: break\n",
    "\n",
    "print('MSE: ',np.sum((p_0-p_real)**2))  \n",
    "plt.plot(ris)\n",
    "plt.figure()\n",
    "plt.plot(p_0,p_real,'o')\n",
    "plt.plot([min(p_real),max(p_real)],[min(p_real),max(p_real)],'--',color ='red')"
   ]
  },
  {
   "cell_type": "markdown",
   "id": "dried-nitrogen",
   "metadata": {},
   "source": [
    "### NAG"
   ]
  },
  {
   "cell_type": "code",
   "execution_count": 43,
   "id": "lined-pickup",
   "metadata": {},
   "outputs": [
    {
     "name": "stderr",
     "output_type": "stream",
     "text": [
      "100%|██████████| 150/150 [02:53<00:00,  1.16s/it]"
     ]
    },
    {
     "name": "stdout",
     "output_type": "stream",
     "text": [
      "MSE:  8.671814172631478\n"
     ]
    },
    {
     "name": "stderr",
     "output_type": "stream",
     "text": [
      "\n"
     ]
    },
    {
     "data": {
      "text/plain": [
       "[<matplotlib.lines.Line2D at 0x7f3f03ef41c0>]"
      ]
     },
     "execution_count": 43,
     "metadata": {},
     "output_type": "execute_result"
    },
    {
     "data": {
      "image/png": "[encoded data removed]",
      "text/plain": [
       "<Figure size 432x288 with 1 Axes>"
      ]
     },
     "metadata": {
      "needs_background": "light"
     },
     "output_type": "display_data"
    },
    {
     "data": {
      "image/png": "[encoded data removed]",
      "text/plain": [
       "<Figure size 432x288 with 1 Axes>"
      ]
     },
     "metadata": {
      "needs_background": "light"
     },
     "output_type": "display_data"
    }
   ],
   "source": [
    "np.random.seed(1234)\n",
    "p_nag = np.random.normal(0,2,N*N+N)\n",
    "v = np.zeros(N*N+N)\n",
    "### PARAMS\n",
    "steps = 150\n",
    "l_r = 0.1\n",
    "fric = 0.9\n",
    "\n",
    "\n",
    "ris = [L(p_nag,S,C,C_dot,gamma)]\n",
    "for i in tqdm(range(steps)):\n",
    "    v = fric*v + l_r * (grad_L(p_nag+fric*v,S,C,C_dot,gamma))\n",
    "    p_nag += v\n",
    "    ris.append(L(p_nag,S,C,C_dot,gamma))\n",
    "\n",
    "print('MSE: ',np.sum((p_nag-p_real)**2))      \n",
    "plt.plot(ris)\n",
    "plt.figure()\n",
    "plt.plot(p_nag,p_real,'o')\n",
    "plt.plot([min(p_real),max(p_real)],[min(p_real),max(p_real)],'--',color ='red')"
   ]
  },
  {
   "cell_type": "markdown",
   "id": "palestinian-residence",
   "metadata": {},
   "source": [
    "### RMS prop"
   ]
  },
  {
   "cell_type": "code",
   "execution_count": 44,
   "id": "universal-species",
   "metadata": {
    "scrolled": false
   },
   "outputs": [
    {
     "name": "stderr",
     "output_type": "stream",
     "text": [
      "100%|██████████| 200/200 [03:43<00:00,  1.12s/it]"
     ]
    },
    {
     "name": "stdout",
     "output_type": "stream",
     "text": [
      "MSE:  0.5455303932393318\n"
     ]
    },
    {
     "name": "stderr",
     "output_type": "stream",
     "text": [
      "\n"
     ]
    },
    {
     "data": {
      "text/plain": [
       "[<matplotlib.lines.Line2D at 0x7f3f0922f460>]"
      ]
     },
     "execution_count": 44,
     "metadata": {},
     "output_type": "execute_result"
    },
    {
     "data": {
      "image/png": "[encoded data removed]",
      "text/plain": [
       "<Figure size 432x288 with 1 Axes>"
      ]
     },
     "metadata": {
      "needs_background": "light"
     },
     "output_type": "display_data"
    },
    {
     "data": {
      "image/png": "[encoded data removed]",
      "text/plain": [
       "<Figure size 432x288 with 1 Axes>"
      ]
     },
     "metadata": {
      "needs_background": "light"
     },
     "output_type": "display_data"
    }
   ],
   "source": [
    "p_rms = np.random.normal(0,2,N*N+N)\n",
    "s = np.zeros(N*N+N)\n",
    "### PARAMS\n",
    "steps = 200\n",
    "l_r = 0.05\n",
    "beta = 0.9\n",
    "eps = 10**(-8)\n",
    "\n",
    "ris = [L(p_rms,S,C,C_dot,gamma)]\n",
    "for i in tqdm(range(steps)):\n",
    "    g = grad_L(p_rms,S,C,C_dot,gamma)\n",
    "    s = beta * s + (1-beta)*g*g\n",
    "    p_rms += l_r*g/np.sqrt(s+eps)                                      \n",
    "    \n",
    "    ris.append(L(p_rms,S,C,C_dot,gamma))\n",
    "\n",
    "print('MSE: ',np.sum((p_rms-p_real)**2))      \n",
    "plt.plot(ris)\n",
    "plt.figure()\n",
    "plt.plot(p_rms,p_real,'o')\n",
    "plt.plot([min(p_real),max(p_real)],[min(p_real),max(p_real)],'--',color ='red')"
   ]
  },
  {
   "cell_type": "markdown",
   "id": "resident-prerequisite",
   "metadata": {},
   "source": [
    "## ADAM"
   ]
  },
  {
   "cell_type": "code",
   "execution_count": 46,
   "id": "incredible-guitar",
   "metadata": {},
   "outputs": [
    {
     "name": "stderr",
     "output_type": "stream",
     "text": [
      "100%|██████████| 149/149 [01:37<00:00,  1.53it/s]"
     ]
    },
    {
     "name": "stdout",
     "output_type": "stream",
     "text": [
      "MSE:  0.8452692888463197\n"
     ]
    },
    {
     "name": "stderr",
     "output_type": "stream",
     "text": [
      "\n"
     ]
    },
    {
     "data": {
      "text/plain": [
       "[<matplotlib.lines.Line2D at 0x7f3f03a77370>]"
      ]
     },
     "execution_count": 46,
     "metadata": {},
     "output_type": "execute_result"
    },
    {
     "data": {
      "image/png": "[encoded data removed]",
      "text/plain": [
       "<Figure size 432x288 with 1 Axes>"
      ]
     },
     "metadata": {
      "needs_background": "light"
     },
     "output_type": "display_data"
    }
   ],
   "source": [
    "p_adam = np.random.normal(0,2,N*N+N)\n",
    "s = np.zeros(N*N+N)\n",
    "m = np.zeros(N*N+N)\n",
    "\n",
    "s_h = np.zeros(N*N+N)\n",
    "m_h = np.zeros(N*N+N)\n",
    "\n",
    "### PARAMS\n",
    "steps = 150\n",
    "l_r = 0.1\n",
    "beta1 = 0.9\n",
    "beta2 = 0.9\n",
    "eps = 10**(-8)\n",
    "\n",
    "ris = [L(p_adam,S,C,C_dot,gamma)]\n",
    "for i in tqdm(range(1,steps)):\n",
    "    g = grad_L(p_adam,S,C,C_dot,gamma)\n",
    "    m = beta1 * m + (1-beta1)*g\n",
    "    s = beta2 * s + (1-beta2)*g*g\n",
    "    m_h = 1/(1-beta1**i)*m\n",
    "    s_h = 1/(1-beta2**i)*s\n",
    "    \n",
    "    p_adam += l_r*m_h/np.sqrt(s_h+eps)                                      \n",
    "    #ris.append(L(p_adam,S,C,C_dot,gamma))\n",
    "\n",
    "print('MSE: ',np.sum((p_adam-p_real)**2))  \n",
    "#plt.plot(ris)\n",
    "plt.figure()\n",
    "plt.plot(p_adam,p_real,'o')\n",
    "plt.plot([min(p_real),max(p_real)],[min(p_real),max(p_real)],'--',color ='red')"
   ]
  },
  {
   "cell_type": "markdown",
   "id": "floating-separate",
   "metadata": {},
   "source": [
    "### IDEAS\n",
    "by now the best optimizer is RMS, the ideas to speed up the compuing are :\n",
    "- parallelize the optimization, how? IDK \n",
    "- use mini batch to optimize\n",
    "- numba : doesn't support mean function so we have to rewrite everything from scratch (see below)"
   ]
  },
  {
   "cell_type": "code",
   "execution_count": 2,
   "id": "pleased-necklace",
   "metadata": {},
   "outputs": [],
   "source": [
    "from numba import njit\n",
    "import numpy as np\n",
    "@njit\n",
    "def n_mean(a):\n",
    "    N = len(a)\n",
    "    m = 0\n",
    "    for i in (a):\n",
    "        m=m+i\n",
    "    return m/N\n",
    "\n",
    "@njit\n",
    "def n_sum(a,b):\n",
    "    return a+b\n",
    "\n",
    "@njit(parallel = True)\n",
    "def n_sum2(a,b):\n",
    "    N =len(a)\n",
    "    c = np.zeros(N)\n",
    "    for i in range(N):   \n",
    "        c[i] = a[i] + b[i]\n",
    "    return c"
   ]
  },
  {
   "cell_type": "code",
   "execution_count": 35,
   "id": "literary-panel",
   "metadata": {},
   "outputs": [
    {
     "name": "stdout",
     "output_type": "stream",
     "text": [
      "16.8 µs ± 91.2 ns per loop (mean ± std. dev. of 7 runs, 100000 loops each)\n",
      "20.9 µs ± 339 ns per loop (mean ± std. dev. of 7 runs, 10000 loops each)\n"
     ]
    }
   ],
   "source": [
    "%timeit n_mean(np.ones(10000))\n",
    "%timeit np.mean(np.ones(10000))"
   ]
  },
  {
   "cell_type": "code",
   "execution_count": 36,
   "id": "deadly-notion",
   "metadata": {},
   "outputs": [
    {
     "name": "stdout",
     "output_type": "stream",
     "text": [
      "185 ms ± 553 µs per loop (mean ± std. dev. of 7 runs, 10 loops each)\n",
      "358 ms ± 3.82 ms per loop (mean ± std. dev. of 7 runs, 1 loop each)\n",
      "305 ms ± 23.9 ms per loop (mean ± std. dev. of 7 runs, 1 loop each)\n"
     ]
    }
   ],
   "source": [
    "a = np.ones(100_000_000)\n",
    "%timeit a+a\n",
    "%timeit n_sum(a,a)\n",
    "%timeit n_sum2(a,a)"
   ]
  },
  {
   "cell_type": "code",
   "execution_count": null,
   "id": "fitted-geography",
   "metadata": {},
   "outputs": [],
   "source": []
  }
 ],
 "metadata": {
  "kernelspec": {
   "display_name": "Python 3",
   "language": "python",
   "name": "python3"
  },
  "language_info": {
   "codemirror_mode": {
    "name": "ipython",
    "version": 3
   },
   "file_extension": ".py",
   "mimetype": "text/x-python",
   "name": "python",
   "nbconvert_exporter": "python",
   "pygments_lexer": "ipython3",
   "version": "3.8.8"
  }
 },
 "nbformat": 4,
 "nbformat_minor": 5
}
