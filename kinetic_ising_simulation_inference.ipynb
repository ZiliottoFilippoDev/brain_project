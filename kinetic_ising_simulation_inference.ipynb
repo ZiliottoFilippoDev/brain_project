{
 "cells": [
  {
   "cell_type": "code",
   "execution_count": 1,
   "id": "becoming-berkeley",
   "metadata": {},
   "outputs": [],
   "source": [
    "import numpy as np\n",
    "import matplotlib.pyplot as plt\n",
    "from tqdm import tqdm"
   ]
  },
  {
   "cell_type": "markdown",
   "id": "formal-collectible",
   "metadata": {},
   "source": [
    "## Kinetic Ising Model simulation\n",
    "Ising model with $N$ spins $\\{-1,1\\}$, cuplings matrix $J_{ij}$ and external field $h_i$. \n",
    "\n",
    "At each time step $\\delta t$ each spin $s_i$ flips with a probability \n",
    "$$p_{flip} = \\gamma \\delta t \\frac 1 2 [1-s_i(t)\\tanh H_i(t)] \\quad with \\quad\n",
    "H_i = h_i + \\sum_{j \\ne i} J_{ij}s_j(t)$$"
   ]
  },
  {
   "cell_type": "markdown",
   "id": "optical-latin",
   "metadata": {},
   "source": [
    "## Simulation"
   ]
  },
  {
   "cell_type": "code",
   "execution_count": 2,
   "id": "attempted-prospect",
   "metadata": {},
   "outputs": [
    {
     "name": "stderr",
     "output_type": "stream",
     "text": [
      "100%|██████████| 1000/1000 [00:00<00:00, 54774.52it/s]\n"
     ]
    }
   ],
   "source": [
    "np.random.seed(123)\n",
    "\n",
    "N = 5\n",
    "#########################################\n",
    "J = np.random.normal(0,1,(N,N))\n",
    "np.fill_diagonal(J,0)\n",
    "h = np.random.normal(0,1,N)\n",
    "##########################################\n",
    "gamma = 50\n",
    "steps = 1000\n",
    "T = 5\n",
    "dt = 1/steps\n",
    "##########################################\n",
    "S = [-np.ones(N)]\n",
    "for i in tqdm(range(steps)):\n",
    "    s = np.copy(S[-1])\n",
    "    H = h + np.dot(J,s)\n",
    "    p_flip = gamma*dt*0.5*(1-s*np.tanh(H))\n",
    "    p = np.random.rand(N)\n",
    "    s[p<p_flip]*=-1\n",
    "    S.append(s)\n",
    "S = np.array(S).T"
   ]
  },
  {
   "cell_type": "code",
   "execution_count": 3,
   "id": "hazardous-ground",
   "metadata": {},
   "outputs": [
    {
     "data": {
      "text/plain": [
       "Text(0.5, 1.0, 'Spin evlolution in time. [$s_i=1$ yellow, $s_i=-1$ blue]')"
      ]
     },
     "execution_count": 3,
     "metadata": {},
     "output_type": "execute_result"
    },
    {
     "data": {
      "image/png": "[encoded data removed]",
      "text/plain": [
       "<Figure size 720x720 with 1 Axes>"
      ]
     },
     "metadata": {
      "needs_background": "light"
     },
     "output_type": "display_data"
    }
   ],
   "source": [
    "plt.figure(figsize=(10,10))\n",
    "indcs = [i*10 for i in range(100)]\n",
    "plt.imshow(S[:,:150])\n",
    "plt.xlabel('time')\n",
    "plt.ylabel(r'$s_i$')\n",
    "plt.title(r'Spin evlolution in time. [$s_i=1$ yellow, $s_i=-1$ blue]')"
   ]
  },
  {
   "cell_type": "markdown",
   "id": "balanced-editor",
   "metadata": {},
   "source": [
    "### NB\n",
    "$S$ is $S_{it}$ "
   ]
  },
  {
   "cell_type": "markdown",
   "id": "cognitive-silver",
   "metadata": {},
   "source": [
    "## Inference\n",
    "\n",
    "### Equations\n",
    "\n",
    "$$\n",
    "\\dot C_{ij} = \\delta t ^{-1} \\cdot [\\langle s_i(t+\\delta t)\\cdot s_j(t) \\rangle_{t} - C_{i,j}] \\\\\n",
    "C_{ij} = \\langle s_i(t)\\cdot s_j(t) \\rangle_{t} \\\\\n",
    "L = \\frac 1 {N_t} \\sum_t\\sum_i \\Big[ h_i\\cdot s_i(t) + \\big[\\sum_{j\\ne i} J_{ij}\\cdot (\\gamma^{-1}\\dot{C_{ij}} + C_{ij})\\big] - \\log \\cosh H_i(t)\\Big]\n",
    "$$\n",
    "\n",
    "<span style=\"color:blue\">C'e' qualcosa di sbagliato in L, la cosa che mi turba maggiormente e' che i parametri \"veri\" utilizzati per generare i dati non massimizzano la funzione, ma manco vagamente. Un secondo problema e' che la L sembra essere non limitata :( .</span>"
   ]
  },
  {
   "cell_type": "markdown",
   "id": "enabling-festival",
   "metadata": {},
   "source": [
    "### $C$ and $\\dot C$"
   ]
  },
  {
   "cell_type": "code",
   "execution_count": 4,
   "id": "soviet-jewelry",
   "metadata": {},
   "outputs": [],
   "source": [
    "def C_and_Cdot(S,dt):\n",
    "    # S row is the spins conf\n",
    "    # S column is the single spin evolution\n",
    "    N = S.shape[0]\n",
    "    C = np.zeros((N,N))\n",
    "    # since C is simmetric we can optimize it ... \n",
    "    for i in tqdm(range(N),desc='Computing C'):\n",
    "        for j in range(N):\n",
    "            C[i,j] = np.mean(S[i]*S[j])\n",
    "        \n",
    "    C_dot = np.zeros((N,N))\n",
    "    for i in tqdm(range(N),desc='Computing C_dot'):\n",
    "        for j in range(N):\n",
    "            C_dot[i,j] = np.mean(S[i,1:]*S[j,:-1])\n",
    "        \n",
    "    C_dot -= C\n",
    "    C_dot /= dt\n",
    "        \n",
    "    return C,C_dot        "
   ]
  },
  {
   "cell_type": "code",
   "execution_count": 5,
   "id": "charged-manor",
   "metadata": {},
   "outputs": [
    {
     "name": "stderr",
     "output_type": "stream",
     "text": [
      "Computing C: 100%|██████████| 5/5 [00:00<00:00, 3720.99it/s]\n",
      "Computing C_dot: 100%|██████████| 5/5 [00:00<00:00, 2595.49it/s]\n"
     ]
    }
   ],
   "source": [
    "C,C_dot = C_and_Cdot(S,dt)"
   ]
  },
  {
   "cell_type": "markdown",
   "id": "adjacent-roots",
   "metadata": {},
   "source": [
    "## L\n",
    "In order to speed up the L function we use matrices.\n",
    "\n",
    "$equations$"
   ]
  },
  {
   "cell_type": "code",
   "execution_count": 6,
   "id": "valuable-greene",
   "metadata": {},
   "outputs": [],
   "source": [
    "def logcosh(x):\n",
    "    #the funcion is even, the trick is to avoid e^x\n",
    "    x = np.abs(x)\n",
    "    return np.log(1/2) + x + np.log(1 + np.exp(-2*x))\n",
    "\n",
    "#versione ottimizzata della funzione (e' super piu veloce); sfrutta numpy e le matrici\n",
    "def L(p,S,C,C_dot,gamma):\n",
    "    N_t = S.shape[1]\n",
    "    N = S.shape[0]\n",
    "    \n",
    "    # p are the params, S is the spins history\n",
    "    J = p[:N*N].reshape((N,N))     # NxN matrix\n",
    "    np.fill_diagonal(J,0)          #removing the diagonal terms for easier sums\n",
    "    h = p[N*N:]                    # N vector\n",
    "    \n",
    "    #### A #####\n",
    "    A = np.dot(S.T,h)\n",
    "    A = np.mean(A)\n",
    "    \n",
    "    #### B #####\n",
    "    B = J*(C_dot/gamma + C)\n",
    "    B = np.sum(B)\n",
    "    \n",
    "    #### C #####\n",
    "    C = np.tile(h,(N_t,1)).T\n",
    "    C += np.dot(J,S)\n",
    "    C = - logcosh(C)\n",
    "    C = np.mean(np.sum(C,axis=0))\n",
    "    \n",
    "    L = A+B+C\n",
    "    return L"
   ]
  },
  {
   "cell_type": "code",
   "execution_count": 7,
   "id": "broad-tucson",
   "metadata": {},
   "outputs": [],
   "source": [
    "#generating random parameters\n",
    "np.random.seed(234)\n",
    "p = np.random.normal(0,1,N*N+N)"
   ]
  },
  {
   "cell_type": "code",
   "execution_count": 10,
   "id": "desirable-detail",
   "metadata": {},
   "outputs": [
    {
     "data": {
      "text/plain": [
       "-9.908850359121319"
      ]
     },
     "execution_count": 10,
     "metadata": {},
     "output_type": "execute_result"
    }
   ],
   "source": [
    "L(p,S,C,C_dot,gamma)"
   ]
  },
  {
   "cell_type": "markdown",
   "id": "introductory-companion",
   "metadata": {},
   "source": [
    "### Gradinent\n",
    "$$\n",
    "\\frac {\\partial L}{\\partial h_i} = \\langle s_i(t) - \\tanh{H_i(t)} \\rangle_t \\\\\n",
    "\\frac {\\partial L}{\\partial J_{ij}} = \\gamma ^ {-1} \\dot{C_{ij}} + C_{ij} - \\langle \\tanh{(H_i(t))}s_j(t)  \\rangle_t\n",
    "$$"
   ]
  },
  {
   "cell_type": "code",
   "execution_count": 24,
   "id": "protected-classics",
   "metadata": {},
   "outputs": [],
   "source": [
    "def grad_L(p,S,C,C_dot,gamma):\n",
    "    N_t = S.shape[1]\n",
    "    N = S.shape[0]\n",
    "    \n",
    "    # p are the params, S is the spins history\n",
    "    J = p[:N*N].reshape((N,N))     # NxN matrix\n",
    "    np.fill_diagonal(J,0)          #removing the diagonal terms for easier sums\n",
    "    h = p[N*N:]                    # N vector\n",
    "    \n",
    "    #grad wrt h\n",
    "    H = np.tile(h,(N_t,1)).T\n",
    "    H += np.dot(J,S)\n",
    "    G_1 = np.mean(S-np.tanh(H),axis=1)\n",
    "    \n",
    "    #grad wrt J\n",
    "    G_0 = C_dot/gamma + C\n",
    "    G_0 -= (np.dot(np.tanh(H),S.T))/N_t\n",
    "    \n",
    "    return np.concatenate((G_0.flatten(),G_1))\n",
    "    "
   ]
  },
  {
   "cell_type": "code",
   "execution_count": 25,
   "id": "structured-chemistry",
   "metadata": {},
   "outputs": [
    {
     "data": {
      "text/plain": [
       "array([ 0.63420017,  0.51675681, -0.5548421 , -1.15199686, -0.2410693 ,\n",
       "        1.64110743,  0.6444047 , -0.71992806, -0.4262423 ,  0.01577242,\n",
       "       -0.19171415, -0.56023137,  0.42659488, -0.25587056,  0.28094107,\n",
       "       -0.40639929, -0.49786887,  0.97031124,  0.50871434,  0.2555891 ,\n",
       "        0.3357659 ,  0.51313509,  0.39066382,  0.88642239,  0.21973531,\n",
       "        0.16309642,  0.38117948, -0.98738093, -0.48908426, -0.29816438])"
      ]
     },
     "execution_count": 25,
     "metadata": {},
     "output_type": "execute_result"
    }
   ],
   "source": [
    "grad_L(p,S,C,C_dot,gamma)"
   ]
  },
  {
   "cell_type": "markdown",
   "id": "aware-clear",
   "metadata": {},
   "source": [
    "## Test the gradient"
   ]
  },
  {
   "cell_type": "code",
   "execution_count": null,
   "id": "mineral-developer",
   "metadata": {},
   "outputs": [],
   "source": [
    "param = 14\n",
    "\n",
    "x = np.ones(N*N + N) + 10\n",
    "dx = 0.00001\n",
    "print(L_grad(x,ising.history,C,C_dot,gamma)[param])\n",
    "y_i = L_mat(x,ising.history,C,C_dot,gamma)\n",
    "x[param]+=dx\n",
    "y_f = L_mat(x,ising.history,C,C_dot,gamma)\n",
    "print((y_f-y_i)/dx)"
   ]
  }
 ],
 "metadata": {
  "kernelspec": {
   "display_name": "Python 3",
   "language": "python",
   "name": "python3"
  },
  "language_info": {
   "codemirror_mode": {
    "name": "ipython",
    "version": 3
   },
   "file_extension": ".py",
   "mimetype": "text/x-python",
   "name": "python",
   "nbconvert_exporter": "python",
   "pygments_lexer": "ipython3",
   "version": "3.8.8"
  }
 },
 "nbformat": 4,
 "nbformat_minor": 5
}
