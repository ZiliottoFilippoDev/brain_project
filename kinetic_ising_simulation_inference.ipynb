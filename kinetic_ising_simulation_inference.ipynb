{
 "cells": [
  {
   "cell_type": "code",
   "execution_count": 1,
   "id": "becoming-berkeley",
   "metadata": {},
   "outputs": [],
   "source": [
    "import numpy as np\n",
    "import matplotlib.pyplot as plt\n",
    "from tqdm import tqdm"
   ]
  },
  {
   "cell_type": "markdown",
   "id": "formal-collectible",
   "metadata": {},
   "source": [
    "## Kinetic Ising Model simulation\n",
    "Ising model with $N$ spins $\\{-1,1\\}$, cuplings matrix $J_{ij}$ and external field $h_i$. \n",
    "\n",
    "At each time step $\\delta t$ each spin $s_i$ flips with a probability \n",
    "$$p_{flip} = \\gamma \\delta t \\frac 1 2 [1-s_i(t)\\tanh H_i(t)] \\quad with \\quad\n",
    "H_i = h_i + \\sum_{j \\ne i} J_{ij}s_j(t)$$"
   ]
  },
  {
   "cell_type": "markdown",
   "id": "optical-latin",
   "metadata": {},
   "source": [
    "## Simulation"
   ]
  },
  {
   "cell_type": "code",
   "execution_count": 2,
   "id": "colored-classics",
   "metadata": {},
   "outputs": [],
   "source": [
    "def simulation(J,h,gamma,steps,dt):\n",
    "    S = [-np.ones(N)]\n",
    "    for i in tqdm(range(steps)):\n",
    "        s = np.copy(S[-1])\n",
    "        H = h + np.dot(J,s)\n",
    "        p_flip = gamma*dt*0.5*(1-s*np.tanh(H))\n",
    "        p = np.random.rand(N)\n",
    "        s[p<p_flip]*=-1\n",
    "        S.append(s)\n",
    "    S = np.array(S).T\n",
    "    return S"
   ]
  },
  {
   "cell_type": "code",
   "execution_count": 3,
   "id": "attempted-prospect",
   "metadata": {},
   "outputs": [
    {
     "name": "stderr",
     "output_type": "stream",
     "text": [
      "100%|██████████| 10000/10000 [00:00<00:00, 55836.58it/s]\n"
     ]
    }
   ],
   "source": [
    "np.random.seed(123)\n",
    "\n",
    "N = 10\n",
    "#########################################\n",
    "J = np.random.normal(0,1,(N,N))\n",
    "np.fill_diagonal(J,0)\n",
    "h = np.random.normal(0,1,N)\n",
    "\n",
    "p_real = np.concatenate((J.flatten(),h))\n",
    "##########################################\n",
    "gamma = 50\n",
    "steps = 10_000\n",
    "T = 5\n",
    "dt = 1/steps\n",
    "##########################################\n",
    "##SIMULATION\n",
    "S = simulation(J,h,gamma,steps,dt)"
   ]
  },
  {
   "cell_type": "code",
   "execution_count": 4,
   "id": "hazardous-ground",
   "metadata": {},
   "outputs": [
    {
     "data": {
      "text/plain": [
       "Text(0.5, 1.0, 'Spin evlolution in time. [$s_i=1$ yellow, $s_i=-1$ blue]')"
      ]
     },
     "execution_count": 4,
     "metadata": {},
     "output_type": "execute_result"
    },
    {
     "data": {
      "image/png": "[encoded data removed]",
      "text/plain": [
       "<Figure size 1080x720 with 1 Axes>"
      ]
     },
     "metadata": {
      "needs_background": "light"
     },
     "output_type": "display_data"
    }
   ],
   "source": [
    "plt.figure(figsize=(15,10))\n",
    "plt.imshow(S[:,:250])\n",
    "plt.xlabel('time')\n",
    "plt.ylabel(r'$s_i$')\n",
    "plt.title(r'Spin evlolution in time. [$s_i=1$ yellow, $s_i=-1$ blue]')"
   ]
  },
  {
   "cell_type": "markdown",
   "id": "indonesian-emission",
   "metadata": {},
   "source": [
    "### NB\n",
    "$S$ is $S_{it}$ "
   ]
  },
  {
   "cell_type": "markdown",
   "id": "cognitive-silver",
   "metadata": {},
   "source": [
    "## Inference\n",
    "\n",
    "### Equations\n",
    "\n",
    "$$\n",
    "\\dot C_{ij} = \\delta t ^{-1} \\cdot [\\langle s_i(t+\\delta t)\\cdot s_j(t) \\rangle_{t} - C_{i,j}] \\\\\n",
    "C_{ij} = \\langle s_i(t)\\cdot s_j(t) \\rangle_{t} \\\\\n",
    "L = \\frac 1 {N_t} \\sum_t\\sum_i \\Big[ h_i\\cdot s_i(t) + \\big[\\sum_{j\\ne i} J_{ij}\\cdot (\\gamma^{-1}\\dot{C_{ij}} + C_{ij})\\big] - \\log \\cosh H_i(t)\\Big]\n",
    "$$"
   ]
  },
  {
   "cell_type": "markdown",
   "id": "noticed-glory",
   "metadata": {},
   "source": [
    "### $C$ and $\\dot C$"
   ]
  },
  {
   "cell_type": "code",
   "execution_count": 5,
   "id": "practical-replacement",
   "metadata": {},
   "outputs": [],
   "source": [
    "def C_and_Cdot(S,dt):\n",
    "    # S row is the spins conf\n",
    "    # S column is the single spin evolution\n",
    "    N = S.shape[0]\n",
    "    C = np.zeros((N,N))\n",
    "    # since C is simmetric we can optimize it ... \n",
    "    for i in tqdm(range(N),desc='Computing C'):\n",
    "        for j in range(N):\n",
    "            C[i,j] = np.mean(S[i]*S[j])\n",
    "        \n",
    "    C_dot = np.zeros((N,N))\n",
    "    for i in tqdm(range(N),desc='Computing C_dot'):\n",
    "        for j in range(N):\n",
    "            C_dot[i,j] = np.mean(S[i,1:]*S[j,:-1])\n",
    "        \n",
    "    C_dot -= C\n",
    "    C_dot /= dt\n",
    "        \n",
    "    return C,C_dot        "
   ]
  },
  {
   "cell_type": "code",
   "execution_count": 6,
   "id": "medical-consciousness",
   "metadata": {},
   "outputs": [
    {
     "name": "stderr",
     "output_type": "stream",
     "text": [
      "Computing C: 100%|██████████| 10/10 [00:00<00:00, 1622.87it/s]\n",
      "Computing C_dot: 100%|██████████| 10/10 [00:00<00:00, 1449.71it/s]\n"
     ]
    }
   ],
   "source": [
    "C,C_dot = C_and_Cdot(S,dt)"
   ]
  },
  {
   "cell_type": "markdown",
   "id": "occupational-giant",
   "metadata": {},
   "source": [
    "## L\n",
    "In order to speed up the L function we use matrices.\n",
    "\n",
    "$equations$"
   ]
  },
  {
   "cell_type": "code",
   "execution_count": 7,
   "id": "placed-still",
   "metadata": {},
   "outputs": [],
   "source": [
    "def logcosh(x):\n",
    "    #the funcion is even, the trick is to avoid e^x\n",
    "    x = np.abs(x)\n",
    "    return np.log(1/2) + x + np.log(1 + np.exp(-2*x))\n",
    "\n",
    "#versione ottimizzata della funzione (e' super piu veloce); sfrutta numpy e le matrici\n",
    "def L(p,S,C,C_dot,gamma):\n",
    "    N_t = S.shape[1]\n",
    "    N = S.shape[0]\n",
    "    \n",
    "    # p are the params, S is the spins history\n",
    "    J = p[:N*N].reshape((N,N))     # NxN matrix\n",
    "    np.fill_diagonal(J,0)          #removing the diagonal terms for easier sums\n",
    "    h = p[N*N:]                    # N vector\n",
    "    \n",
    "    #### A #####\n",
    "    A = np.dot(S.T,h)\n",
    "    A = np.mean(A)\n",
    "    \n",
    "    #### B #####\n",
    "    B = J*(C_dot/gamma + C)\n",
    "    B = np.sum(B)\n",
    "    \n",
    "    #### C #####\n",
    "    C = np.tile(h,(N_t,1)).T\n",
    "    C += np.dot(J,S)\n",
    "    C = - logcosh(C)\n",
    "    C = np.mean(np.sum(C,axis=0))\n",
    "    \n",
    "    L = A+B+C\n",
    "    return L"
   ]
  },
  {
   "cell_type": "code",
   "execution_count": 8,
   "id": "growing-purchase",
   "metadata": {},
   "outputs": [],
   "source": [
    "#generating random parameters\n",
    "np.random.seed(234)\n",
    "p = np.random.normal(0,1,N*N+N)"
   ]
  },
  {
   "cell_type": "code",
   "execution_count": 9,
   "id": "configured-place",
   "metadata": {},
   "outputs": [
    {
     "data": {
      "text/plain": [
       "-19.47136250646906"
      ]
     },
     "execution_count": 9,
     "metadata": {},
     "output_type": "execute_result"
    }
   ],
   "source": [
    "L(p,S,C,C_dot,gamma)"
   ]
  },
  {
   "cell_type": "markdown",
   "id": "distributed-mining",
   "metadata": {},
   "source": [
    "## Gradinent\n",
    "$$\n",
    "\\frac {\\partial L}{\\partial h_i} = \\langle s_i(t) - \\tanh{H_i(t)} \\rangle_t \\\\\n",
    "\\frac {\\partial L}{\\partial J_{ij}} = \\gamma ^ {-1} \\dot{C_{ij}} + C_{ij} - \\langle \\tanh{(H_i(t))}s_j(t)  \\rangle_t\n",
    "$$\n",
    "\n",
    "Also in this case we use matrices to speed up the computation"
   ]
  },
  {
   "cell_type": "code",
   "execution_count": 10,
   "id": "mineral-motion",
   "metadata": {},
   "outputs": [],
   "source": [
    "def grad_L(p,S,C,C_dot,gamma):\n",
    "    N_t = S.shape[1]\n",
    "    N = S.shape[0]\n",
    "    \n",
    "    # p are the params, S is the spins history\n",
    "    J = p[:N*N].reshape((N,N))     # NxN matrix\n",
    "    np.fill_diagonal(J,0)          #removing the diagonal terms for easier sums\n",
    "    h = p[N*N:]                    # N vector\n",
    "    \n",
    "    #grad wrt h\n",
    "    H = np.tile(h,(N_t,1)).T\n",
    "    H += np.dot(J,S)\n",
    "    G_1 = np.mean(S-np.tanh(H),axis=1)\n",
    "    \n",
    "    #grad wrt J\n",
    "    G_0 = C_dot/gamma + C\n",
    "    G_0 -= (np.dot(np.tanh(H),S.T))/N_t\n",
    "    \n",
    "    return np.concatenate((G_0.flatten(),G_1))\n",
    "    "
   ]
  },
  {
   "cell_type": "code",
   "execution_count": 11,
   "id": "organized-november",
   "metadata": {},
   "outputs": [
    {
     "data": {
      "text/plain": [
       "(110,)"
      ]
     },
     "execution_count": 11,
     "metadata": {},
     "output_type": "execute_result"
    }
   ],
   "source": [
    "grad_L(p,S,C,C_dot,gamma).shape"
   ]
  },
  {
   "cell_type": "markdown",
   "id": "purple-october",
   "metadata": {},
   "source": [
    "## Test the gradient"
   ]
  },
  {
   "cell_type": "code",
   "execution_count": 12,
   "id": "final-attendance",
   "metadata": {},
   "outputs": [
    {
     "name": "stdout",
     "output_type": "stream",
     "text": [
      "0.2687051294870492\n",
      "0.2687034907467023\n"
     ]
    }
   ],
   "source": [
    "param = 1\n",
    "\n",
    "x = np.ones(N*N + N) + 10\n",
    "dx = 0.00001\n",
    "print(grad_L(x,S,C,C_dot,gamma)[param])\n",
    "y_i = L(x,S,C,C_dot,gamma)\n",
    "x[param]+=dx\n",
    "y_f = L(x,S,C,C_dot,gamma)\n",
    "print((y_f-y_i)/dx)"
   ]
  },
  {
   "cell_type": "markdown",
   "id": "immediate-defense",
   "metadata": {},
   "source": [
    "### Maximization"
   ]
  },
  {
   "cell_type": "markdown",
   "id": "criminal-jumping",
   "metadata": {},
   "source": [
    "### SGA with regularization"
   ]
  },
  {
   "cell_type": "code",
   "execution_count": 49,
   "id": "circular-underwear",
   "metadata": {},
   "outputs": [
    {
     "name": "stderr",
     "output_type": "stream",
     "text": [
      " 18%|█▊        | 1770/10000 [00:16<01:18, 105.47it/s]\n"
     ]
    },
    {
     "data": {
      "text/plain": [
       "[<matplotlib.lines.Line2D at 0x7f623fcf2280>]"
      ]
     },
     "execution_count": 49,
     "metadata": {},
     "output_type": "execute_result"
    },
    {
     "data": {
      "image/png": "[encoded data removed]",
      "text/plain": [
       "<Figure size 432x288 with 1 Axes>"
      ]
     },
     "metadata": {
      "needs_background": "light"
     },
     "output_type": "display_data"
    }
   ],
   "source": [
    "np.random.seed(1234)\n",
    "l_r = 0.001\n",
    "STEPS = 10000\n",
    "p_0 = np.random.normal(0,2,N*N+N)\n",
    "LAMBDA = 0.4\n",
    "\n",
    "ris = [L(p_0,S,C,C_dot,gamma)]\n",
    "for i in tqdm(range(STEPS)):\n",
    "    p_0 += l_r * (grad_L(p_0,S,C,C_dot,gamma) - LAMBDA*(np.abs(p_0)))\n",
    "    ris.append(L(p_0,S,C,C_dot,gamma))\n",
    "    if ris[-1]<ris[-2]: break\n",
    "plt.plot(ris)"
   ]
  },
  {
   "cell_type": "markdown",
   "id": "dried-nitrogen",
   "metadata": {},
   "source": [
    "### NAG"
   ]
  },
  {
   "cell_type": "code",
   "execution_count": 65,
   "id": "lined-pickup",
   "metadata": {},
   "outputs": [
    {
     "name": "stderr",
     "output_type": "stream",
     "text": [
      "100%|██████████| 1000/1000 [00:08<00:00, 112.47it/s]\n"
     ]
    },
    {
     "data": {
      "text/plain": [
       "[<matplotlib.lines.Line2D at 0x7f62444106a0>]"
      ]
     },
     "execution_count": 65,
     "metadata": {},
     "output_type": "execute_result"
    },
    {
     "data": {
      "image/png": "[encoded data removed]",
      "text/plain": [
       "<Figure size 432x288 with 1 Axes>"
      ]
     },
     "metadata": {
      "needs_background": "light"
     },
     "output_type": "display_data"
    }
   ],
   "source": [
    "np.random.seed(123)\n",
    "p_nag = np.random.normal(0,2,N*N+N)\n",
    "v = np.zeros(N*N+N)\n",
    "### PARAMS\n",
    "steps = 1000\n",
    "l_r = 0.01\n",
    "fric = 0.9\n",
    "LAMBDA = 0\n",
    "\n",
    "ris = [L(p_nag,S,C,C_dot,gamma)]\n",
    "for i in tqdm(range(steps)):\n",
    "    v = fric*v + l_r * (grad_L(p_nag+fric*v,S,C,C_dot,gamma) - LAMBDA*(np.abs(p_nag)))\n",
    "    p_nag += v\n",
    "    ris.append(L(p_nag,S,C,C_dot,gamma))\n",
    "    \n",
    "plt.plot(ris)"
   ]
  },
  {
   "cell_type": "markdown",
   "id": "palestinian-residence",
   "metadata": {},
   "source": [
    "### RMS prop"
   ]
  },
  {
   "cell_type": "code",
   "execution_count": 67,
   "id": "universal-species",
   "metadata": {
    "scrolled": true
   },
   "outputs": [
    {
     "name": "stderr",
     "output_type": "stream",
     "text": [
      "100%|██████████| 1000/1000 [00:09<00:00, 106.76it/s]\n"
     ]
    },
    {
     "data": {
      "text/plain": [
       "[<matplotlib.lines.Line2D at 0x7f6244226580>]"
      ]
     },
     "execution_count": 67,
     "metadata": {},
     "output_type": "execute_result"
    },
    {
     "data": {
      "image/png": "[encoded data removed]",
      "text/plain": [
       "<Figure size 432x288 with 1 Axes>"
      ]
     },
     "metadata": {
      "needs_background": "light"
     },
     "output_type": "display_data"
    }
   ],
   "source": [
    "p_rms = np.random.normal(0,2,N*N+N)\n",
    "s = np.zeros(N*N+N)\n",
    "### PARAMS\n",
    "steps = 1000\n",
    "l_r = 0.01\n",
    "beta = 0.9\n",
    "eps = 10**(-8)\n",
    "LAMBDA = 0.0\n",
    "\n",
    "ris = [L(p_rms,S,C,C_dot,gamma)]\n",
    "for i in tqdm(range(steps)):\n",
    "    g = grad_L(p_rms,S,C,C_dot,gamma)-LAMBDA*(np.abs(p_rms))\n",
    "    s = beta * s + (1-beta)*g*g\n",
    "    p_rms += l_r*g/np.sqrt(s+eps)                                      \n",
    "    \n",
    "    ris.append(L(p_rms,S,C,C_dot,gamma))\n",
    "    \n",
    "plt.plot(ris)"
   ]
  },
  {
   "cell_type": "code",
   "execution_count": 68,
   "id": "ideal-involvement",
   "metadata": {},
   "outputs": [
    {
     "data": {
      "image/png": "[encoded data removed]",
      "text/plain": [
       "<Figure size 432x288 with 1 Axes>"
      ]
     },
     "metadata": {
      "needs_background": "light"
     },
     "output_type": "display_data"
    },
    {
     "data": {
      "image/png": "[encoded data removed]",
      "text/plain": [
       "<Figure size 432x288 with 1 Axes>"
      ]
     },
     "metadata": {
      "needs_background": "light"
     },
     "output_type": "display_data"
    }
   ],
   "source": [
    "plot_coeff(p_rms,N)"
   ]
  },
  {
   "cell_type": "markdown",
   "id": "intelligent-survey",
   "metadata": {},
   "source": [
    "## Comparison"
   ]
  },
  {
   "cell_type": "code",
   "execution_count": 23,
   "id": "answering-layout",
   "metadata": {},
   "outputs": [],
   "source": [
    "def plot_coeff(c,N):\n",
    "    J = c[:N*N].reshape((N,N))\n",
    "    h = c[N*N:]\n",
    "    \n",
    "    plt.imshow(J)\n",
    "    plt.title(r'$J$')\n",
    "    plt.figure()\n",
    "    plt.title(r'$h$')\n",
    "    plt.imshow([h,])"
   ]
  },
  {
   "cell_type": "code",
   "execution_count": 24,
   "id": "driven-thumbnail",
   "metadata": {},
   "outputs": [
    {
     "data": {
      "image/png": "[encoded data removed]",
      "text/plain": [
       "<Figure size 432x288 with 1 Axes>"
      ]
     },
     "metadata": {
      "needs_background": "light"
     },
     "output_type": "display_data"
    },
    {
     "data": {
      "image/png": "[encoded data removed]",
      "text/plain": [
       "<Figure size 432x288 with 1 Axes>"
      ]
     },
     "metadata": {
      "needs_background": "light"
     },
     "output_type": "display_data"
    }
   ],
   "source": [
    "plot_coeff(p_real,N)"
   ]
  },
  {
   "cell_type": "code",
   "execution_count": 50,
   "id": "meaning-assistant",
   "metadata": {},
   "outputs": [
    {
     "data": {
      "image/png": "[encoded data removed]",
      "text/plain": [
       "<Figure size 432x288 with 1 Axes>"
      ]
     },
     "metadata": {
      "needs_background": "light"
     },
     "output_type": "display_data"
    },
    {
     "data": {
      "image/png": "[encoded data removed]",
      "text/plain": [
       "<Figure size 432x288 with 1 Axes>"
      ]
     },
     "metadata": {
      "needs_background": "light"
     },
     "output_type": "display_data"
    }
   ],
   "source": [
    "plot_coeff(p_0,N)"
   ]
  },
  {
   "cell_type": "code",
   "execution_count": 69,
   "id": "cosmetic-endorsement",
   "metadata": {},
   "outputs": [
    {
     "data": {
      "text/plain": [
       "[<matplotlib.lines.Line2D at 0x7f6244476be0>]"
      ]
     },
     "execution_count": 69,
     "metadata": {},
     "output_type": "execute_result"
    },
    {
     "data": {
      "image/png": "[encoded data removed]",
      "text/plain": [
       "<Figure size 432x288 with 1 Axes>"
      ]
     },
     "metadata": {
      "needs_background": "light"
     },
     "output_type": "display_data"
    }
   ],
   "source": [
    "plt.plot(p_0-p_real)"
   ]
  },
  {
   "cell_type": "code",
   "execution_count": null,
   "id": "royal-dallas",
   "metadata": {},
   "outputs": [],
   "source": []
  }
 ],
 "metadata": {
  "kernelspec": {
   "display_name": "Python 3",
   "language": "python",
   "name": "python3"
  },
  "language_info": {
   "codemirror_mode": {
    "name": "ipython",
    "version": 3
   },
   "file_extension": ".py",
   "mimetype": "text/x-python",
   "name": "python",
   "nbconvert_exporter": "python",
   "pygments_lexer": "ipython3",
   "version": "3.8.8"
  }
 },
 "nbformat": 4,
 "nbformat_minor": 5
}
