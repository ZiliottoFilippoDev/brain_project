{
 "cells": [
  {
   "cell_type": "code",
   "execution_count": 1,
   "id": "governing-smile",
   "metadata": {},
   "outputs": [],
   "source": [
    "import numpy as np\n",
    "import matplotlib.pyplot as plt\n",
    "from tqdm import tqdm\n",
    "from dask import delayed"
   ]
  },
  {
   "cell_type": "code",
   "execution_count": 2,
   "id": "massive-creature",
   "metadata": {},
   "outputs": [],
   "source": [
    "def C_and_Cdot(S,dt):\n",
    "    N = S.shape[0]\n",
    "    C = np.dot(S, S.T)/S.shape[1]\n",
    "    C_dot = np.dot(S[:,1:], S[:,:-1].T)/(S.shape[1]-1)\n",
    "    C_dot -= C\n",
    "    C_dot /= dt\n",
    "        \n",
    "    return C,C_dot      \n",
    "\n",
    "def grad_L(p,S,C,C_dot,gamma):\n",
    "    N_t = S.shape[1]\n",
    "    N = S.shape[0]\n",
    "    \n",
    "    # p are the params, S is the spins history\n",
    "    J = p[:N*N].reshape((N,N))     # NxN matrix\n",
    "    np.fill_diagonal(J,0)          #removing the diagonal terms for easier sums\n",
    "    h = p[N*N:]                    # N vector\n",
    "    \n",
    "    #grad wrt h\n",
    "    H = (h + np.dot(J,S).T).T\n",
    "    G_1 = np.mean(S-np.tanh(H),axis=1)\n",
    "    \n",
    "    #grad wrt J\n",
    "    G_0 = C_dot/gamma + C\n",
    "    G_0 -= (np.dot(np.tanh(H),S.T))/N_t\n",
    "    \n",
    "    #new\n",
    "    np.fill_diagonal(G_0,0)\n",
    "    return np.concatenate((G_0.flatten(),G_1))\n",
    "    \n",
    "def parralel_grad(p,S_split,C,C_dot,gamma):\n",
    "    ris = []\n",
    "    for S in S_split:\n",
    "        ris.append(delayed(grad_L)(p,S,C,C_dot,gamma))\n",
    "    grad = delayed(sum)(ris).compute()/len(S_split)\n",
    "    return grad"
   ]
  },
  {
   "cell_type": "code",
   "execution_count": 3,
   "id": "gorgeous-shooting",
   "metadata": {},
   "outputs": [
    {
     "name": "stdout",
     "output_type": "stream",
     "text": [
      "spins_N100_steps100000_dt0.1_gamma1.npy\r\n",
      "spins_N100_steps200000_dt0.1_gamma1.npy\r\n"
     ]
    }
   ],
   "source": [
    "!ls DATA"
   ]
  },
  {
   "cell_type": "code",
   "execution_count": 4,
   "id": "valuable-national",
   "metadata": {},
   "outputs": [],
   "source": [
    "S = np.load('DATA/spins_N100_steps200000_dt0.1_gamma1.npy')\n",
    "#-----------------------params------------------------------------#\n",
    "gamma = 1\n",
    "dt = 0.1\n",
    "N, steps = S.shape\n",
    "\n",
    "C,C_dot = C_and_Cdot(S,dt)\n",
    "np.random.seed(201098)\n",
    "J = np.random.normal(0,1,(N,N))\n",
    "np.fill_diagonal(J,0)\n",
    "h = np.random.normal(0,1,N)\n",
    "p_real = np.concatenate((J.flatten(),h))\n",
    "del J,h\n",
    "#-----------------------n cores------------------------------------#\n",
    "n_cores = 4\n",
    "\n",
    "S_split = np.array_split(S,n_cores,axis = 1)\n",
    "del S"
   ]
  },
  {
   "cell_type": "code",
   "execution_count": 5,
   "id": "respected-petersburg",
   "metadata": {
    "scrolled": true
   },
   "outputs": [
    {
     "name": "stdout",
     "output_type": "stream",
     "text": [
      "CPU times: user 2.92 s, sys: 598 ms, total: 3.51 s\n",
      "Wall time: 911 ms\n",
      "CPU times: user 1.94 s, sys: 471 ms, total: 2.41 s\n",
      "Wall time: 1.54 s\n"
     ]
    }
   ],
   "source": [
    "%time _ = parralel_grad(p_real,S_split,C,C_dot,gamma)\n",
    "%time _ = grad_L(p_real,np.hstack(S_split),C,C_dot,gamma)"
   ]
  },
  {
   "cell_type": "markdown",
   "id": "binding-nightlife",
   "metadata": {},
   "source": [
    "### Optimization"
   ]
  },
  {
   "cell_type": "markdown",
   "id": "spiritual-mason",
   "metadata": {},
   "source": [
    "### SGA with momentum"
   ]
  },
  {
   "cell_type": "code",
   "execution_count": 12,
   "id": "designed-ability",
   "metadata": {},
   "outputs": [
    {
     "name": "stderr",
     "output_type": "stream",
     "text": [
      "100%|██████████| 500/500 [07:50<00:00,  1.06it/s]"
     ]
    },
    {
     "name": "stdout",
     "output_type": "stream",
     "text": [
      "MSE:  2857.3787992355756\n"
     ]
    },
    {
     "name": "stderr",
     "output_type": "stream",
     "text": [
      "\n"
     ]
    },
    {
     "data": {
      "text/plain": [
       "[<matplotlib.lines.Line2D at 0x7f9601bea400>]"
      ]
     },
     "execution_count": 12,
     "metadata": {},
     "output_type": "execute_result"
    },
    {
     "data": {
      "image/png": "[encoded data removed]",
      "text/plain": [
       "<Figure size 432x288 with 1 Axes>"
      ]
     },
     "metadata": {
      "needs_background": "light"
     },
     "output_type": "display_data"
    }
   ],
   "source": [
    "np.random.seed(1234)\n",
    "p_mom = np.random.normal(0,2,N*N+N)\n",
    "v = np.zeros(N*N+N)\n",
    "### PARAMS\n",
    "steps = 500\n",
    "l_r = 0.1\n",
    "fric = 0.9\n",
    "\n",
    "for i in tqdm(range(steps)):\n",
    "    g = parralel_grad(p_mom,S_split,C,C_dot,gamma)\n",
    "    v = fric*v + l_r * g\n",
    "    p_mom += v\n",
    "\n",
    "print('MSE: ',np.sum((p_mom-p_real)**2))      \n",
    "plt.figure()\n",
    "plt.plot(p_mom,p_real,'o')\n",
    "plt.plot([min(p_real),max(p_real)],[min(p_real),max(p_real)],'--',color ='red')"
   ]
  },
  {
   "cell_type": "markdown",
   "id": "political-declaration",
   "metadata": {},
   "source": [
    "### RMS PROP"
   ]
  },
  {
   "cell_type": "code",
   "execution_count": 13,
   "id": "better-breach",
   "metadata": {},
   "outputs": [
    {
     "name": "stderr",
     "output_type": "stream",
     "text": [
      "100%|██████████| 500/500 [07:59<00:00,  1.04it/s]"
     ]
    },
    {
     "name": "stdout",
     "output_type": "stream",
     "text": [
      "MSE:  16378.447504990841\n"
     ]
    },
    {
     "name": "stderr",
     "output_type": "stream",
     "text": [
      "\n"
     ]
    },
    {
     "data": {
      "text/plain": [
       "[<matplotlib.lines.Line2D at 0x7f9601b5f610>]"
      ]
     },
     "execution_count": 13,
     "metadata": {},
     "output_type": "execute_result"
    },
    {
     "data": {
      "image/png": "[encoded data removed]",
      "text/plain": [
       "<Figure size 432x288 with 1 Axes>"
      ]
     },
     "metadata": {
      "needs_background": "light"
     },
     "output_type": "display_data"
    }
   ],
   "source": [
    "np.random.seed(1234)\n",
    "p_rms = np.random.normal(0,2,N*N+N)\n",
    "s = np.zeros(N*N+N)\n",
    "### PARAMS\n",
    "steps = 500\n",
    "l_r = 0.05\n",
    "beta = 0.9\n",
    "eps = 10**(-8)\n",
    "\n",
    "\n",
    "for i in tqdm(range(steps)):\n",
    "    g = parralel_grad(p_rms,S_split,C,C_dot,gamma)\n",
    "    s = beta * s + (1-beta)*g*g\n",
    "    p_rms += l_r*g/np.sqrt(s+eps)                                      \n",
    "    \n",
    "\n",
    "print('MSE: ',np.sum((p_rms-p_real)**2))      \n",
    "#plt.plot(ris)\n",
    "plt.figure()\n",
    "plt.plot(p_rms,p_real,'o')\n",
    "plt.plot([min(p_real),max(p_real)],[min(p_real),max(p_real)],'--',color ='red')"
   ]
  },
  {
   "cell_type": "code",
   "execution_count": null,
   "id": "bridal-standard",
   "metadata": {},
   "outputs": [],
   "source": []
  }
 ],
 "metadata": {
  "kernelspec": {
   "display_name": "Python 3",
   "language": "python",
   "name": "python3"
  },
  "language_info": {
   "codemirror_mode": {
    "name": "ipython",
    "version": 3
   },
   "file_extension": ".py",
   "mimetype": "text/x-python",
   "name": "python",
   "nbconvert_exporter": "python",
   "pygments_lexer": "ipython3",
   "version": "3.8.8"
  }
 },
 "nbformat": 4,
 "nbformat_minor": 5
}
