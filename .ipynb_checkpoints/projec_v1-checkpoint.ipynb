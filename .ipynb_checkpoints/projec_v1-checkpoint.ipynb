{
 "cells": [
  {
   "cell_type": "code",
   "execution_count": 35,
   "id": "ahead-compound",
   "metadata": {},
   "outputs": [],
   "source": [
    "import numpy as np\n",
    "import matplotlib.pyplot as plt\n",
    "from tqdm import tqdm"
   ]
  },
  {
   "cell_type": "markdown",
   "id": "thirty-color",
   "metadata": {},
   "source": [
    "## Kinetic Ising Model simulation\n",
    "Ising model with $N$ spins $\\{-1,1\\}$, cuplings matrix $J_{ij}$ and external field $h_i$. \n",
    "\n",
    "At each time step $\\delta t$ each spin $s_i$ flips with a probability \n",
    "$$p_{flip} = \\gamma \\delta t \\frac 1 2 [1-s_i(t)\\tanh H_i(t)] \\quad with \\quad\n",
    "H_i = h_i + \\sum_{j \\ne i} J_{ij}s_j(t)$$"
   ]
  },
  {
   "cell_type": "code",
   "execution_count": 36,
   "id": "distinct-display",
   "metadata": {},
   "outputs": [],
   "source": [
    "class kinetic_ising:\n",
    "    def __init__(self, N, J, h, gamma = 1):\n",
    "        self.N = N\n",
    "        self.J = J\n",
    "        self.h = h\n",
    "        self.S = np.ones(N)\n",
    "        self.H_i = np.dot(self.J,self.S)+self.h\n",
    "        self.gamma = gamma\n",
    "        self.history = np.copy(self.S)\n",
    "        \n",
    "    def comp_H(self):\n",
    "        #the last term is due to i!=j\n",
    "        self.H_i = np.dot(self.J,self.S)+self.h-np.diagonal(self.J)*self.S\n",
    "    \n",
    "    def store(self):\n",
    "        self.history = np.vstack((self.history,self.S))\n",
    "    \n",
    "    def update(self,dt):\n",
    "        p = np.random.rand(N)\n",
    "        p_up = dt*self.gamma*0.5*(1-self.S*np.tanh(self.H_i))\n",
    "        self.S[p < p_up] *= -1\n",
    "        self.store()\n",
    "        self.comp_H()\n",
    "        \n",
    "    def reset(self):\n",
    "        self.S = np.ones(N)\n",
    "        self.history = np.copy(self.S)\n",
    "    \n",
    "    #if we put this func outside we can also use njit     \n",
    "    def C(self):\n",
    "        # NB : in our case history[i,j] i is the time and j is the spin\n",
    "        C = np.zeros((N,N))\n",
    "        # since C is simmetric we can optimize it ... \n",
    "        for i in tqdm(range(N),desc='Computing C'):\n",
    "            for j in range(N):\n",
    "                C[i,j] = np.mean(self.history[:,i]*self.history[:,j])\n",
    "        \n",
    "        C_dot = np.zeros((N,N))\n",
    "        for i in tqdm(range(N),desc='Computing C_dot'):\n",
    "            for j in range(N):\n",
    "                C_dot[i,j] = np.mean(self.history[1:,i]*self.history[:-1,j])\n",
    "        \n",
    "        C_dot -= C\n",
    "        C_dot *= self.gamma\n",
    "        \n",
    "        return C,C_dot\n",
    "    \n",
    "        \n",
    "        "
   ]
  },
  {
   "cell_type": "code",
   "execution_count": 47,
   "id": "romantic-treasurer",
   "metadata": {},
   "outputs": [],
   "source": [
    "np.random.seed(123)\n",
    "#number of spins\n",
    "N = 5\n",
    "\n",
    "#interactions matrix\n",
    "mu = 0\n",
    "sigma = 1\n",
    "J = np.random.normal(mu,sigma,(N,N))\n",
    "\n",
    "#external field\n",
    "mu = -0.2\n",
    "sigma = 0.1\n",
    "h = np.random.normal(mu,sigma,N)\n",
    "\n",
    "ising = kinetic_ising(N,J,h)"
   ]
  },
  {
   "cell_type": "code",
   "execution_count": 48,
   "id": "adverse-offer",
   "metadata": {},
   "outputs": [],
   "source": [
    "ising.reset()\n",
    "np.random.seed(123)\n",
    "\n",
    "time = 1\n",
    "steps = 1000\n",
    "gamma = 1\n",
    "dt = time / steps\n",
    "for i in range(steps):\n",
    "    ising.update((dt))"
   ]
  },
  {
   "cell_type": "code",
   "execution_count": 49,
   "id": "artificial-ireland",
   "metadata": {},
   "outputs": [
    {
     "name": "stderr",
     "output_type": "stream",
     "text": [
      "Computing C: 100%|██████████| 5/5 [00:00<00:00, 4963.67it/s]\n",
      "Computing C_dot: 100%|██████████| 5/5 [00:00<00:00, 3638.99it/s]\n"
     ]
    }
   ],
   "source": [
    "C,C_dot = ising.C()"
   ]
  },
  {
   "cell_type": "code",
   "execution_count": 51,
   "id": "dutch-hudson",
   "metadata": {
    "scrolled": true
   },
   "outputs": [
    {
     "data": {
      "text/plain": [
       "Text(0.5, 1.0, 'Spin evlolution in time. [$s_i=1$ yellow, $s_i=-1$ blue]')"
      ]
     },
     "execution_count": 51,
     "metadata": {},
     "output_type": "execute_result"
    },
    {
     "data": {
      "image/png": "[encoded data removed]",
      "text/plain": [
       "<Figure size 720x216 with 1 Axes>"
      ]
     },
     "metadata": {
      "needs_background": "light"
     },
     "output_type": "display_data"
    }
   ],
   "source": [
    "plt.figure(figsize=(10,3))\n",
    "plt.imshow(ising.history.T)\n",
    "plt.xlabel('time')\n",
    "plt.ylabel(r'$s_i$')\n",
    "plt.title(r'Spin evlolution in time. [$s_i=1$ yellow, $s_i=-1$ blue]')"
   ]
  },
  {
   "cell_type": "markdown",
   "id": "pleasant-klein",
   "metadata": {},
   "source": [
    "## Test on function maximization"
   ]
  },
  {
   "cell_type": "code",
   "execution_count": 41,
   "id": "reliable-aberdeen",
   "metadata": {},
   "outputs": [],
   "source": [
    "from scipy.optimize import minimize\n",
    "def f(x,a):return np.sum(x**2)+a"
   ]
  },
  {
   "cell_type": "code",
   "execution_count": 42,
   "id": "ancient-small",
   "metadata": {
    "scrolled": true
   },
   "outputs": [
    {
     "name": "stdout",
     "output_type": "stream",
     "text": [
      "CPU times: user 3.36 s, sys: 51.9 ms, total: 3.42 s\n",
      "Wall time: 1.75 s\n"
     ]
    },
    {
     "data": {
      "text/plain": [
       "3.922615878063779e-09"
      ]
     },
     "execution_count": 42,
     "metadata": {},
     "output_type": "execute_result"
    }
   ],
   "source": [
    "x0 =np.ones(2000)\n",
    "%time np.mean(minimize(f,x0,args=(4)).x)"
   ]
  },
  {
   "cell_type": "markdown",
   "id": "civil-variable",
   "metadata": {},
   "source": [
    "## Inference"
   ]
  },
  {
   "cell_type": "markdown",
   "id": "proud-impression",
   "metadata": {},
   "source": [
    "### I'm not sure :( \n",
    "$$\n",
    "\\dot C_{ij} = \\gamma \\cdot [\\langle s_i(\\tau_{k+1})\\cdot s_j(\\tau_k) \\rangle_{\\tau_k} - C_{i,j}] \\\\\n",
    "C_{ij} = \\langle s_i(\\tau_{k})\\cdot s_j(\\tau_k) \\rangle_{\\tau_k} \\\\\n",
    "L = \\frac 1 {N_k} \\sum_k\\sum_i h_i\\cdot s_i(\\tau_k) + [\\sum_{j\\ne i} J_{ij}\\cdot (\\gamma^{-1}\\dot{C_{ij}} - C_{ij})] - \\log \\cosh H_i(\\tau_k)\n",
    "$$"
   ]
  },
  {
   "cell_type": "code",
   "execution_count": 43,
   "id": "affected-february",
   "metadata": {},
   "outputs": [],
   "source": [
    "def logcosh(x):\n",
    "    x = np.abs(x)\n",
    "    return np.log(1/2) + x + np.log(1 + np.exp(-2*x))\n",
    "\n",
    "def L(p,s,C,C_dot,gamma,steps):\n",
    "    # p are the params, s is the spins history\n",
    "    N = len(s[0])\n",
    "    J = p[:N*N].reshape((N,N))\n",
    "    h = p[N*N:]\n",
    "    \n",
    "    C_i = C_dot/gamma + C\n",
    "    C_i = np.sum(C_i*J,axis = 1) - np.diagonal(C_i*J)\n",
    "    L = 0\n",
    "    for S in s:\n",
    "        H_i = np.dot(J,S)+h - np.diagonal(J)*S\n",
    "        L += np.sum(-np.log(logcosh(H_i)) + S*h + C_i)\n",
    "    L /= -steps\n",
    "    return L"
   ]
  },
  {
   "cell_type": "code",
   "execution_count": 44,
   "id": "liquid-layout",
   "metadata": {},
   "outputs": [],
   "source": [
    "p_real = np.concatenate((J.flatten(),h))\n",
    "#p_0 = np.random.normal(0,0.1,N*N+N)\n",
    "p_0 = np.ones(N*N+N)\n",
    "p_inf = minimize(L,p_0,args=(ising.history,C,C_dot,gamma,steps)).x"
   ]
  },
  {
   "cell_type": "code",
   "execution_count": 46,
   "id": "pregnant-january",
   "metadata": {},
   "outputs": [
    {
     "data": {
      "text/plain": [
       "-59177208.90778769"
      ]
     },
     "execution_count": 46,
     "metadata": {},
     "output_type": "execute_result"
    }
   ],
   "source": [
    "L(p_inf,ising.history,C,C_dot,gamma,steps)"
   ]
  },
  {
   "cell_type": "code",
   "execution_count": null,
   "id": "treated-beach",
   "metadata": {},
   "outputs": [],
   "source": []
  }
 ],
 "metadata": {
  "kernelspec": {
   "display_name": "Python 3",
   "language": "python",
   "name": "python3"
  },
  "language_info": {
   "codemirror_mode": {
    "name": "ipython",
    "version": 3
   },
   "file_extension": ".py",
   "mimetype": "text/x-python",
   "name": "python",
   "nbconvert_exporter": "python",
   "pygments_lexer": "ipython3",
   "version": "3.8.8"
  }
 },
 "nbformat": 4,
 "nbformat_minor": 5
}
