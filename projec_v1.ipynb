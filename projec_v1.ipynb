{
 "cells": [
  {
   "cell_type": "code",
   "execution_count": 164,
   "id": "ahead-compound",
   "metadata": {},
   "outputs": [],
   "source": [
    "import numpy as np\n",
    "import matplotlib.pyplot as plt\n",
    "from tqdm import tqdm"
   ]
  },
  {
   "cell_type": "markdown",
   "id": "thirty-color",
   "metadata": {},
   "source": [
    "## Kinetic Ising Model simulation\n",
    "Ising model with $N$ spins $\\{-1,1\\}$, cuplings matrix $J_{ij}$ and external field $h_i$. \n",
    "\n",
    "At each time step $\\delta t$ each spin $s_i$ flips with a probability \n",
    "$$p_{flip} = \\gamma \\delta t \\frac 1 2 [1-s_i(t)\\tanh H_i(t)] \\quad with \\quad\n",
    "H_i = h_i + \\sum_{j \\ne i} J_{ij}s_j(t)$$"
   ]
  },
  {
   "cell_type": "code",
   "execution_count": 224,
   "id": "distinct-display",
   "metadata": {},
   "outputs": [],
   "source": [
    "class kinetic_ising:\n",
    "    def __init__(self, N, J, h, gamma = 1):\n",
    "        self.N = N\n",
    "        self.J = J\n",
    "        self.h = h\n",
    "        self.S = np.ones(N)\n",
    "        self.H_i = np.dot(self.J,self.S)+self.h-np.diagonal(self.J)*self.S\n",
    "        self.gamma = gamma\n",
    "        self.history = np.copy(self.S)\n",
    "        \n",
    "    def comp_H(self):\n",
    "        #the last term is due to i!=j\n",
    "        self.H_i = np.dot(self.J,self.S)+self.h-np.diagonal(self.J)*self.S\n",
    "    \n",
    "    def store(self):\n",
    "        self.history = np.vstack((self.history,self.S))\n",
    "    \n",
    "    def update(self,dt):\n",
    "        p = np.random.rand(N)\n",
    "        p_up = dt*self.gamma*0.5*(1-self.S*np.tanh(self.H_i))\n",
    "        self.S[p < p_up] *= -1\n",
    "        self.store()\n",
    "        self.comp_H()\n",
    "        \n",
    "    def reset(self):\n",
    "        self.S = np.ones(N)\n",
    "        self.history = np.copy(self.S)\n",
    "    \n",
    "    #if we put this func outside we can also use njit     \n",
    "    def C(self,dt):\n",
    "        # NB : in our case history[i,j] i is the time and j is the spin\n",
    "        C = np.zeros((N,N))\n",
    "        # since C is simmetric we can optimize it ... \n",
    "        for i in tqdm(range(N),desc='Computing C'):\n",
    "            for j in range(N):\n",
    "                C[i,j] = np.mean(self.history[:,i]*self.history[:,j])\n",
    "        \n",
    "        C_dot = np.zeros((N,N))\n",
    "        for i in tqdm(range(N),desc='Computing C_dot'):\n",
    "            for j in range(N):\n",
    "                C_dot[i,j] = np.mean(self.history[1:,i]*self.history[:-1,j])\n",
    "        \n",
    "        C_dot -= C\n",
    "        C_dot /= dt\n",
    "        \n",
    "        return C,C_dot\n",
    "    \n",
    "        \n",
    "        "
   ]
  },
  {
   "cell_type": "code",
   "execution_count": 307,
   "id": "romantic-treasurer",
   "metadata": {},
   "outputs": [],
   "source": [
    "np.random.seed(123)\n",
    "#number of spins\n",
    "N = 5\n",
    "\n",
    "#interactions matrix\n",
    "mu = 0\n",
    "sigma = 1\n",
    "J = np.random.normal(mu,sigma,(N,N))\n",
    "\n",
    "#external field\n",
    "mu = -0.2\n",
    "sigma = 0.1\n",
    "h = np.random.normal(mu,sigma,N)\n",
    "\n",
    "gamma = 10\n",
    "ising = kinetic_ising(N,J,h,gamma)"
   ]
  },
  {
   "cell_type": "code",
   "execution_count": 355,
   "id": "adverse-offer",
   "metadata": {},
   "outputs": [],
   "source": [
    "ising.reset()\n",
    "np.random.seed(123)\n",
    "\n",
    "time = 1\n",
    "steps = 1000\n",
    "dt = time / steps\n",
    "for i in range(steps):\n",
    "    ising.update((dt))"
   ]
  },
  {
   "cell_type": "code",
   "execution_count": 356,
   "id": "artificial-ireland",
   "metadata": {
    "scrolled": true
   },
   "outputs": [
    {
     "name": "stderr",
     "output_type": "stream",
     "text": [
      "Computing C: 100%|██████████| 5/5 [00:00<00:00, 4758.68it/s]\n",
      "Computing C_dot: 100%|██████████| 5/5 [00:00<00:00, 3247.37it/s]\n"
     ]
    }
   ],
   "source": [
    "C,C_dot = ising.C(dt)"
   ]
  },
  {
   "cell_type": "code",
   "execution_count": 357,
   "id": "dutch-hudson",
   "metadata": {
    "scrolled": false
   },
   "outputs": [
    {
     "data": {
      "text/plain": [
       "Text(0.5, 1.0, '$J$')"
      ]
     },
     "execution_count": 357,
     "metadata": {},
     "output_type": "execute_result"
    },
    {
     "data": {
      "image/png": "[encoded data removed]",
      "text/plain": [
       "<Figure size 720x216 with 1 Axes>"
      ]
     },
     "metadata": {
      "needs_background": "light"
     },
     "output_type": "display_data"
    },
    {
     "data": {
      "image/png": "[encoded data removed]",
      "text/plain": [
       "<Figure size 360x360 with 2 Axes>"
      ]
     },
     "metadata": {
      "needs_background": "light"
     },
     "output_type": "display_data"
    }
   ],
   "source": [
    "plt.figure(figsize=(10,3))\n",
    "indcs = [i*10 for i in range(100)]\n",
    "plt.imshow(ising.history.T)#[:,indcs])\n",
    "plt.xlabel('time')\n",
    "plt.ylabel(r'$s_i$')\n",
    "plt.title(r'Spin evlolution in time. [$s_i=1$ yellow, $s_i=-1$ blue]')\n",
    "\n",
    "plt.figure(figsize=(5,5))\n",
    "plt.imshow(J)\n",
    "plt.colorbar()\n",
    "plt.title(r'$J$')"
   ]
  },
  {
   "cell_type": "markdown",
   "id": "civil-variable",
   "metadata": {},
   "source": [
    "## Inference"
   ]
  },
  {
   "cell_type": "markdown",
   "id": "romance-angle",
   "metadata": {},
   "source": [
    "### Equations\n",
    "\n",
    "$$\n",
    "\\dot C_{ij} = \\delta t ^{-1} \\cdot [\\langle s_i(t+\\delta t)\\cdot s_j(t) \\rangle_{t} - C_{i,j}] \\\\\n",
    "C_{ij} = \\langle s_i(t)\\cdot s_j(t) \\rangle_{t} \\\\\n",
    "L = \\frac 1 {N_t} \\sum_t\\sum_i \\Big[ h_i\\cdot s_i(t) + \\big[\\sum_{j\\ne i} J_{ij}\\cdot (\\gamma^{-1}\\dot{C_{ij}} + C_{ij})\\big] - \\log \\cosh H_i(t)\\Big]\n",
    "$$\n",
    "\n",
    "<span style=\"color:blue\">C'e' qualcosa di sbagliato in L, la cosa che mi turba maggiormente e' che i parametri \"veri\" utilizzati per generare i dati non massimizzano la funzione, ma manco vagamente. Un secondo problema e' che la L sembra essere non limitata :( .</span>"
   ]
  },
  {
   "cell_type": "code",
   "execution_count": 358,
   "id": "affected-february",
   "metadata": {},
   "outputs": [],
   "source": [
    "from scipy.optimize import minimize\n",
    "\n",
    "def logcosh(x):\n",
    "    #the funcion is even, the trick is to avoid e^x\n",
    "    x = np.abs(x)\n",
    "    return np.log(1/2) + x + np.log(1 + np.exp(-2*x))\n",
    "\n",
    "def L(p,s,C,C_dot,gamma):\n",
    "    steps = len(s)\n",
    "    # p are the params, s is the spins history\n",
    "    N = len(s[0])\n",
    "    J = p[:N*N].reshape((N,N))     # NxN matrix\n",
    "    h = p[N*N:]                    # N vector\n",
    "\n",
    "    \n",
    "    C_i = C_dot/gamma + C\n",
    "    C_i = np.sum(C_i*J,axis = 1) - np.diagonal(C_i*J)\n",
    "    \n",
    "    L = 0\n",
    "    for S in s: #for each time\n",
    "        H_i = np.dot(J,S) + h - np.diagonal(J)*S\n",
    "        L += np.sum(-logcosh(H_i) + S*h + C_i)\n",
    "    L /= -steps\n",
    "    return L\n",
    "\n",
    "#versione ottimizzata della funzione (e' super piu veloce); sfrutta numpy e le matrici\n",
    "def L_mat(p,s,C,C_dot,gamma):\n",
    "    N_t = len(s)\n",
    "    # p are the params, s is the spins history\n",
    "    N = len(s[0])\n",
    "    J_0 = p[:N*N].reshape((N,N))     # NxN matrix\n",
    "    np.fill_diagonal(J_0,0)          #removing the diagonal terms for easier sums\n",
    "    h = p[N*N:]                      # N vector\n",
    "\n",
    "    #first term\n",
    "    a_i = C_dot/gamma + C\n",
    "    a_i = np.sum(a_i*J_0,axis = 1)   #sum over j    \n",
    "    A = np.sum(a_i)\n",
    "    \n",
    "    #second term\n",
    "    H = np.tile(h,(N_t,1))\n",
    "    B = H + np.dot(J_0,s.T).T\n",
    "    B = -np.sum(logcosh(B))/N_t\n",
    "    \n",
    "    #third term\n",
    "    C = np.dot(s,h)\n",
    "    C = np.sum(C)/N_t\n",
    "    \n",
    "    L = A + B + C\n",
    "    return -L"
   ]
  },
  {
   "cell_type": "markdown",
   "id": "declared-original",
   "metadata": {},
   "source": [
    "### TEST on L"
   ]
  },
  {
   "cell_type": "code",
   "execution_count": 359,
   "id": "latter-binary",
   "metadata": {},
   "outputs": [],
   "source": [
    "#bounds = [(-3,3) for i in range(N*N+N)]\n",
    "\n",
    "p_real = np.concatenate((J.flatten(),h))\n",
    "p_0 = np.random.normal(0,0.1,N*N+N)\n",
    "p_0 = np.ones(N*N+N)\n",
    "p_inf = minimize(L_mat,p_0,args=(ising.history,C,C_dot,gamma)).x"
   ]
  },
  {
   "cell_type": "code",
   "execution_count": 360,
   "id": "instant-index",
   "metadata": {},
   "outputs": [
    {
     "data": {
      "text/plain": [
       "133605137.54078318"
      ]
     },
     "execution_count": 360,
     "metadata": {},
     "output_type": "execute_result"
    }
   ],
   "source": [
    "-L_mat(p_inf,ising.history,C,C_dot,gamma)"
   ]
  },
  {
   "cell_type": "code",
   "execution_count": 361,
   "id": "accessory-banking",
   "metadata": {},
   "outputs": [
    {
     "data": {
      "text/plain": [
       "-3.207987778996466"
      ]
     },
     "execution_count": 361,
     "metadata": {},
     "output_type": "execute_result"
    }
   ],
   "source": [
    "L(p_real,ising.history,C,C_dot,gamma)"
   ]
  },
  {
   "cell_type": "code",
   "execution_count": 363,
   "id": "forced-confusion",
   "metadata": {},
   "outputs": [
    {
     "name": "stdout",
     "output_type": "stream",
     "text": [
      "1.0856306033005612\n",
      "17286093.02346152\n",
      "19286720.984996807\n",
      "50849524.68316073\n",
      "49777292.09426136\n",
      "3982857.393907291\n",
      "2.426679243393074\n",
      "15216189.907910483\n",
      "16137407.386289129\n",
      "104602302.67930539\n",
      "12836554.15588847\n",
      "23568893.386914764\n",
      "1.4913896261242878\n",
      "23753553.862393368\n",
      "39616224.07566347\n",
      "24008730.265092008\n",
      "13471008.072423682\n",
      "23682671.7058759\n",
      "1.004053897878877\n",
      "5118510.797624693\n",
      "332085.69065057463\n",
      "41141338.561262086\n",
      "15413041.776112197\n",
      "20597067.56318615\n",
      "1.2538806677490124\n",
      "16351742.564081658\n",
      "6188485.947925074\n",
      "30384749.188754495\n",
      "5180368.018027649\n",
      "21807821.028785184\n"
     ]
    }
   ],
   "source": [
    "for i,j in zip(p_inf,p_real):\n",
    "    print(abs(i-j))"
   ]
  },
  {
   "cell_type": "code",
   "execution_count": null,
   "id": "least-columbus",
   "metadata": {},
   "outputs": [],
   "source": []
  }
 ],
 "metadata": {
  "kernelspec": {
   "display_name": "Python 3",
   "language": "python",
   "name": "python3"
  },
  "language_info": {
   "codemirror_mode": {
    "name": "ipython",
    "version": 3
   },
   "file_extension": ".py",
   "mimetype": "text/x-python",
   "name": "python",
   "nbconvert_exporter": "python",
   "pygments_lexer": "ipython3",
   "version": "3.8.8"
  }
 },
 "nbformat": 4,
 "nbformat_minor": 5
}
