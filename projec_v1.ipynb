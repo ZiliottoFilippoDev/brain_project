{
 "cells": [
  {
   "cell_type": "code",
   "execution_count": 1,
   "id": "ahead-compound",
   "metadata": {},
   "outputs": [],
   "source": [
    "import numpy as np\n",
    "import matplotlib.pyplot as plt\n",
    "from tqdm import tqdm"
   ]
  },
  {
   "cell_type": "markdown",
   "id": "thirty-color",
   "metadata": {},
   "source": [
    "## Kinetic Ising Model simulation\n",
    "Ising model with $N$ spins $\\{-1,1\\}$, cuplings matrix $J_{ij}$ and external field $h_i$. \n",
    "\n",
    "At each time step $\\delta t$ each spin $s_i$ flips with a probability \n",
    "$$p_{flip} = \\gamma \\delta t \\frac 1 2 [1-s_i(t)\\tanh H_i(t)] \\quad with \\quad\n",
    "H_i = h_i + \\sum_{j \\ne i} J_{ij}s_j(t)$$"
   ]
  },
  {
   "cell_type": "code",
   "execution_count": 2,
   "id": "distinct-display",
   "metadata": {},
   "outputs": [],
   "source": [
    "class kinetic_ising:\n",
    "    def __init__(self, N, J, h, gamma = 1):\n",
    "        np.fill_diagonal(J,0)\n",
    "        self.N = N\n",
    "        self.J = np.copy(J)\n",
    "        self.h = np.copy(h)\n",
    "        self.S = np.ones(N)\n",
    "        self.H_i = np.dot(self.J,self.S)+self.h\n",
    "        self.gamma = gamma\n",
    "        self.history = np.copy(self.S)\n",
    "        \n",
    "    def comp_H(self):\n",
    "        #the last term is due to i!=j\n",
    "        self.H_i = np.dot(self.J,self.S)+self.h\n",
    "    \n",
    "    def store(self):\n",
    "        self.history = np.vstack((self.history,self.S))\n",
    "    \n",
    "    def update(self,dt):\n",
    "        p = np.random.rand(N)\n",
    "        p_up = dt*self.gamma*0.5*(1-self.S*np.tanh(self.H_i))\n",
    "        self.S[p < p_up] *= -1\n",
    "        self.store()\n",
    "        self.comp_H()\n",
    "        \n",
    "    def reset(self):\n",
    "        self.S = np.ones(N)\n",
    "        self.history = np.copy(self.S)\n",
    "    \n",
    "    #if we put this func outside we can also use njit  \n",
    "    def C(self,dt):\n",
    "        # NB : in our case history[i,j] i is the time and j is the spin\n",
    "        C = np.zeros((N,N))\n",
    "        # since C is simmetric we can optimize it ... \n",
    "        for i in tqdm(range(N),desc='Computing C'):\n",
    "            for j in range(N):\n",
    "                C[i,j] = np.mean(self.history[:,i]*self.history[:,j])\n",
    "        \n",
    "        C_dot = np.zeros((N,N))\n",
    "        for i in tqdm(range(N),desc='Computing C_dot'):\n",
    "            for j in range(N):\n",
    "                C_dot[i,j] = np.mean(self.history[1:,i]*self.history[:-1,j])\n",
    "        \n",
    "        C_dot -= C\n",
    "        C_dot /= dt\n",
    "        \n",
    "        return C,C_dot\n",
    "    \n",
    "        \n",
    "        "
   ]
  },
  {
   "cell_type": "code",
   "execution_count": 3,
   "id": "romantic-treasurer",
   "metadata": {},
   "outputs": [],
   "source": [
    "np.random.seed(123)\n",
    "#number of spins\n",
    "N = 5\n",
    "\n",
    "#interactions matrix\n",
    "mu = 0\n",
    "sigma = 1\n",
    "J = np.random.normal(mu,sigma,(N,N))\n",
    "\n",
    "#external field\n",
    "mu = -0.2\n",
    "sigma = 0.1\n",
    "h = np.random.normal(mu,sigma,N)\n",
    "\n",
    "gamma = 10\n",
    "ising = kinetic_ising(N,J,h,gamma)"
   ]
  },
  {
   "cell_type": "code",
   "execution_count": 4,
   "id": "adverse-offer",
   "metadata": {},
   "outputs": [],
   "source": [
    "ising.reset()\n",
    "np.random.seed(123)\n",
    "\n",
    "time = 1\n",
    "steps = 100\n",
    "dt = time / steps\n",
    "for i in range(steps):\n",
    "    ising.update((dt))"
   ]
  },
  {
   "cell_type": "code",
   "execution_count": 5,
   "id": "artificial-ireland",
   "metadata": {
    "scrolled": true
   },
   "outputs": [
    {
     "name": "stderr",
     "output_type": "stream",
     "text": [
      "Computing C: 100%|██████████| 5/5 [00:00<00:00, 9580.41it/s]\n",
      "Computing C_dot: 100%|██████████| 5/5 [00:00<00:00, 4390.10it/s]\n"
     ]
    }
   ],
   "source": [
    "C,C_dot = ising.C(dt)"
   ]
  },
  {
   "cell_type": "code",
   "execution_count": 6,
   "id": "dutch-hudson",
   "metadata": {
    "scrolled": false
   },
   "outputs": [
    {
     "data": {
      "text/plain": [
       "Text(0.5, 1.0, '$J$')"
      ]
     },
     "execution_count": 6,
     "metadata": {},
     "output_type": "execute_result"
    },
    {
     "data": {
      "image/png": "[encoded data removed]",
      "text/plain": [
       "<Figure size 720x216 with 1 Axes>"
      ]
     },
     "metadata": {
      "needs_background": "light"
     },
     "output_type": "display_data"
    },
    {
     "data": {
      "image/png": "[encoded data removed]",
      "text/plain": [
       "<Figure size 360x360 with 2 Axes>"
      ]
     },
     "metadata": {
      "needs_background": "light"
     },
     "output_type": "display_data"
    }
   ],
   "source": [
    "plt.figure(figsize=(10,3))\n",
    "indcs = [i*10 for i in range(100)]\n",
    "plt.imshow(ising.history.T)#[:,indcs])\n",
    "plt.xlabel('time')\n",
    "plt.ylabel(r'$s_i$')\n",
    "plt.title(r'Spin evlolution in time. [$s_i=1$ yellow, $s_i=-1$ blue]')\n",
    "\n",
    "plt.figure(figsize=(5,5))\n",
    "plt.imshow(J)\n",
    "plt.colorbar()\n",
    "plt.title(r'$J$')"
   ]
  },
  {
   "cell_type": "markdown",
   "id": "civil-variable",
   "metadata": {},
   "source": [
    "## Inference"
   ]
  },
  {
   "cell_type": "markdown",
   "id": "romance-angle",
   "metadata": {},
   "source": [
    "### Equations\n",
    "\n",
    "$$\n",
    "\\dot C_{ij} = \\delta t ^{-1} \\cdot [\\langle s_i(t+\\delta t)\\cdot s_j(t) \\rangle_{t} - C_{i,j}] \\\\\n",
    "C_{ij} = \\langle s_i(t)\\cdot s_j(t) \\rangle_{t} \\\\\n",
    "L = \\frac 1 {N_t} \\sum_t\\sum_i \\Big[ h_i\\cdot s_i(t) + \\big[\\sum_{j\\ne i} J_{ij}\\cdot (\\gamma^{-1}\\dot{C_{ij}} + C_{ij})\\big] - \\log \\cosh H_i(t)\\Big]\n",
    "$$\n",
    "\n",
    "<span style=\"color:blue\">C'e' qualcosa di sbagliato in L, la cosa che mi turba maggiormente e' che i parametri \"veri\" utilizzati per generare i dati non massimizzano la funzione, ma manco vagamente. Un secondo problema e' che la L sembra essere non limitata :( .</span>"
   ]
  },
  {
   "cell_type": "code",
   "execution_count": 7,
   "id": "affected-february",
   "metadata": {},
   "outputs": [],
   "source": [
    "from scipy.optimize import minimize\n",
    "\n",
    "def logcosh(x):\n",
    "    #the funcion is even, the trick is to avoid e^x\n",
    "    x = np.abs(x)\n",
    "    return np.log(1/2) + x + np.log(1 + np.exp(-2*x))\n",
    "\n",
    "def L(p,s,C,C_dot,gamma):\n",
    "    steps = len(s)\n",
    "    # p are the params, s is the spins history\n",
    "    N = len(s[0])\n",
    "    J = p[:N*N].reshape((N,N))     # NxN matrix\n",
    "    h = p[N*N:]                    # N vector\n",
    "\n",
    "    \n",
    "    C_i = C_dot/gamma + C\n",
    "    C_i = np.sum(C_i*J,axis = 1) - np.diagonal(C_i*J)\n",
    "    \n",
    "    L = 0\n",
    "    for S in s: #for each time\n",
    "        H_i = np.dot(J,S) + h - np.diagonal(J)*S\n",
    "        L += np.sum(-logcosh(H_i) + S*h + C_i)\n",
    "    L /= steps\n",
    "    return L\n",
    "\n",
    "#versione ottimizzata della funzione (e' super piu veloce); sfrutta numpy e le matrici\n",
    "def L_mat(p,s,C,C_dot,gamma):\n",
    "    N_t = len(s)\n",
    "    # p are the params, s is the spins history\n",
    "    N = len(s[0])\n",
    "    J_0 = p[:N*N].reshape((N,N))     # NxN matrix\n",
    "    np.fill_diagonal(J_0,0)          #removing the diagonal terms for easier sums\n",
    "    h = p[N*N:]                      # N vector\n",
    "\n",
    "    #first term\n",
    "    a_i = C_dot/gamma + C\n",
    "    a_i = np.sum(a_i*J_0,axis = 1)   #sum over j    \n",
    "    A = np.sum(a_i)\n",
    "    \n",
    "    #second term\n",
    "    H = np.tile(h,(N_t,1))\n",
    "    B = H + np.dot(s,J_0.T)\n",
    "    B = -np.sum(logcosh(B))/N_t\n",
    "    \n",
    "    #third term\n",
    "    C = np.dot(s,h)\n",
    "    C = np.sum(C)/N_t\n",
    "    #print(A,B,C)\n",
    "    L = A + B + C\n",
    "    return L"
   ]
  },
  {
   "cell_type": "code",
   "execution_count": 8,
   "id": "differential-belfast",
   "metadata": {},
   "outputs": [
    {
     "data": {
      "text/plain": [
       "1.8675615459909132"
      ]
     },
     "execution_count": 8,
     "metadata": {},
     "output_type": "execute_result"
    }
   ],
   "source": [
    "#little check\n",
    "s_test = np.array([[1,1],[1,1],[1,-1]])\n",
    "h_test = np.array([0.5,-0.5])\n",
    "J_test = np.array([[0,1],[2,0]])\n",
    "C_dot_test = np.array([[-2,0.5],[0.5,-2]])\n",
    "C_test = np.array([[1,0.5],[0.5,1]])\n",
    "p_test = np.concatenate((J_test.flatten(),h_test))\n",
    "L_mat(p_test,s_test,C_test,C_dot_test,1)"
   ]
  },
  {
   "cell_type": "markdown",
   "id": "genetic-luxembourg",
   "metadata": {},
   "source": [
    "Ho confrontato i risultati con dei calcoli fatti a mano, il problema e' che il risultato sembra coincidere."
   ]
  },
  {
   "cell_type": "markdown",
   "id": "declared-original",
   "metadata": {},
   "source": [
    "## Maximization using scipy (non funzia)"
   ]
  },
  {
   "cell_type": "code",
   "execution_count": 9,
   "id": "latter-binary",
   "metadata": {},
   "outputs": [],
   "source": [
    "#bounds = [(-3,3) for i in range(N*N+N)]\n",
    "\n",
    "p_real = np.concatenate((J.flatten(),h))\n",
    "p_0 = np.random.normal(0,0.1,N*N+N)\n",
    "p_0 = np.ones(N*N+N)\n",
    "p_inf = minimize(L_mat,p_0,args=(ising.history,C,C_dot,gamma)).x"
   ]
  },
  {
   "cell_type": "code",
   "execution_count": 10,
   "id": "instant-index",
   "metadata": {},
   "outputs": [
    {
     "data": {
      "text/plain": [
       "-1059832714.8535509"
      ]
     },
     "execution_count": 10,
     "metadata": {},
     "output_type": "execute_result"
    }
   ],
   "source": [
    "L_mat(p_inf,ising.history,C,C_dot,gamma)"
   ]
  },
  {
   "cell_type": "code",
   "execution_count": 11,
   "id": "accessory-banking",
   "metadata": {},
   "outputs": [
    {
     "data": {
      "text/plain": [
       "1.1557378114060064"
      ]
     },
     "execution_count": 11,
     "metadata": {},
     "output_type": "execute_result"
    }
   ],
   "source": [
    "L(p_real,ising.history,C,C_dot,gamma)"
   ]
  },
  {
   "cell_type": "code",
   "execution_count": 12,
   "id": "forced-confusion",
   "metadata": {},
   "outputs": [
    {
     "name": "stdout",
     "output_type": "stream",
     "text": [
      "0.0\n",
      "27607037.193202212\n",
      "29688572.924608417\n",
      "109984122.18672357\n",
      "91944543.00609398\n",
      "15268017.781032806\n",
      "0.0\n",
      "73141066.09896134\n",
      "9308493.926092206\n",
      "91805775.52741234\n",
      "22752129.590147723\n",
      "47481109.75233535\n",
      "0.0\n",
      "25496093.192317475\n",
      "2812849.0723213973\n",
      "57003578.27930633\n",
      "12175042.004869064\n",
      "20548008.17251911\n",
      "0.0\n",
      "75234522.54783519\n",
      "21532388.20133292\n",
      "2670107.9650506685\n",
      "1462201.3200570515\n",
      "30541073.042445593\n",
      "0.0\n",
      "55311976.19847166\n",
      "18203423.613132477\n",
      "10868799.21772713\n",
      "64180796.92815377\n",
      "73826406.5375019\n"
     ]
    }
   ],
   "source": [
    "for i,j in zip(p_inf,p_real):\n",
    "    print(abs(i-j))"
   ]
  },
  {
   "cell_type": "code",
   "execution_count": 13,
   "id": "interested-lawyer",
   "metadata": {},
   "outputs": [
    {
     "name": "stdout",
     "output_type": "stream",
     "text": [
      "[ 6 14]\n"
     ]
    },
    {
     "data": {
      "text/plain": [
       "array([4, 6])"
      ]
     },
     "execution_count": 13,
     "metadata": {},
     "output_type": "execute_result"
    }
   ],
   "source": [
    "a = np.array([[1,2],[3,4]])\n",
    "b = np.array([2,2])\n",
    "print(np.dot(a,b))\n",
    "np.dot(a,b) - np.diagonal(a)*b"
   ]
  },
  {
   "cell_type": "markdown",
   "id": "expressed-remedy",
   "metadata": {},
   "source": [
    "### Gradinent\n",
    "$$\n",
    "\\frac {\\partial L}{\\partial h_i} = \\langle s_i(t) - \\tanh{H_i(t)} \\rangle_t \\\\\n",
    "\\frac {\\partial L}{\\partial J_{ij}} = \\gamma ^ {-1} \\dot{C_{ij}} + C_{ij} - \\langle s_j(t) \\tanh{H_i(t)} \\rangle_t\n",
    "$$"
   ]
  },
  {
   "cell_type": "code",
   "execution_count": 14,
   "id": "level-swiss",
   "metadata": {},
   "outputs": [],
   "source": [
    "def L_grad(p,s,C,C_dot,gamma):\n",
    "    N_t = len(s)\n",
    "    # p are the params, s is the spins history\n",
    "    N = len(s[0])\n",
    "    J_0 = p[:N*N].reshape((N,N))     # NxN matrix\n",
    "    np.fill_diagonal(J_0,0)          #removing the diagonal terms for easier sums\n",
    "    h = p[N*N:]                      # N vector\n",
    "\n",
    "    dh = np.tile(h,(N_t,1))\n",
    "    dh = dh + np.dot(s,J_0.T)\n",
    "    dh = s - np.tanh(dh)\n",
    "    dh = np.mean(dh,axis=0)\n",
    "    # lambda\n",
    "    \n",
    "    dJ = C_dot/gamma + C\n",
    "    O = np.zeros((N,N))\n",
    "    \n",
    "    #has to be optimized better\n",
    "    for S in s:\n",
    "        H_i = np.tanh(h + np.dot(J_0,S))\n",
    "        O += np.outer(H_i,S)\n",
    "    O /= N_t\n",
    "    dJ -= O\n",
    "    #lambda\n",
    "    \n",
    "    return np.concatenate((dJ.flatten(),dh))"
   ]
  },
  {
   "cell_type": "markdown",
   "id": "affecting-detective",
   "metadata": {},
   "source": [
    "# Test\n",
    "We compute by hand the partial derivative with respect a single parameter and we confront it with the value computed by the analytic formula"
   ]
  },
  {
   "cell_type": "code",
   "execution_count": 18,
   "id": "existing-billion",
   "metadata": {},
   "outputs": [
    {
     "name": "stdout",
     "output_type": "stream",
     "text": [
      "0.9688136841429578\n",
      "0.968812201662672\n"
     ]
    }
   ],
   "source": [
    "param = 19\n",
    "\n",
    "x = np.ones(N*N + N)\n",
    "dx = 0.00001\n",
    "print(L_grad(x,ising.history,C,C_dot,gamma)[param])\n",
    "y_i = L_mat(x,ising.history,C,C_dot,gamma)\n",
    "x[param]+=dx\n",
    "y_f = L_mat(x,ising.history,C,C_dot,gamma)\n",
    "print((y_f-y_i)/dx)"
   ]
  },
  {
   "cell_type": "markdown",
   "id": "legal-bronze",
   "metadata": {},
   "source": [
    "## Optimization"
   ]
  },
  {
   "cell_type": "markdown",
   "id": "inside-contribution",
   "metadata": {},
   "source": [
    "### SGA"
   ]
  },
  {
   "cell_type": "code",
   "execution_count": 44,
   "id": "champion-baltimore",
   "metadata": {
    "scrolled": false
   },
   "outputs": [
    {
     "name": "stderr",
     "output_type": "stream",
     "text": [
      "Optimizing: 100%|██████████| 1000/1000 [00:01<00:00, 850.54it/s]\n"
     ]
    },
    {
     "data": {
      "text/plain": [
       "[<matplotlib.lines.Line2D at 0x7f86e8392700>]"
      ]
     },
     "execution_count": 44,
     "metadata": {},
     "output_type": "execute_result"
    },
    {
     "data": {
      "image/png": "[encoded data removed]",
      "text/plain": [
       "<Figure size 432x288 with 1 Axes>"
      ]
     },
     "metadata": {
      "needs_background": "light"
     },
     "output_type": "display_data"
    }
   ],
   "source": [
    "np.random.seed(201098)\n",
    "mu = -0.2\n",
    "sigma = 0.1\n",
    "x_0 = np.random.normal(0,1,N*N+N)\n",
    "\n",
    "steps = 1000\n",
    "l_r = 0.1\n",
    "\n",
    "L_list = [] \n",
    "for i in tqdm(range(steps),desc = 'Optimizing'):\n",
    "    x_0 += l_r * L_grad(x_0,ising.history,C,C_dot,gamma)\n",
    "    L_list.append(L_mat(x_0,ising.history,C,C_dot,gamma))\n",
    "    \n",
    "plt.plot(L_list)"
   ]
  },
  {
   "cell_type": "markdown",
   "id": "challenging-artwork",
   "metadata": {},
   "source": [
    "The functions doesn't have a upper limit and so goes to ininity linearly (indipendently on N)"
   ]
  },
  {
   "cell_type": "code",
   "execution_count": null,
   "id": "gross-twist",
   "metadata": {},
   "outputs": [],
   "source": []
  }
 ],
 "metadata": {
  "kernelspec": {
   "display_name": "Python 3",
   "language": "python",
   "name": "python3"
  },
  "language_info": {
   "codemirror_mode": {
    "name": "ipython",
    "version": 3
   },
   "file_extension": ".py",
   "mimetype": "text/x-python",
   "name": "python",
   "nbconvert_exporter": "python",
   "pygments_lexer": "ipython3",
   "version": "3.8.8"
  }
 },
 "nbformat": 4,
 "nbformat_minor": 5
}
