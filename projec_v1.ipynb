{
 "cells": [
  {
   "cell_type": "code",
   "execution_count": 116,
   "id": "organic-child",
   "metadata": {},
   "outputs": [],
   "source": [
    "import numpy as np\n",
    "import matplotlib.pyplot as plt"
   ]
  },
  {
   "cell_type": "markdown",
   "id": "whole-width",
   "metadata": {},
   "source": [
    "## Kinetic Ising Model simulation"
   ]
  },
  {
   "cell_type": "code",
   "execution_count": 148,
   "id": "annual-guest",
   "metadata": {},
   "outputs": [],
   "source": [
    "class kinetic_ising:\n",
    "    def __init__(self, N, J, h, gamma = 1):\n",
    "        self.N = N\n",
    "        self.J = J\n",
    "        self.h = h\n",
    "        self.S = np.ones(N)\n",
    "        self.H_i = np.dot(self.J,self.S)+self.h\n",
    "        self.gamma = gamma\n",
    "        self.history = np.copy(self.S)\n",
    "        \n",
    "    def comp_H(self):\n",
    "        self.H_i = np.dot(self.J,self.S)+self.h\n",
    "    \n",
    "    def store(self):\n",
    "        self.history = np.vstack((self.history,self.S))\n",
    "    \n",
    "    def update(self,dt):\n",
    "        p = np.random.rand(N)\n",
    "        p_up = self.gamma*0.5*(1-self.S*np.tanh(self.H_i))\n",
    "        #print(p_up)\n",
    "        self.S[p < p_up] *= -1\n",
    "        self.store()\n",
    "        self.comp_H()\n",
    "        \n",
    "    def reset(self):\n",
    "        self.S = np.ones(N)\n",
    "        self.history = np.copy(self.S)"
   ]
  },
  {
   "cell_type": "code",
   "execution_count": 149,
   "id": "textile-congress",
   "metadata": {},
   "outputs": [],
   "source": [
    "np.random.seed(123)\n",
    "#number of spins\n",
    "N = 30\n",
    "\n",
    "#interactions matrix\n",
    "mu = 0\n",
    "sigma = 1\n",
    "J = np.random.normal(mu,sigma,(N,N))\n",
    "\n",
    "#external field\n",
    "mu = -0.2\n",
    "sigma = 0.1\n",
    "h = np.random.normal(mu,sigma,N)\n",
    "\n",
    "ising = kinetic_ising(N,J,h)"
   ]
  },
  {
   "cell_type": "code",
   "execution_count": 150,
   "id": "composed-china",
   "metadata": {},
   "outputs": [],
   "source": [
    "ising.reset()\n",
    "np.random.seed(123)\n",
    "\n",
    "time = 1\n",
    "steps = 100\n",
    "dt = time / steps\n",
    "for i in range(steps):\n",
    "    ising.update(dt)\n"
   ]
  },
  {
   "cell_type": "code",
   "execution_count": 165,
   "id": "million-fitting",
   "metadata": {},
   "outputs": [
    {
     "data": {
      "text/plain": [
       "Text(0.5, 1.0, 'Spin evlolution in time. [$s_i=1$ yellow, $s_i=-1$ blue]')"
      ]
     },
     "execution_count": 165,
     "metadata": {},
     "output_type": "execute_result"
    },
    {
     "data": {
      "image/png": "[encoded data removed]",
      "text/plain": [
       "<Figure size 720x216 with 1 Axes>"
      ]
     },
     "metadata": {
      "needs_background": "light"
     },
     "output_type": "display_data"
    }
   ],
   "source": [
    "plt.figure(figsize=(10,3))\n",
    "plt.imshow(ising.history.T)\n",
    "plt.xlabel('time')\n",
    "plt.ylabel(r'$s_i$')\n",
    "plt.title(r'Spin evlolution in time. [$s_i=1$ yellow, $s_i=-1$ blue]')"
   ]
  },
  {
   "cell_type": "code",
   "execution_count": null,
   "id": "quality-unknown",
   "metadata": {},
   "outputs": [],
   "source": []
  }
 ],
 "metadata": {
  "kernelspec": {
   "display_name": "Python 3",
   "language": "python",
   "name": "python3"
  },
  "language_info": {
   "codemirror_mode": {
    "name": "ipython",
    "version": 3
   },
   "file_extension": ".py",
   "mimetype": "text/x-python",
   "name": "python",
   "nbconvert_exporter": "python",
   "pygments_lexer": "ipython3",
   "version": "3.8.8"
  }
 },
 "nbformat": 4,
 "nbformat_minor": 5
}
