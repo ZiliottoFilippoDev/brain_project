{
 "cells": [
  {
   "cell_type": "code",
   "execution_count": 56,
   "id": "ahead-compound",
   "metadata": {},
   "outputs": [],
   "source": [
    "import numpy as np\n",
    "import matplotlib.pyplot as plt\n",
    "from tqdm import tqdm"
   ]
  },
  {
   "cell_type": "markdown",
   "id": "thirty-color",
   "metadata": {},
   "source": [
    "## Kinetic Ising Model simulation\n",
    "Ising model with $N$ spins $\\{-1,1\\}$, cuplings matrix $J_{ij}$ and external field $h_i$. \n",
    "\n",
    "At each time step $\\delta t$ each spin $s_i$ flips with a probability \n",
    "$$p_{flip} = \\gamma \\delta t \\frac 1 2 [1-s_i(t)\\tanh H_i(t)] \\quad with \\quad\n",
    "H_i = h_i + \\sum_j J_{ij}s_j(t)$$"
   ]
  },
  {
   "cell_type": "code",
   "execution_count": 68,
   "id": "distinct-display",
   "metadata": {},
   "outputs": [],
   "source": [
    "class kinetic_ising:\n",
    "    def __init__(self, N, J, h, gamma = 1):\n",
    "        self.N = N\n",
    "        self.J = J\n",
    "        self.h = h\n",
    "        self.S = np.ones(N)\n",
    "        self.H_i = np.dot(self.J,self.S)+self.h\n",
    "        self.gamma = gamma\n",
    "        self.history = np.copy(self.S)\n",
    "        \n",
    "    def comp_H(self):\n",
    "        self.H_i = np.dot(self.J,self.S)+self.h\n",
    "    \n",
    "    def store(self):\n",
    "        self.history = np.vstack((self.history,self.S))\n",
    "    \n",
    "    def update(self,dt):\n",
    "        p = np.random.rand(N)\n",
    "        p_up = dt*self.gamma*0.5*(1-self.S*np.tanh(self.H_i))\n",
    "        self.S[p < p_up] *= -1\n",
    "        self.store()\n",
    "        self.comp_H()\n",
    "        \n",
    "    def reset(self):\n",
    "        self.S = np.ones(N)\n",
    "        self.history = np.copy(self.S)\n",
    "    \n",
    "    #if we put this func outside we can also use njit     \n",
    "    def C(self,dt):\n",
    "        # NB : in our case history[i,j] i is the time and j is the spin\n",
    "        C = np.zeros((N,N))\n",
    "        # since C is simmetric we can optimize it ... \n",
    "        for i in tqdm(range(N),desc='Computing C'):\n",
    "            for j in range(N):\n",
    "                C[i,j] = np.mean(self.history[:,i]*self.history[:,j])\n",
    "        \n",
    "        C_dot = np.zeros((N,N))\n",
    "        for i in tqdm(range(N),desc='Computing C_dot'):\n",
    "            for j in range(N):\n",
    "                C_dot[i,j] = np.mean(self.history[1:,i]*self.history[:-1,j])\n",
    "        \n",
    "        C_dot -= C\n",
    "        C_dot /= dt\n",
    "        \n",
    "        return C,C_dot\n",
    "    \n",
    "        \n",
    "        "
   ]
  },
  {
   "cell_type": "code",
   "execution_count": 65,
   "id": "romantic-treasurer",
   "metadata": {},
   "outputs": [],
   "source": [
    "np.random.seed(123)\n",
    "#number of spins\n",
    "N = 50\n",
    "\n",
    "#interactions matrix\n",
    "mu = 0\n",
    "sigma = 1\n",
    "J = np.random.normal(mu,sigma,(N,N))\n",
    "\n",
    "#external field\n",
    "mu = -0.2\n",
    "sigma = 0.1\n",
    "h = np.random.normal(mu,sigma,N)\n",
    "\n",
    "ising = kinetic_ising(N,J,h)"
   ]
  },
  {
   "cell_type": "code",
   "execution_count": 66,
   "id": "adverse-offer",
   "metadata": {},
   "outputs": [],
   "source": [
    "ising.reset()\n",
    "np.random.seed(123)\n",
    "\n",
    "time = 1\n",
    "steps = 100\n",
    "dt = time / steps\n",
    "for i in range(steps):\n",
    "    ising.update(dt)\n"
   ]
  },
  {
   "cell_type": "code",
   "execution_count": 67,
   "id": "artificial-ireland",
   "metadata": {},
   "outputs": [
    {
     "name": "stderr",
     "output_type": "stream",
     "text": [
      "Computing C: 100%|██████████| 50/50 [00:00<00:00, 1524.64it/s]\n",
      "Computing C_dot: 100%|██████████| 50/50 [00:00<00:00, 969.24it/s]\n"
     ]
    },
    {
     "data": {
      "text/plain": [
       "(array([[ 1.        ,  1.        ,  0.72277228, ...,  1.        ,\n",
       "         -0.6039604 ,  0.72277228],\n",
       "        [ 1.        ,  1.        ,  0.72277228, ...,  1.        ,\n",
       "         -0.6039604 ,  0.72277228],\n",
       "        [ 0.72277228,  0.72277228,  1.        , ...,  0.72277228,\n",
       "         -0.32673267,  1.        ],\n",
       "        ...,\n",
       "        [ 1.        ,  1.        ,  0.72277228, ...,  1.        ,\n",
       "         -0.6039604 ,  0.72277228],\n",
       "        [-0.6039604 , -0.6039604 , -0.32673267, ..., -0.6039604 ,\n",
       "          1.        , -0.32673267],\n",
       "        [ 0.72277228,  0.72277228,  1.        , ...,  0.72277228,\n",
       "         -0.32673267,  1.        ]]),\n",
       " array([[ 0.        ,  0.        ,  1.72277228, ...,  0.        ,\n",
       "          0.3960396 ,  1.72277228],\n",
       "        [ 0.        ,  0.        ,  1.72277228, ...,  0.        ,\n",
       "          0.3960396 ,  1.72277228],\n",
       "        [-0.27722772, -0.27722772, -2.        , ..., -0.27722772,\n",
       "          0.67326733, -2.        ],\n",
       "        ...,\n",
       "        [ 0.        ,  0.        ,  1.72277228, ...,  0.        ,\n",
       "          0.3960396 ,  1.72277228],\n",
       "        [-1.6039604 , -1.6039604 , -3.32673267, ..., -1.6039604 ,\n",
       "         -2.        , -3.32673267],\n",
       "        [-0.27722772, -0.27722772, -2.        , ..., -0.27722772,\n",
       "          0.67326733, -2.        ]]))"
      ]
     },
     "execution_count": 67,
     "metadata": {},
     "output_type": "execute_result"
    }
   ],
   "source": [
    "ising.C(dt)"
   ]
  },
  {
   "cell_type": "code",
   "execution_count": 8,
   "id": "dutch-hudson",
   "metadata": {},
   "outputs": [
    {
     "data": {
      "text/plain": [
       "Text(0.5, 1.0, 'Spin evlolution in time. [$s_i=1$ yellow, $s_i=-1$ blue]')"
      ]
     },
     "execution_count": 8,
     "metadata": {},
     "output_type": "execute_result"
    },
    {
     "data": {
      "image/png": "[encoded data removed]",
      "text/plain": [
       "<Figure size 720x216 with 1 Axes>"
      ]
     },
     "metadata": {
      "needs_background": "light"
     },
     "output_type": "display_data"
    }
   ],
   "source": [
    "plt.figure(figsize=(10,3))\n",
    "plt.imshow(ising.history.T)\n",
    "plt.xlabel('time')\n",
    "plt.ylabel(r'$s_i$')\n",
    "plt.title(r'Spin evlolution in time. [$s_i=1$ yellow, $s_i=-1$ blue]')"
   ]
  },
  {
   "cell_type": "markdown",
   "id": "pleasant-klein",
   "metadata": {},
   "source": [
    "## Test on function maximization"
   ]
  },
  {
   "cell_type": "code",
   "execution_count": 22,
   "id": "reliable-aberdeen",
   "metadata": {},
   "outputs": [],
   "source": [
    "from scipy.optimize import minimize\n",
    "def f(x):return (x[0]**2+x[1]**2)"
   ]
  },
  {
   "cell_type": "code",
   "execution_count": 24,
   "id": "ancient-small",
   "metadata": {
    "scrolled": true
   },
   "outputs": [
    {
     "data": {
      "text/plain": [
       "array([ 3.18028549e-07, -4.01771698e-06])"
      ]
     },
     "execution_count": 24,
     "metadata": {},
     "output_type": "execute_result"
    }
   ],
   "source": [
    "minimize(f,[1,90]).x"
   ]
  },
  {
   "cell_type": "markdown",
   "id": "civil-variable",
   "metadata": {},
   "source": [
    "## Inference"
   ]
  },
  {
   "cell_type": "code",
   "execution_count": 28,
   "id": "affected-february",
   "metadata": {},
   "outputs": [],
   "source": [
    "def L(p,s,C,C_dot,gamma):\n",
    "    # p are the params, s is the spins history\n",
    "    N = len(s[0])\n",
    "    J = p[:N*N].reshape((N,N))\n",
    "    h = p[N*N:]\n",
    "    "
   ]
  },
  {
   "cell_type": "code",
   "execution_count": 34,
   "id": "consolidated-advantage",
   "metadata": {},
   "outputs": [
    {
     "data": {
      "text/plain": [
       "array([[1., 1., 1.],\n",
       "       [1., 1., 1.]])"
      ]
     },
     "execution_count": 34,
     "metadata": {},
     "output_type": "execute_result"
    }
   ],
   "source": [
    "A = np.ones((2,3))\n",
    "A"
   ]
  },
  {
   "cell_type": "code",
   "execution_count": 39,
   "id": "norman-teach",
   "metadata": {},
   "outputs": [
    {
     "data": {
      "text/plain": [
       "3.0"
      ]
     },
     "execution_count": 39,
     "metadata": {},
     "output_type": "execute_result"
    }
   ],
   "source": [
    "np.sum(A[0,:])"
   ]
  },
  {
   "cell_type": "code",
   "execution_count": null,
   "id": "compact-garden",
   "metadata": {},
   "outputs": [],
   "source": []
  }
 ],
 "metadata": {
  "kernelspec": {
   "display_name": "Python 3",
   "language": "python",
   "name": "python3"
  },
  "language_info": {
   "codemirror_mode": {
    "name": "ipython",
    "version": 3
   },
   "file_extension": ".py",
   "mimetype": "text/x-python",
   "name": "python",
   "nbconvert_exporter": "python",
   "pygments_lexer": "ipython3",
   "version": "3.8.8"
  }
 },
 "nbformat": 4,
 "nbformat_minor": 5
}
