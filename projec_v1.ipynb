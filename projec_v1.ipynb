{
 "cells": [
  {
   "cell_type": "code",
   "execution_count": 1,
   "id": "ahead-compound",
   "metadata": {},
   "outputs": [],
   "source": [
    "import numpy as np\n",
    "import matplotlib.pyplot as plt\n",
    "from tqdm import tqdm"
   ]
  },
  {
   "cell_type": "markdown",
   "id": "thirty-color",
   "metadata": {},
   "source": [
    "## Kinetic Ising Model simulation\n",
    "Ising model with $N$ spins $\\{-1,1\\}$, cuplings matrix $J_{ij}$ and external field $h_i$. \n",
    "\n",
    "At each time step $\\delta t$ each spin $s_i$ flips with a probability \n",
    "$$p_{flip} = \\gamma \\delta t \\frac 1 2 [1-s_i(t)\\tanh H_i(t)] \\quad with \\quad\n",
    "H_i = h_i + \\sum_{j \\ne i} J_{ij}s_j(t)$$"
   ]
  },
  {
   "cell_type": "code",
   "execution_count": 39,
   "id": "distinct-display",
   "metadata": {},
   "outputs": [],
   "source": [
    "class kinetic_ising:\n",
    "    def __init__(self, N, J, h, gamma = 1):\n",
    "        self.N = N\n",
    "        self.J = np.copy(J)\n",
    "        self.h = np.copy(h)\n",
    "        self.S = -1*np.ones(N)\n",
    "        self.H_i = np.dot(self.J,self.S)+self.h\n",
    "        self.gamma = gamma\n",
    "        self.history = np.copy(self.S)\n",
    "    def comp_H(self):\n",
    "        self.H_i = np.dot(self.J,self.S)+self.h\n",
    "    \n",
    "    def store(self):\n",
    "        self.history = np.vstack((self.history,self.S))\n",
    "    \n",
    "    def update(self,dt):\n",
    "        p = np.random.rand(N)\n",
    "        p_up = dt*self.gamma*0.5*(1-self.S*np.tanh(self.H_i))\n",
    "        #print(self.S)\n",
    "        self.S[p < p_up] *= -1\n",
    "        self.store()\n",
    "        self.comp_H()\n",
    "        \n",
    "    def reset(self):\n",
    "        self.S = -1*np.ones(N)\n",
    "        self.history = np.copy(self.S)\n",
    "    \n",
    "    #if we put this func outside we can also use njit  \n",
    "    def C(self,dt):\n",
    "        # NB : in our case history[i,j] i is the time and j is the spin\n",
    "        C = np.zeros((N,N))\n",
    "        # since C is simmetric we can optimize it ... \n",
    "        for i in tqdm(range(N),desc='Computing C'):\n",
    "            for j in range(N):\n",
    "                C[i,j] = np.mean(self.history[:,i]*self.history[:,j])\n",
    "        \n",
    "        C_dot = np.zeros((N,N))\n",
    "        for i in tqdm(range(N),desc='Computing C_dot'):\n",
    "            for j in range(N):\n",
    "                C_dot[i,j] = np.mean(self.history[1:,i]*self.history[:-1,j])\n",
    "        \n",
    "        C_dot -= C\n",
    "        C_dot /= dt\n",
    "        \n",
    "        return C,C_dot\n",
    "    \n",
    "                "
   ]
  },
  {
   "cell_type": "code",
   "execution_count": 40,
   "id": "romantic-treasurer",
   "metadata": {},
   "outputs": [],
   "source": [
    "np.random.seed(123)\n",
    "#number of spins\n",
    "N = 5\n",
    "\n",
    "#interactions matrix\n",
    "mu = 0\n",
    "sigma = 1\n",
    "J = np.random.normal(mu,sigma,(N,N))\n",
    "np.fill_diagonal(J,0) #j != i, \n",
    "#external field\n",
    "mu = -0.2\n",
    "sigma = 0.1\n",
    "h = np.random.normal(mu,sigma,N)\n",
    "\n",
    "gamma = 10\n",
    "ising = kinetic_ising(N,J,h,gamma)"
   ]
  },
  {
   "cell_type": "code",
   "execution_count": 72,
   "id": "adverse-offer",
   "metadata": {},
   "outputs": [],
   "source": [
    "ising.reset()\n",
    "np.random.seed(123)\n",
    "\n",
    "time = 1\n",
    "steps = 100\n",
    "dt = time / steps\n",
    "for i in range(steps):\n",
    "    ising.update((dt))"
   ]
  },
  {
   "cell_type": "code",
   "execution_count": 75,
   "id": "artificial-ireland",
   "metadata": {
    "scrolled": false
   },
   "outputs": [
    {
     "name": "stderr",
     "output_type": "stream",
     "text": [
      "Computing C: 100%|██████████| 5/5 [00:00<00:00, 3583.65it/s]\n",
      "Computing C_dot: 100%|██████████| 5/5 [00:00<00:00, 5196.11it/s]\n"
     ]
    }
   ],
   "source": [
    "C,C_dot = ising.C(dt)"
   ]
  },
  {
   "cell_type": "code",
   "execution_count": 76,
   "id": "organized-stations",
   "metadata": {},
   "outputs": [
    {
     "name": "stdout",
     "output_type": "stream",
     "text": [
      "[[ 1.          0.7029703  -0.48514851 -0.32673267  0.82178218]\n",
      " [ 0.7029703   1.         -0.5049505  -0.02970297  0.8019802 ]\n",
      " [-0.48514851 -0.5049505   1.          0.52475248 -0.46534653]\n",
      " [-0.32673267 -0.02970297  0.52475248  1.         -0.14851485]\n",
      " [ 0.82178218  0.8019802  -0.46534653 -0.14851485  1.        ]]\n"
     ]
    }
   ],
   "source": [
    "print(C)"
   ]
  },
  {
   "cell_type": "code",
   "execution_count": 74,
   "id": "dutch-hudson",
   "metadata": {
    "scrolled": false
   },
   "outputs": [
    {
     "data": {
      "text/plain": [
       "Text(0.5, 1.0, 'Spin evlolution in time. [$s_i=1$ yellow, $s_i=-1$ blue]')"
      ]
     },
     "execution_count": 74,
     "metadata": {},
     "output_type": "execute_result"
    },
    {
     "data": {
      "image/png": "[encoded data removed]",
      "text/plain": [
       "<Figure size 720x720 with 1 Axes>"
      ]
     },
     "metadata": {
      "needs_background": "light"
     },
     "output_type": "display_data"
    }
   ],
   "source": [
    "plt.figure(figsize=(10,10))\n",
    "indcs = [i*10 for i in range(100)]\n",
    "plt.imshow(ising.history.T[:,:150])\n",
    "plt.xlabel('time')\n",
    "plt.ylabel(r'$s_i$')\n",
    "plt.title(r'Spin evlolution in time. [$s_i=1$ yellow, $s_i=-1$ blue]')\n"
   ]
  },
  {
   "cell_type": "markdown",
   "id": "civil-variable",
   "metadata": {},
   "source": [
    "## Inference"
   ]
  },
  {
   "cell_type": "markdown",
   "id": "romance-angle",
   "metadata": {},
   "source": [
    "### Equations\n",
    "\n",
    "$$\n",
    "\\dot C_{ij} = \\delta t ^{-1} \\cdot [\\langle s_i(t+\\delta t)\\cdot s_j(t) \\rangle_{t} - C_{i,j}] \\\\\n",
    "C_{ij} = \\langle s_i(t)\\cdot s_j(t) \\rangle_{t} \\\\\n",
    "L = \\frac 1 {N_t} \\sum_t\\sum_i \\Big[ h_i\\cdot s_i(t) + \\big[\\sum_{j\\ne i} J_{ij}\\cdot (\\gamma^{-1}\\dot{C_{ij}} + C_{ij})\\big] - \\log \\cosh H_i(t)\\Big]\n",
    "$$\n",
    "\n",
    "<span style=\"color:blue\">C'e' qualcosa di sbagliato in L, la cosa che mi turba maggiormente e' che i parametri \"veri\" utilizzati per generare i dati non massimizzano la funzione, ma manco vagamente. Un secondo problema e' che la L sembra essere non limitata :( .</span>"
   ]
  },
  {
   "cell_type": "code",
   "execution_count": 45,
   "id": "affected-february",
   "metadata": {},
   "outputs": [],
   "source": [
    "from scipy.optimize import minimize\n",
    "\n",
    "def logcosh(x):\n",
    "    #the funcion is even, the trick is to avoid e^x\n",
    "    x = np.abs(x)\n",
    "    return np.log(1/2) + x + np.log(1 + np.exp(-2*x))\n",
    "\n",
    "def L(p,s,C,C_dot,gamma):\n",
    "    steps = len(s)\n",
    "    # p are the params, s is the spins history\n",
    "    N = len(s[0])\n",
    "    J = p[:N*N].reshape((N,N))     # NxN matrix\n",
    "    h = p[N*N:]                    # N vector\n",
    "\n",
    "    \n",
    "    C_i = C_dot/gamma + C\n",
    "    C_i = np.sum(C_i*J,axis = 1)\n",
    "    \n",
    "    L = 0\n",
    "    for S in s: #for each time\n",
    "        H_i = np.dot(J,S) + h \n",
    "        L += np.sum(-logcosh(H_i) + S*h + C_i)\n",
    "    L /= steps\n",
    "    return L\n",
    "\n",
    "#versione ottimizzata della funzione (e' super piu veloce); sfrutta numpy e le matrici\n",
    "def L_mat(p,s,C,C_dot,gamma):\n",
    "    N_t = len(s)\n",
    "    # p are the params, s is the spins history\n",
    "    N = len(s[0])\n",
    "    J_0 = p[:N*N].reshape((N,N))     # NxN matrix\n",
    "    np.fill_diagonal(J_0,0)          #removing the diagonal terms for easier sums\n",
    "    h = p[N*N:]                      # N vector\n",
    "\n",
    "    #first term\n",
    "    a_i = C_dot/gamma + C\n",
    "    a_i = np.sum(a_i*J_0,axis = 1)   #sum over j    \n",
    "    A = np.sum(a_i)\n",
    "    \n",
    "    #second term\n",
    "    H = np.tile(h,(N_t,1))\n",
    "    B = H + np.dot(s,J_0.T)\n",
    "    B = -np.sum(logcosh(B))/N_t\n",
    "    \n",
    "    #third term\n",
    "    C = np.dot(s,h)\n",
    "    C = np.sum(C)/N_t\n",
    "    #print(A,B,C)\n",
    "    L = A + B + C\n",
    "    return L"
   ]
  },
  {
   "cell_type": "code",
   "execution_count": 46,
   "id": "different-arrival",
   "metadata": {},
   "outputs": [
    {
     "data": {
      "text/plain": [
       "1.8675615459909132"
      ]
     },
     "execution_count": 46,
     "metadata": {},
     "output_type": "execute_result"
    }
   ],
   "source": [
    "#little test\n",
    "s_test = np.array([[1,1],[1,1],[1,-1]])\n",
    "h_test = np.array([0.5,-0.5])\n",
    "J_test = np.array([[0,1],[2,0]])\n",
    "C_dot_test = np.array([[-2,0.5],[0.5,-2]])\n",
    "C_test = np.array([[1,0.5],[0.5,1]])\n",
    "p_test = np.concatenate((J_test.flatten(),h_test))\n",
    "L_mat(p_test,s_test,C_test,C_dot_test,1)"
   ]
  },
  {
   "cell_type": "markdown",
   "id": "external-begin",
   "metadata": {},
   "source": [
    "Ho confrontato i risultati con dei calcoli fatti a mano, il problema e' che il risultato sembra coincidere."
   ]
  },
  {
   "cell_type": "markdown",
   "id": "declared-original",
   "metadata": {},
   "source": [
    "## Maximization using scipy (non funzia)"
   ]
  },
  {
   "cell_type": "code",
   "execution_count": 47,
   "id": "latter-binary",
   "metadata": {},
   "outputs": [],
   "source": [
    "#bounds = [(-3,3) for i in range(N*N+N)]\n",
    "\n",
    "p_real = np.concatenate((J.flatten(),h))\n",
    "p_0 = np.random.normal(0,0.1,N*N+N)\n",
    "p_0 = np.ones(N*N+N)\n",
    "p_inf = minimize(L_mat,p_0,args=(ising.history,C,C_dot,gamma)).x"
   ]
  },
  {
   "cell_type": "code",
   "execution_count": 48,
   "id": "instant-index",
   "metadata": {},
   "outputs": [
    {
     "data": {
      "text/plain": [
       "-1683327135.69562"
      ]
     },
     "execution_count": 48,
     "metadata": {},
     "output_type": "execute_result"
    }
   ],
   "source": [
    "L_mat(p_inf,ising.history,C,C_dot,gamma)"
   ]
  },
  {
   "cell_type": "code",
   "execution_count": 49,
   "id": "accessory-banking",
   "metadata": {},
   "outputs": [
    {
     "data": {
      "text/plain": [
       "2.659000093836129"
      ]
     },
     "execution_count": 49,
     "metadata": {},
     "output_type": "execute_result"
    }
   ],
   "source": [
    "L(p_real,ising.history,C,C_dot,gamma)"
   ]
  },
  {
   "cell_type": "markdown",
   "id": "aboriginal-laser",
   "metadata": {},
   "source": [
    "### Gradinent\n",
    "$$\n",
    "\\frac {\\partial L}{\\partial h_i} = \\langle s_i(t) - \\tanh{H_i(t)} \\rangle_t \\\\\n",
    "\\frac {\\partial L}{\\partial J_{ij}} = \\gamma ^ {-1} \\dot{C_{ij}} + C_{ij} - \\langle \\tanh{H_i(t)}s_j(t)  \\rangle_t\n",
    "$$"
   ]
  },
  {
   "cell_type": "code",
   "execution_count": 50,
   "id": "quiet-bachelor",
   "metadata": {},
   "outputs": [],
   "source": [
    "def L_grad(p,s,C,C_dot,gamma):\n",
    "    N_t = len(s)\n",
    "    # p are the params, s is the spins history\n",
    "    N = len(s[0])\n",
    "    J_0 = p[:N*N].reshape((N,N))     # NxN matrix\n",
    "    np.fill_diagonal(J_0,0)          #removing the diagonal terms for easier sums\n",
    "    h = p[N*N:]                      # N vector\n",
    "\n",
    "    dh = np.tile(h,(N_t,1))\n",
    "    dh = dh + np.dot(s,J_0.T)\n",
    "    dh = s - np.tanh(dh)\n",
    "    dh = np.mean(dh,axis=0)\n",
    "    # lambda\n",
    "    \n",
    "    dJ = C_dot/gamma + C\n",
    "    O = np.zeros((N,N))\n",
    "    \n",
    "    #has to be optimized better\n",
    "    for S in s:\n",
    "        H_i = np.tanh(h + np.dot(J_0,S))\n",
    "        O += np.outer(H_i,S)\n",
    "    O /= N_t\n",
    "    dJ -= O\n",
    "    #lambda\n",
    "    \n",
    "    return np.concatenate((dJ.flatten(),dh))"
   ]
  },
  {
   "cell_type": "markdown",
   "id": "persistent-jacob",
   "metadata": {},
   "source": [
    "# Test\n",
    "We compute by hand the partial derivative with respect a single parameter and we confront it with the value computed by the analytic formula"
   ]
  },
  {
   "cell_type": "code",
   "execution_count": 77,
   "id": "prescribed-thing",
   "metadata": {},
   "outputs": [
    {
     "name": "stdout",
     "output_type": "stream",
     "text": [
      "-1.3383519343790657\n",
      "-1.3383532830424372\n"
     ]
    }
   ],
   "source": [
    "param = 14\n",
    "\n",
    "x = np.ones(N*N + N)\n",
    "dx = 0.00001\n",
    "print(L_grad(x,ising.history,C,C_dot,gamma)[param])\n",
    "y_i = L_mat(x,ising.history,C,C_dot,gamma)\n",
    "x[param]+=dx\n",
    "y_f = L_mat(x,ising.history,C,C_dot,gamma)\n",
    "print((y_f-y_i)/dx)"
   ]
  },
  {
   "cell_type": "markdown",
   "id": "returning-boulder",
   "metadata": {},
   "source": [
    "## Optimization"
   ]
  },
  {
   "cell_type": "markdown",
   "id": "cubic-beginning",
   "metadata": {},
   "source": [
    "### SGA"
   ]
  },
  {
   "cell_type": "code",
   "execution_count": 80,
   "id": "sharing-omega",
   "metadata": {
    "scrolled": true
   },
   "outputs": [
    {
     "name": "stderr",
     "output_type": "stream",
     "text": [
      "Optimizing: 100%|██████████| 1000/1000 [00:01<00:00, 547.46it/s]\n"
     ]
    },
    {
     "data": {
      "text/plain": [
       "[<matplotlib.lines.Line2D at 0x7f760727fd30>]"
      ]
     },
     "execution_count": 80,
     "metadata": {},
     "output_type": "execute_result"
    },
    {
     "data": {
      "image/png": "[encoded data removed]",
      "text/plain": [
       "<Figure size 432x288 with 1 Axes>"
      ]
     },
     "metadata": {
      "needs_background": "light"
     },
     "output_type": "display_data"
    }
   ],
   "source": [
    "np.random.seed(201098)\n",
    "mu = -0.2\n",
    "sigma = 0.1\n",
    "x_0 = 1+np.zeros(N*N+N)\n",
    "\n",
    "steps = 1000\n",
    "l_r = 0.1\n",
    "\n",
    "LAMBDA = 0\n",
    "L_list = [L_mat(x_0,ising.history,C,C_dot,gamma)] \n",
    "for i in tqdm(range(steps),desc = 'Optimizing'):\n",
    "    x_0 += l_r * (L_grad(x_0,ising.history,C,C_dot,gamma) - LAMBDA * np.sign(x_0))\n",
    "    L_list.append(L_mat(x_0,ising.history,C,C_dot,gamma))\n",
    "    #if L_list[-2] > L_list[-1]: break \n",
    "plt.plot(L_list)"
   ]
  },
  {
   "cell_type": "code",
   "execution_count": 58,
   "id": "internal-bradley",
   "metadata": {
    "scrolled": true
   },
   "outputs": [
    {
     "data": {
      "text/plain": [
       "<matplotlib.image.AxesImage at 0x7f76077e33d0>"
      ]
     },
     "execution_count": 58,
     "metadata": {},
     "output_type": "execute_result"
    },
    {
     "data": {
      "image/png": "[encoded data removed]",
      "text/plain": [
       "<Figure size 432x288 with 1 Axes>"
      ]
     },
     "metadata": {
      "needs_background": "light"
     },
     "output_type": "display_data"
    }
   ],
   "source": [
    "plt.imshow([x_0])"
   ]
  },
  {
   "cell_type": "code",
   "execution_count": 60,
   "id": "graphic-continuity",
   "metadata": {},
   "outputs": [
    {
     "data": {
      "text/plain": [
       "<matplotlib.image.AxesImage at 0x7f76077b71c0>"
      ]
     },
     "execution_count": 60,
     "metadata": {},
     "output_type": "execute_result"
    },
    {
     "data": {
      "image/png": "[encoded data removed]",
      "text/plain": [
       "<Figure size 432x288 with 1 Axes>"
      ]
     },
     "metadata": {
      "needs_background": "light"
     },
     "output_type": "display_data"
    }
   ],
   "source": [
    "plt.imshow([p_real])"
   ]
  },
  {
   "cell_type": "markdown",
   "id": "objective-november",
   "metadata": {},
   "source": [
    "The functions doesn't have a upper limit and so goes to ininity linearly (indipendently on N)"
   ]
  },
  {
   "cell_type": "markdown",
   "id": "weird-dominant",
   "metadata": {},
   "source": [
    "## SGA mom"
   ]
  },
  {
   "cell_type": "code",
   "execution_count": 67,
   "id": "informal-vietnam",
   "metadata": {},
   "outputs": [
    {
     "name": "stderr",
     "output_type": "stream",
     "text": [
      "Optimizing: 100%|██████████| 999/999 [00:09<00:00, 109.79it/s]\n"
     ]
    },
    {
     "data": {
      "text/plain": [
       "[<matplotlib.lines.Line2D at 0x7f76074c6a30>]"
      ]
     },
     "execution_count": 67,
     "metadata": {},
     "output_type": "execute_result"
    },
    {
     "data": {
      "image/png": "[encoded data removed]",
      "text/plain": [
       "<Figure size 432x288 with 1 Axes>"
      ]
     },
     "metadata": {
      "needs_background": "light"
     },
     "output_type": "display_data"
    }
   ],
   "source": [
    "x_0 = np.zeros(N*N+N)\n",
    "v_0 = np.zeros(N*N+N)\n",
    "\n",
    "steps = 1000\n",
    "eta = 1        #learning rate\n",
    "zeta = 0.3     #friction\n",
    "LAMBDA = 0.5   #penalty\n",
    "\n",
    "L_list = [L_mat(x_0,ising.history,C,C_dot,gamma)] \n",
    "\n",
    "for i in tqdm(range(1,steps),desc = 'Optimizing'):\n",
    "    v_0 = zeta*v_0 + eta/i * (L_grad(x_0,ising.history,C,C_dot,gamma) - LAMBDA * np.sign(x_0))\n",
    "    x_0 += v_0\n",
    "    L_list.append(L_mat(x_0,ising.history,C,C_dot,gamma))\n",
    "    \n",
    "plt.plot(L_list)"
   ]
  },
  {
   "cell_type": "code",
   "execution_count": 69,
   "id": "understanding-university",
   "metadata": {},
   "outputs": [
    {
     "data": {
      "text/plain": [
       "<matplotlib.image.AxesImage at 0x7f7607464d30>"
      ]
     },
     "execution_count": 69,
     "metadata": {},
     "output_type": "execute_result"
    },
    {
     "data": {
      "image/png": "[encoded data removed]",
      "text/plain": [
       "<Figure size 432x288 with 1 Axes>"
      ]
     },
     "metadata": {
      "needs_background": "light"
     },
     "output_type": "display_data"
    }
   ],
   "source": [
    "plt.imshow([x_0])"
   ]
  },
  {
   "cell_type": "code",
   "execution_count": 70,
   "id": "fuzzy-handle",
   "metadata": {},
   "outputs": [
    {
     "data": {
      "text/plain": [
       "<matplotlib.image.AxesImage at 0x7f7607431b20>"
      ]
     },
     "execution_count": 70,
     "metadata": {},
     "output_type": "execute_result"
    },
    {
     "data": {
      "image/png": "[encoded data removed]",
      "text/plain": [
       "<Figure size 432x288 with 1 Axes>"
      ]
     },
     "metadata": {
      "needs_background": "light"
     },
     "output_type": "display_data"
    }
   ],
   "source": [
    "plt.imshow([p_real])"
   ]
  },
  {
   "cell_type": "code",
   "execution_count": 71,
   "id": "checked-theorem",
   "metadata": {},
   "outputs": [
    {
     "data": {
      "text/plain": [
       "<matplotlib.image.AxesImage at 0x7f7607381910>"
      ]
     },
     "execution_count": 71,
     "metadata": {},
     "output_type": "execute_result"
    },
    {
     "data": {
      "image/png": "[encoded data removed]",
      "text/plain": [
       "<Figure size 432x288 with 1 Axes>"
      ]
     },
     "metadata": {
      "needs_background": "light"
     },
     "output_type": "display_data"
    }
   ],
   "source": [
    "plt.imshow([x_0,p_real])"
   ]
  },
  {
   "cell_type": "code",
   "execution_count": null,
   "id": "reliable-tomato",
   "metadata": {},
   "outputs": [],
   "source": []
  }
 ],
 "metadata": {
  "kernelspec": {
   "display_name": "Python 3",
   "language": "python",
   "name": "python3"
  },
  "language_info": {
   "codemirror_mode": {
    "name": "ipython",
    "version": 3
   },
   "file_extension": ".py",
   "mimetype": "text/x-python",
   "name": "python",
   "nbconvert_exporter": "python",
   "pygments_lexer": "ipython3",
   "version": "3.8.8"
  }
 },
 "nbformat": 4,
 "nbformat_minor": 5
}
