{
 "cells": [
  {
   "cell_type": "code",
   "execution_count": 5,
   "id": "ahead-compound",
   "metadata": {},
   "outputs": [],
   "source": [
    "import numpy as np\n",
    "import matplotlib.pyplot as plt\n",
    "from tqdm import tqdm"
   ]
  },
  {
   "cell_type": "markdown",
   "id": "thirty-color",
   "metadata": {},
   "source": [
    "## Kinetic Ising Model simulation\n",
    "Ising model with $N$ spins $\\{-1,1\\}$, cuplings matrix $J_{ij}$ and external field $h_i$. \n",
    "\n",
    "At each time step $\\delta t$ each spin $s_i$ flips with a probability \n",
    "$$p_{flip} = \\gamma \\delta t \\frac 1 2 [1-s_i(t)\\tanh H_i(t)] \\quad with \\quad\n",
    "H_i = h_i + \\sum_{j \\ne i} J_{ij}s_j(t)$$"
   ]
  },
  {
   "cell_type": "code",
   "execution_count": 6,
   "id": "distinct-display",
   "metadata": {},
   "outputs": [],
   "source": [
    "class kinetic_ising:\n",
    "    def __init__(self, N, J, h, gamma = 1):\n",
    "        self.N = N\n",
    "        self.J = np.copy(J)\n",
    "        self.h = np.copy(h)\n",
    "        self.S = -1*np.ones(N)\n",
    "        self.H_i = np.dot(self.J,self.S)+self.h\n",
    "        self.gamma = gamma\n",
    "        self.history = np.copy(self.S)\n",
    "    def comp_H(self):\n",
    "        self.H_i = np.dot(self.J,self.S)+self.h\n",
    "    \n",
    "    def store(self):\n",
    "        self.history = np.vstack((self.history,self.S))\n",
    "    \n",
    "    def update(self,dt):\n",
    "        p = np.random.rand(N)\n",
    "        p_up = dt*self.gamma*0.5*(1-self.S*np.tanh(self.H_i))\n",
    "        #print(self.S)\n",
    "        self.S[p < p_up] *= -1\n",
    "        self.store()\n",
    "        self.comp_H()\n",
    "        \n",
    "    def reset(self):\n",
    "        self.S = -1*np.ones(N)\n",
    "        self.history = np.copy(self.S)\n",
    "    \n",
    "    #if we put this func outside we can also use njit  \n",
    "    def C(self,dt):\n",
    "        # NB : in our case history[i,j] i is the time and j is the spin\n",
    "        C = np.zeros((N,N))\n",
    "        # since C is simmetric we can optimize it ... \n",
    "        for i in tqdm(range(N),desc='Computing C'):\n",
    "            for j in range(N):\n",
    "                C[i,j] = np.mean(self.history[:,i]*self.history[:,j])\n",
    "        \n",
    "        C_dot = np.zeros((N,N))\n",
    "        for i in tqdm(range(N),desc='Computing C_dot'):\n",
    "            for j in range(N):\n",
    "                C_dot[i,j] = np.mean(self.history[1:,i]*self.history[:-1,j])\n",
    "        \n",
    "        C_dot -= C\n",
    "        C_dot /= dt\n",
    "        \n",
    "        return C,C_dot\n",
    "    \n",
    "                "
   ]
  },
  {
   "cell_type": "code",
   "execution_count": 7,
   "id": "romantic-treasurer",
   "metadata": {},
   "outputs": [],
   "source": [
    "np.random.seed(123)\n",
    "#number of spins\n",
    "N = 5\n",
    "\n",
    "#interactions matrix\n",
    "mu = 0\n",
    "sigma = 1\n",
    "J = np.random.normal(mu,sigma,(N,N))\n",
    "np.fill_diagonal(J,0) #j != i, \n",
    "#external field\n",
    "mu = -0.2\n",
    "sigma = 0.1\n",
    "h = np.random.normal(mu,sigma,N)\n",
    "\n",
    "gamma = 1\n",
    "ising = kinetic_ising(N,J,h,gamma)"
   ]
  },
  {
   "cell_type": "code",
   "execution_count": 8,
   "id": "adverse-offer",
   "metadata": {},
   "outputs": [
    {
     "name": "stderr",
     "output_type": "stream",
     "text": [
      "100%|██████████| 100000/100000 [01:25<00:00, 1164.34it/s]\n"
     ]
    }
   ],
   "source": [
    "ising.reset()\n",
    "np.random.seed(123)\n",
    "\n",
    "time = 10\n",
    "steps = 100_000\n",
    "dt = time / steps\n",
    "for i in tqdm(range(steps)):\n",
    "    ising.update((dt))"
   ]
  },
  {
   "cell_type": "code",
   "execution_count": 9,
   "id": "artificial-ireland",
   "metadata": {
    "scrolled": false
   },
   "outputs": [
    {
     "name": "stderr",
     "output_type": "stream",
     "text": [
      "Computing C: 100%|██████████| 5/5 [00:00<00:00, 376.62it/s]\n",
      "Computing C_dot: 100%|██████████| 5/5 [00:00<00:00, 406.64it/s]\n"
     ]
    }
   ],
   "source": [
    "C,C_dot = ising.C(dt)"
   ]
  },
  {
   "cell_type": "code",
   "execution_count": 10,
   "id": "expired-mumbai",
   "metadata": {},
   "outputs": [
    {
     "name": "stdout",
     "output_type": "stream",
     "text": [
      "[[ 1.          0.24216758  0.09076909 -0.46916531 -0.32556674]\n",
      " [ 0.24216758  1.         -0.29894701  0.28866711  0.29818702]\n",
      " [ 0.09076909 -0.29894701  1.         -0.14132859 -0.23416766]\n",
      " [-0.46916531  0.28866711 -0.14132859  1.          0.56184438]\n",
      " [-0.32556674  0.29818702 -0.23416766  0.56184438  1.        ]]\n"
     ]
    }
   ],
   "source": [
    "print(C)"
   ]
  },
  {
   "cell_type": "code",
   "execution_count": 11,
   "id": "dutch-hudson",
   "metadata": {
    "scrolled": false
   },
   "outputs": [
    {
     "data": {
      "text/plain": [
       "Text(0.5, 1.0, 'Spin evlolution in time. [$s_i=1$ yellow, $s_i=-1$ blue]')"
      ]
     },
     "execution_count": 11,
     "metadata": {},
     "output_type": "execute_result"
    },
    {
     "data": {
      "image/png": "[encoded data removed]",
      "text/plain": [
       "<Figure size 720x720 with 1 Axes>"
      ]
     },
     "metadata": {
      "needs_background": "light"
     },
     "output_type": "display_data"
    }
   ],
   "source": [
    "plt.figure(figsize=(10,10))\n",
    "indcs = [i*10 for i in range(100)]\n",
    "plt.imshow(ising.history.T[:,:150])\n",
    "plt.xlabel('time')\n",
    "plt.ylabel(r'$s_i$')\n",
    "plt.title(r'Spin evlolution in time. [$s_i=1$ yellow, $s_i=-1$ blue]')\n"
   ]
  },
  {
   "cell_type": "markdown",
   "id": "civil-variable",
   "metadata": {},
   "source": [
    "## Inference"
   ]
  },
  {
   "cell_type": "markdown",
   "id": "romance-angle",
   "metadata": {},
   "source": [
    "### Equations\n",
    "\n",
    "$$\n",
    "\\dot C_{ij} = \\delta t ^{-1} \\cdot [\\langle s_i(t+\\delta t)\\cdot s_j(t) \\rangle_{t} - C_{i,j}] \\\\\n",
    "C_{ij} = \\langle s_i(t)\\cdot s_j(t) \\rangle_{t} \\\\\n",
    "L = \\frac 1 {N_t} \\sum_t\\sum_i \\Big[ h_i\\cdot s_i(t) + \\big[\\sum_{j\\ne i} J_{ij}\\cdot (\\gamma^{-1}\\dot{C_{ij}} + C_{ij})\\big] - \\log \\cosh H_i(t)\\Big]\n",
    "$$\n",
    "\n",
    "<span style=\"color:blue\">C'e' qualcosa di sbagliato in L, la cosa che mi turba maggiormente e' che i parametri \"veri\" utilizzati per generare i dati non massimizzano la funzione, ma manco vagamente. Un secondo problema e' che la L sembra essere non limitata :( .</span>"
   ]
  },
  {
   "cell_type": "code",
   "execution_count": 12,
   "id": "affected-february",
   "metadata": {},
   "outputs": [],
   "source": [
    "from scipy.optimize import minimize\n",
    "\n",
    "def logcosh(x):\n",
    "    #the funcion is even, the trick is to avoid e^x\n",
    "    x = np.abs(x)\n",
    "    return np.log(1/2) + x + np.log(1 + np.exp(-2*x))\n",
    "\n",
    "def L(p,s,C,C_dot,gamma):\n",
    "    steps = len(s)\n",
    "    # p are the params, s is the spins history\n",
    "    N = len(s[0])\n",
    "    J = p[:N*N].reshape((N,N))     # NxN matrix\n",
    "    h = p[N*N:]                    # N vector\n",
    "\n",
    "    \n",
    "    C_i = C_dot/gamma + C\n",
    "    C_i = np.sum(C_i*J,axis = 1)\n",
    "    \n",
    "    L = 0\n",
    "    for S in s: #for each time\n",
    "        H_i = np.dot(J,S) + h \n",
    "        L += np.sum(-logcosh(H_i) + S*h + C_i)\n",
    "    L /= steps\n",
    "    return L\n",
    "\n",
    "#versione ottimizzata della funzione (e' super piu veloce); sfrutta numpy e le matrici\n",
    "def L_mat(p,s,C,C_dot,gamma):\n",
    "    N_t = len(s)\n",
    "    # p are the params, s is the spins history\n",
    "    N = len(s[0])\n",
    "    J_0 = p[:N*N].reshape((N,N))     # NxN matrix\n",
    "    np.fill_diagonal(J_0,0)          #removing the diagonal terms for easier sums\n",
    "    h = p[N*N:]                      # N vector\n",
    "\n",
    "    #first term\n",
    "    a_i = C_dot/gamma + C\n",
    "    a_i = np.sum(a_i*J_0,axis = 1)   #sum over j    \n",
    "    A = np.sum(a_i)\n",
    "    \n",
    "    #second term\n",
    "    H = np.tile(h,(N_t,1))\n",
    "    B = H + np.dot(s,J_0.T)\n",
    "    B = -np.sum(logcosh(B))/N_t\n",
    "    \n",
    "    #third term\n",
    "    C = np.dot(s,h)\n",
    "    C = np.sum(C)/N_t\n",
    "    #print(A,B,C)\n",
    "    L = A + B + C\n",
    "    return L"
   ]
  },
  {
   "cell_type": "code",
   "execution_count": 13,
   "id": "different-arrival",
   "metadata": {},
   "outputs": [
    {
     "data": {
      "text/plain": [
       "1.8675615459909132"
      ]
     },
     "execution_count": 13,
     "metadata": {},
     "output_type": "execute_result"
    }
   ],
   "source": [
    "#little test\n",
    "s_test = np.array([[1,1],[1,1],[1,-1]])\n",
    "h_test = np.array([0.5,-0.5])\n",
    "J_test = np.array([[0,1],[2,0]])\n",
    "C_dot_test = np.array([[-2,0.5],[0.5,-2]])\n",
    "C_test = np.array([[1,0.5],[0.5,1]])\n",
    "p_test = np.concatenate((J_test.flatten(),h_test))\n",
    "L_mat(p_test,s_test,C_test,C_dot_test,1)"
   ]
  },
  {
   "cell_type": "markdown",
   "id": "external-begin",
   "metadata": {},
   "source": [
    "Ho confrontato i risultati con dei calcoli fatti a mano, il problema e' che il risultato sembra coincidere."
   ]
  },
  {
   "cell_type": "markdown",
   "id": "declared-original",
   "metadata": {},
   "source": [
    "## Maximization using scipy (non funzia)"
   ]
  },
  {
   "cell_type": "code",
   "execution_count": 14,
   "id": "latter-binary",
   "metadata": {},
   "outputs": [],
   "source": [
    "#bounds = [(-3,3) for i in range(N*N+N)]\n",
    "\n",
    "p_real = np.concatenate((J.flatten(),h))\n",
    "#p_0 = np.random.normal(0,0.1,N*N+N)\n",
    "#p_0 = np.ones(N*N+N)\n",
    "#p_inf = minimize(L_mat,p_0,args=(ising.history,C,C_dot,gamma)).x"
   ]
  },
  {
   "cell_type": "code",
   "execution_count": 15,
   "id": "instant-index",
   "metadata": {},
   "outputs": [],
   "source": [
    "#L_mat(p_inf,ising.history,C,C_dot,gamma)"
   ]
  },
  {
   "cell_type": "code",
   "execution_count": 16,
   "id": "accessory-banking",
   "metadata": {},
   "outputs": [],
   "source": [
    "#L(p_real,ising.history,C,C_dot,gamma)"
   ]
  },
  {
   "cell_type": "markdown",
   "id": "aboriginal-laser",
   "metadata": {},
   "source": [
    "### Gradinent\n",
    "$$\n",
    "\\frac {\\partial L}{\\partial h_i} = \\langle s_i(t) - \\tanh{H_i(t)} \\rangle_t \\\\\n",
    "\\frac {\\partial L}{\\partial J_{ij}} = \\gamma ^ {-1} \\dot{C_{ij}} + C_{ij} - \\langle \\tanh{H_i(t)}s_j(t)  \\rangle_t\n",
    "$$"
   ]
  },
  {
   "cell_type": "code",
   "execution_count": 17,
   "id": "quiet-bachelor",
   "metadata": {},
   "outputs": [],
   "source": [
    "def L_grad(p,s,C,C_dot,gamma):\n",
    "    N_t = len(s)\n",
    "    # p are the params, s is the spins history\n",
    "    N = len(s[0])\n",
    "    J_0 = p[:N*N].reshape((N,N))     # NxN matrix\n",
    "    np.fill_diagonal(J_0,0)          #removing the diagonal terms for easier sums\n",
    "    h = p[N*N:]                      # N vector\n",
    "\n",
    "    dh = np.tile(h,(N_t,1))\n",
    "    dh = dh + np.dot(s,J_0.T)\n",
    "    dh = s - np.tanh(dh)\n",
    "    dh = np.mean(dh,axis=0)\n",
    "    # lambda\n",
    "    \n",
    "    dJ = C_dot/gamma + C\n",
    "    O = np.zeros((N,N))\n",
    "    \n",
    "    #has to be optimized better\n",
    "    for S in s:\n",
    "        H_i = np.tanh(h + np.dot(J_0,S))\n",
    "        O += np.outer(H_i,S)\n",
    "    O /= N_t\n",
    "    dJ -= O\n",
    "    \n",
    "    return np.concatenate((dJ.flatten(),dh))"
   ]
  },
  {
   "cell_type": "markdown",
   "id": "persistent-jacob",
   "metadata": {},
   "source": [
    "# Test\n",
    "We compute by hand the partial derivative with respect a single parameter and we confront it with the value computed by the analytic formula"
   ]
  },
  {
   "cell_type": "code",
   "execution_count": 18,
   "id": "prescribed-thing",
   "metadata": {},
   "outputs": [
    {
     "name": "stdout",
     "output_type": "stream",
     "text": [
      "-0.7923880760880658\n",
      "-0.7923880744442612\n"
     ]
    }
   ],
   "source": [
    "param = 14\n",
    "\n",
    "x = np.ones(N*N + N) + 10\n",
    "dx = 0.00001\n",
    "print(L_grad(x,ising.history,C,C_dot,gamma)[param])\n",
    "y_i = L_mat(x,ising.history,C,C_dot,gamma)\n",
    "x[param]+=dx\n",
    "y_f = L_mat(x,ising.history,C,C_dot,gamma)\n",
    "print((y_f-y_i)/dx)"
   ]
  },
  {
   "cell_type": "markdown",
   "id": "returning-boulder",
   "metadata": {},
   "source": [
    "## Optimization"
   ]
  },
  {
   "cell_type": "markdown",
   "id": "cubic-beginning",
   "metadata": {},
   "source": [
    "### SGA"
   ]
  },
  {
   "cell_type": "code",
   "execution_count": 19,
   "id": "sharing-omega",
   "metadata": {
    "scrolled": true
   },
   "outputs": [
    {
     "name": "stderr",
     "output_type": "stream",
     "text": [
      "Optimizing:  41%|████▏     | 414/1000 [08:33<12:06,  1.24s/it]\n"
     ]
    },
    {
     "ename": "KeyboardInterrupt",
     "evalue": "",
     "output_type": "error",
     "traceback": [
      "\u001b[0;31m---------------------------------------------------------------------------\u001b[0m",
      "\u001b[0;31mKeyboardInterrupt\u001b[0m                         Traceback (most recent call last)",
      "\u001b[0;32m<ipython-input-19-05ee502762f5>\u001b[0m in \u001b[0;36m<module>\u001b[0;34m\u001b[0m\n\u001b[1;32m     10\u001b[0m \u001b[0mL_list\u001b[0m \u001b[0;34m=\u001b[0m \u001b[0;34m[\u001b[0m\u001b[0mL_mat\u001b[0m\u001b[0;34m(\u001b[0m\u001b[0mx_0\u001b[0m\u001b[0;34m,\u001b[0m\u001b[0mising\u001b[0m\u001b[0;34m.\u001b[0m\u001b[0mhistory\u001b[0m\u001b[0;34m,\u001b[0m\u001b[0mC\u001b[0m\u001b[0;34m,\u001b[0m\u001b[0mC_dot\u001b[0m\u001b[0;34m,\u001b[0m\u001b[0mgamma\u001b[0m\u001b[0;34m)\u001b[0m\u001b[0;34m]\u001b[0m\u001b[0;34m\u001b[0m\u001b[0;34m\u001b[0m\u001b[0m\n\u001b[1;32m     11\u001b[0m \u001b[0;32mfor\u001b[0m \u001b[0mi\u001b[0m \u001b[0;32min\u001b[0m \u001b[0mtqdm\u001b[0m\u001b[0;34m(\u001b[0m\u001b[0mrange\u001b[0m\u001b[0;34m(\u001b[0m\u001b[0msteps\u001b[0m\u001b[0;34m)\u001b[0m\u001b[0;34m,\u001b[0m\u001b[0mdesc\u001b[0m \u001b[0;34m=\u001b[0m \u001b[0;34m'Optimizing'\u001b[0m\u001b[0;34m)\u001b[0m\u001b[0;34m:\u001b[0m\u001b[0;34m\u001b[0m\u001b[0;34m\u001b[0m\u001b[0m\n\u001b[0;32m---> 12\u001b[0;31m     \u001b[0mx_0\u001b[0m \u001b[0;34m+=\u001b[0m \u001b[0ml_r\u001b[0m \u001b[0;34m*\u001b[0m \u001b[0;34m(\u001b[0m\u001b[0mL_grad\u001b[0m\u001b[0;34m(\u001b[0m\u001b[0mx_0\u001b[0m\u001b[0;34m,\u001b[0m\u001b[0mising\u001b[0m\u001b[0;34m.\u001b[0m\u001b[0mhistory\u001b[0m\u001b[0;34m,\u001b[0m\u001b[0mC\u001b[0m\u001b[0;34m,\u001b[0m\u001b[0mC_dot\u001b[0m\u001b[0;34m,\u001b[0m\u001b[0mgamma\u001b[0m\u001b[0;34m)\u001b[0m \u001b[0;34m-\u001b[0m \u001b[0mLAMBDA\u001b[0m \u001b[0;34m*\u001b[0m \u001b[0mnp\u001b[0m\u001b[0;34m.\u001b[0m\u001b[0msign\u001b[0m\u001b[0;34m(\u001b[0m\u001b[0mx_0\u001b[0m\u001b[0;34m)\u001b[0m\u001b[0;34m)\u001b[0m\u001b[0;34m\u001b[0m\u001b[0;34m\u001b[0m\u001b[0m\n\u001b[0m\u001b[1;32m     13\u001b[0m     \u001b[0mL_list\u001b[0m\u001b[0;34m.\u001b[0m\u001b[0mappend\u001b[0m\u001b[0;34m(\u001b[0m\u001b[0mL_mat\u001b[0m\u001b[0;34m(\u001b[0m\u001b[0mx_0\u001b[0m\u001b[0;34m,\u001b[0m\u001b[0mising\u001b[0m\u001b[0;34m.\u001b[0m\u001b[0mhistory\u001b[0m\u001b[0;34m,\u001b[0m\u001b[0mC\u001b[0m\u001b[0;34m,\u001b[0m\u001b[0mC_dot\u001b[0m\u001b[0;34m,\u001b[0m\u001b[0mgamma\u001b[0m\u001b[0;34m)\u001b[0m\u001b[0;34m)\u001b[0m\u001b[0;34m\u001b[0m\u001b[0;34m\u001b[0m\u001b[0m\n\u001b[1;32m     14\u001b[0m     \u001b[0;31m#if L_list[-2] > L_list[-1]: break\u001b[0m\u001b[0;34m\u001b[0m\u001b[0;34m\u001b[0m\u001b[0;34m\u001b[0m\u001b[0m\n",
      "\u001b[0;32m<ipython-input-17-bb8b1886f509>\u001b[0m in \u001b[0;36mL_grad\u001b[0;34m(p, s, C, C_dot, gamma)\u001b[0m\n\u001b[1;32m     19\u001b[0m     \u001b[0;32mfor\u001b[0m \u001b[0mS\u001b[0m \u001b[0;32min\u001b[0m \u001b[0ms\u001b[0m\u001b[0;34m:\u001b[0m\u001b[0;34m\u001b[0m\u001b[0;34m\u001b[0m\u001b[0m\n\u001b[1;32m     20\u001b[0m         \u001b[0mH_i\u001b[0m \u001b[0;34m=\u001b[0m \u001b[0mnp\u001b[0m\u001b[0;34m.\u001b[0m\u001b[0mtanh\u001b[0m\u001b[0;34m(\u001b[0m\u001b[0mh\u001b[0m \u001b[0;34m+\u001b[0m \u001b[0mnp\u001b[0m\u001b[0;34m.\u001b[0m\u001b[0mdot\u001b[0m\u001b[0;34m(\u001b[0m\u001b[0mJ_0\u001b[0m\u001b[0;34m,\u001b[0m\u001b[0mS\u001b[0m\u001b[0;34m)\u001b[0m\u001b[0;34m)\u001b[0m\u001b[0;34m\u001b[0m\u001b[0;34m\u001b[0m\u001b[0m\n\u001b[0;32m---> 21\u001b[0;31m         \u001b[0mO\u001b[0m \u001b[0;34m+=\u001b[0m \u001b[0mnp\u001b[0m\u001b[0;34m.\u001b[0m\u001b[0mouter\u001b[0m\u001b[0;34m(\u001b[0m\u001b[0mH_i\u001b[0m\u001b[0;34m,\u001b[0m\u001b[0mS\u001b[0m\u001b[0;34m)\u001b[0m\u001b[0;34m\u001b[0m\u001b[0;34m\u001b[0m\u001b[0m\n\u001b[0m\u001b[1;32m     22\u001b[0m     \u001b[0mO\u001b[0m \u001b[0;34m/=\u001b[0m \u001b[0mN_t\u001b[0m\u001b[0;34m\u001b[0m\u001b[0;34m\u001b[0m\u001b[0m\n\u001b[1;32m     23\u001b[0m     \u001b[0mdJ\u001b[0m \u001b[0;34m-=\u001b[0m \u001b[0mO\u001b[0m\u001b[0;34m\u001b[0m\u001b[0;34m\u001b[0m\u001b[0m\n",
      "\u001b[0;32m<__array_function__ internals>\u001b[0m in \u001b[0;36mouter\u001b[0;34m(*args, **kwargs)\u001b[0m\n",
      "\u001b[0;32m~/anaconda3/envs/mag/lib/python3.8/site-packages/numpy/core/numeric.py\u001b[0m in \u001b[0;36mouter\u001b[0;34m(a, b, out)\u001b[0m\n\u001b[1;32m    907\u001b[0m     \u001b[0ma\u001b[0m \u001b[0;34m=\u001b[0m \u001b[0masarray\u001b[0m\u001b[0;34m(\u001b[0m\u001b[0ma\u001b[0m\u001b[0;34m)\u001b[0m\u001b[0;34m\u001b[0m\u001b[0;34m\u001b[0m\u001b[0m\n\u001b[1;32m    908\u001b[0m     \u001b[0mb\u001b[0m \u001b[0;34m=\u001b[0m \u001b[0masarray\u001b[0m\u001b[0;34m(\u001b[0m\u001b[0mb\u001b[0m\u001b[0;34m)\u001b[0m\u001b[0;34m\u001b[0m\u001b[0;34m\u001b[0m\u001b[0m\n\u001b[0;32m--> 909\u001b[0;31m     \u001b[0;32mreturn\u001b[0m \u001b[0mmultiply\u001b[0m\u001b[0;34m(\u001b[0m\u001b[0ma\u001b[0m\u001b[0;34m.\u001b[0m\u001b[0mravel\u001b[0m\u001b[0;34m(\u001b[0m\u001b[0;34m)\u001b[0m\u001b[0;34m[\u001b[0m\u001b[0;34m:\u001b[0m\u001b[0;34m,\u001b[0m \u001b[0mnewaxis\u001b[0m\u001b[0;34m]\u001b[0m\u001b[0;34m,\u001b[0m \u001b[0mb\u001b[0m\u001b[0;34m.\u001b[0m\u001b[0mravel\u001b[0m\u001b[0;34m(\u001b[0m\u001b[0;34m)\u001b[0m\u001b[0;34m[\u001b[0m\u001b[0mnewaxis\u001b[0m\u001b[0;34m,\u001b[0m \u001b[0;34m:\u001b[0m\u001b[0;34m]\u001b[0m\u001b[0;34m,\u001b[0m \u001b[0mout\u001b[0m\u001b[0;34m)\u001b[0m\u001b[0;34m\u001b[0m\u001b[0;34m\u001b[0m\u001b[0m\n\u001b[0m\u001b[1;32m    910\u001b[0m \u001b[0;34m\u001b[0m\u001b[0m\n\u001b[1;32m    911\u001b[0m \u001b[0;34m\u001b[0m\u001b[0m\n",
      "\u001b[0;31mKeyboardInterrupt\u001b[0m: "
     ]
    }
   ],
   "source": [
    "np.random.seed(201098)\n",
    "mu = -0.2\n",
    "sigma = 0.1\n",
    "x_0 = 1+np.zeros(N*N+N)\n",
    "\n",
    "steps = 1000\n",
    "l_r = 0.1\n",
    "\n",
    "LAMBDA = 0\n",
    "L_list = [L_mat(x_0,ising.history,C,C_dot,gamma)] \n",
    "for i in tqdm(range(steps),desc = 'Optimizing'):\n",
    "    x_0 += l_r * (L_grad(x_0,ising.history,C,C_dot,gamma) - LAMBDA * np.sign(x_0))\n",
    "    L_list.append(L_mat(x_0,ising.history,C,C_dot,gamma))\n",
    "    #if L_list[-2] > L_list[-1]: break \n",
    "plt.plot(L_list)"
   ]
  },
  {
   "cell_type": "code",
   "execution_count": null,
   "id": "statutory-aluminum",
   "metadata": {
    "scrolled": true
   },
   "outputs": [],
   "source": [
    "plt.imshow([x_0])"
   ]
  },
  {
   "cell_type": "code",
   "execution_count": null,
   "id": "partial-hunger",
   "metadata": {
    "scrolled": true
   },
   "outputs": [],
   "source": [
    "plt.imshow([p_real])"
   ]
  },
  {
   "cell_type": "code",
   "execution_count": null,
   "id": "diverse-fantasy",
   "metadata": {},
   "outputs": [],
   "source": [
    "for (i,j) in zip(x_0,p_real):\n",
    "    print(i,j)"
   ]
  },
  {
   "cell_type": "markdown",
   "id": "objective-november",
   "metadata": {},
   "source": [
    "The functions doesn't have a upper limit and so goes to ininity linearly (indipendently on N)"
   ]
  },
  {
   "cell_type": "markdown",
   "id": "weird-dominant",
   "metadata": {},
   "source": [
    "## SGA mom"
   ]
  },
  {
   "cell_type": "code",
   "execution_count": null,
   "id": "informal-vietnam",
   "metadata": {},
   "outputs": [],
   "source": [
    "x_0 = np.zeros(N*N+N)\n",
    "v_0 = np.zeros(N*N+N)\n",
    "\n",
    "steps = 1000\n",
    "eta = 1        #learning rate\n",
    "zeta = 0.3     #friction\n",
    "LAMBDA = 0.2   #penalty\n",
    "\n",
    "L_list = [L_mat(x_0,ising.history,C,C_dot,gamma)] \n",
    "\n",
    "for i in tqdm(range(1,steps),desc = 'Optimizing'):\n",
    "    v_0 = zeta*v_0 + eta/i * (L_grad(x_0,ising.history,C,C_dot,gamma) - LAMBDA * np.sign(x_0))\n",
    "    x_0 += v_0\n",
    "    L_list.append(L_mat(x_0,ising.history,C,C_dot,gamma))\n",
    "    \n",
    "plt.plot(L_list)"
   ]
  },
  {
   "cell_type": "code",
   "execution_count": null,
   "id": "understanding-university",
   "metadata": {},
   "outputs": [],
   "source": [
    "plt.imshow([x_0])"
   ]
  },
  {
   "cell_type": "code",
   "execution_count": null,
   "id": "fuzzy-handle",
   "metadata": {},
   "outputs": [],
   "source": [
    "plt.imshow([p_real])"
   ]
  },
  {
   "cell_type": "code",
   "execution_count": null,
   "id": "federal-frame",
   "metadata": {},
   "outputs": [],
   "source": [
    "plt.imshow([x_0,p_real])"
   ]
  },
  {
   "cell_type": "code",
   "execution_count": null,
   "id": "confused-medium",
   "metadata": {},
   "outputs": [],
   "source": [
    "plt.figure(figsize = (9,9))\n",
    "for dim in range(30):\n",
    "    x = 2+ np.zeros(N*N + N)\n",
    "    L = []\n",
    "    for i in range(100):\n",
    "        L.append(L_mat(x,ising.history,C,C_dot,gamma))\n",
    "        x[dim] -= 0.2\n",
    "\n",
    "    plt.plot(L,label = dim)\n",
    "plt.legend()"
   ]
  },
  {
   "cell_type": "code",
   "execution_count": null,
   "id": "whole-driver",
   "metadata": {},
   "outputs": [],
   "source": []
  }
 ],
 "metadata": {
  "kernelspec": {
   "display_name": "Python 3",
   "language": "python",
   "name": "python3"
  },
  "language_info": {
   "codemirror_mode": {
    "name": "ipython",
    "version": 3
   },
   "file_extension": ".py",
   "mimetype": "text/x-python",
   "name": "python",
   "nbconvert_exporter": "python",
   "pygments_lexer": "ipython3",
   "version": "3.8.8"
  }
 },
 "nbformat": 4,
 "nbformat_minor": 5
}
